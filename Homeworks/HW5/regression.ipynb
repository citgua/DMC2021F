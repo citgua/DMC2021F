{
 "cells": [
  {
   "cell_type": "markdown",
   "id": "uniform-layer",
   "metadata": {},
   "source": [
    "# 1. Regression: Estimating the parameters of a Normally-distributed sample"
   ]
  },
  {
   "cell_type": "code",
   "execution_count": 1,
   "id": "light-lexington",
   "metadata": {},
   "outputs": [],
   "source": [
    "url='https://www.cdslab.org/recipes/programming/regression-gaussian-data/dataFull.csv'"
   ]
  },
  {
   "cell_type": "code",
   "execution_count": 2,
   "id": "ultimate-extra",
   "metadata": {},
   "outputs": [],
   "source": [
    "import pandas as pd\n",
    "import matplotlib.pyplot as plt \n",
    "import numpy as np"
   ]
  },
  {
   "cell_type": "code",
   "execution_count": 3,
   "id": "explicit-kinase",
   "metadata": {},
   "outputs": [],
   "source": [
    "#downloads file from given url\n",
    "def download(url, fpath):\n",
    "    import requests\n",
    "    r = requests.get(url)\n",
    "    with open(fpath, 'wb') as f:\n",
    "        f.write(r.content)\n",
    "    return None\n",
    "\n",
    "#fetching data file\n",
    "def fetchDatafromWeb(filePath,url):\n",
    "    download(url,filePath)\n",
    "    return filePath"
   ]
  },
  {
   "cell_type": "code",
   "execution_count": 4,
   "id": "impaired-trial",
   "metadata": {
    "scrolled": true
   },
   "outputs": [
    {
     "data": {
      "text/plain": [
       "'./dataFull.txt'"
      ]
     },
     "execution_count": 4,
     "metadata": {},
     "output_type": "execute_result"
    }
   ],
   "source": [
    "fetchDatafromWeb(filePath=\"./dataFull.txt\", url=url)"
   ]
  },
  {
   "cell_type": "code",
   "execution_count": 5,
   "id": "acquired-helena",
   "metadata": {
    "scrolled": false
   },
   "outputs": [
    {
     "data": {
      "text/html": [
       "<div>\n",
       "<style scoped>\n",
       "    .dataframe tbody tr th:only-of-type {\n",
       "        vertical-align: middle;\n",
       "    }\n",
       "\n",
       "    .dataframe tbody tr th {\n",
       "        vertical-align: top;\n",
       "    }\n",
       "\n",
       "    .dataframe thead th {\n",
       "        text-align: right;\n",
       "    }\n",
       "</style>\n",
       "<table border=\"1\" class=\"dataframe\">\n",
       "  <thead>\n",
       "    <tr style=\"text-align: right;\">\n",
       "      <th></th>\n",
       "      <th>variable</th>\n",
       "    </tr>\n",
       "  </thead>\n",
       "  <tbody>\n",
       "    <tr>\n",
       "      <th>0</th>\n",
       "      <td>3.48980</td>\n",
       "    </tr>\n",
       "    <tr>\n",
       "      <th>1</th>\n",
       "      <td>0.20435</td>\n",
       "    </tr>\n",
       "    <tr>\n",
       "      <th>2</th>\n",
       "      <td>0.96737</td>\n",
       "    </tr>\n",
       "    <tr>\n",
       "      <th>3</th>\n",
       "      <td>0.62652</td>\n",
       "    </tr>\n",
       "    <tr>\n",
       "      <th>4</th>\n",
       "      <td>0.59974</td>\n",
       "    </tr>\n",
       "    <tr>\n",
       "      <th>...</th>\n",
       "      <td>...</td>\n",
       "    </tr>\n",
       "    <tr>\n",
       "      <th>19995</th>\n",
       "      <td>1.46810</td>\n",
       "    </tr>\n",
       "    <tr>\n",
       "      <th>19996</th>\n",
       "      <td>1.47140</td>\n",
       "    </tr>\n",
       "    <tr>\n",
       "      <th>19997</th>\n",
       "      <td>0.21037</td>\n",
       "    </tr>\n",
       "    <tr>\n",
       "      <th>19998</th>\n",
       "      <td>1.85800</td>\n",
       "    </tr>\n",
       "    <tr>\n",
       "      <th>19999</th>\n",
       "      <td>2.90140</td>\n",
       "    </tr>\n",
       "  </tbody>\n",
       "</table>\n",
       "<p>20000 rows × 1 columns</p>\n",
       "</div>"
      ],
      "text/plain": [
       "       variable\n",
       "0       3.48980\n",
       "1       0.20435\n",
       "2       0.96737\n",
       "3       0.62652\n",
       "4       0.59974\n",
       "...         ...\n",
       "19995   1.46810\n",
       "19996   1.47140\n",
       "19997   0.21037\n",
       "19998   1.85800\n",
       "19999   2.90140\n",
       "\n",
       "[20000 rows x 1 columns]"
      ]
     },
     "execution_count": 5,
     "metadata": {},
     "output_type": "execute_result"
    }
   ],
   "source": [
    "df=pd.read_csv(\"./dataFull.txt\")\n",
    "df"
   ]
  },
  {
   "cell_type": "code",
   "execution_count": 6,
   "id": "electoral-necessity",
   "metadata": {
    "scrolled": true
   },
   "outputs": [
    {
     "data": {
      "image/png": "[encoded data removed]",
      "text/plain": [
       "<Figure size 432x288 with 1 Axes>"
      ]
     },
     "metadata": {
      "needs_background": "light"
     },
     "output_type": "display_data"
    }
   ],
   "source": [
    "import matplotlib.pyplot as plt\n",
    "import numpy as np\n",
    "%matplotlib inline\n",
    "\n",
    "\"\"\" Plotting data points \"\"\"\n",
    "x =df[\"variable\"]\n",
    "\n",
    "plt.hist(x, density=True, bins=500) # density=False would make counts\n",
    "#plt.axis([0, 40, 0, 500]) \n",
    "plt.ylabel('Count')\n",
    "plt.xlabel('X');\n",
    "#normal dist - positive skew"
   ]
  },
  {
   "cell_type": "code",
   "execution_count": 7,
   "id": "requested-somewhere",
   "metadata": {},
   "outputs": [
    {
     "data": {
      "image/png": "[encoded data removed]",
      "text/plain": [
       "<Figure size 640x460 with 1 Axes>"
      ]
     },
     "metadata": {
      "needs_background": "light"
     },
     "output_type": "display_data"
    }
   ],
   "source": [
    "\"\"\" Plotting data points: Example shown in class 11/1/2021 \"\"\"\n",
    "fig = plt.figure(figsize =(6.4,4.6), dpi =100)\n",
    "ax =plt.subplot()\n",
    "ax.hist (df.values\n",
    "         , bins =1000\n",
    "         , linewidth =0\n",
    "         , histtype ='stepfilled')\n",
    "plt.show()"
   ]
  },
  {
   "cell_type": "code",
   "execution_count": 46,
   "id": "practical-salem",
   "metadata": {},
   "outputs": [],
   "source": [
    "ldata= np.log(x) #normalizing log data\n",
    "lavg= np.mean(ldata) #log avg\n",
    "lstd= np.std(ldata)  #log std"
   ]
  },
  {
   "cell_type": "code",
   "execution_count": 9,
   "id": "exclusive-tobacco",
   "metadata": {
    "scrolled": true
   },
   "outputs": [
    {
     "data": {
      "image/png": "[encoded data removed]",
      "text/plain": [
       "<Figure size 432x288 with 1 Axes>"
      ]
     },
     "metadata": {
      "needs_background": "light"
     },
     "output_type": "display_data"
    }
   ],
   "source": [
    "\"\"\" Normalized Distribution \"\"\"\n",
    "plt.hist(ldata) # density=False would make counts\n",
    "#plt.axis([0, 40, 0, 500]) \n",
    "plt.ylabel('Count')\n",
    "plt.xlabel('Log(x)');\n",
    "#normal dist - positive skew\n",
    "#mean =0, std =0.4\n",
    "#standard scale\n",
    "#fitting - to prove "
   ]
  },
  {
   "cell_type": "code",
   "execution_count": 36,
   "id": "acquired-married",
   "metadata": {
    "scrolled": false
   },
   "outputs": [
    {
     "data": {
      "image/png": "[encoded data removed]",
      "text/plain": [
       "<Figure size 640x460 with 1 Axes>"
      ]
     },
     "metadata": {
      "needs_background": "light"
     },
     "output_type": "display_data"
    }
   ],
   "source": [
    "\"\"\" Normalized dist: Example shown in class 11/1/2021 \"\"\"\n",
    "fig = plt.figure(figsize =(6.4,4.6), dpi =100)\n",
    "ax =plt.subplot()\n",
    "ax.hist (ldata\n",
    "         , bins =100\n",
    "         , linewidth =0\n",
    "         , histtype ='stepfilled'\n",
    "         , density = True)\n",
    "plt.show()"
   ]
  },
  {
   "cell_type": "code",
   "execution_count": 29,
   "id": "worldwide-counter",
   "metadata": {},
   "outputs": [
    {
     "data": {
      "text/plain": [
       "18378.770664093452"
      ]
     },
     "execution_count": 29,
     "metadata": {},
     "output_type": "execute_result"
    }
   ],
   "source": [
    "np.log(np.sqrt(2*np.pi))*len(ldata)"
   ]
  },
  {
   "cell_type": "code",
   "execution_count": 56,
   "id": "chicken-clearing",
   "metadata": {},
   "outputs": [],
   "source": [
    "def getLogLike(param):\n",
    "    \"\"\" Return the log likehood of the gaussian- dist data \n",
    "        given the vector parameters \"params\"=[avg, log(std)] \"\"\"\n",
    "    avg = param[0]\n",
    "    std = np.exp(param[1])\n",
    "    ndata = len(ndata)\n",
    "    \n",
    "    lprob = - param[1]*ndata \\\n",
    "            - 18378.770664093452 \\\n",
    "            - np.sum((ldata -avg)**2) / (2* std**2)\n",
    "    return lprob"
   ]
  },
  {
   "cell_type": "code",
   "execution_count": 37,
   "id": "detected-pharmacology",
   "metadata": {},
   "outputs": [
    {
     "data": {
      "text/plain": [
       "-51969.42828542445"
      ]
     },
     "execution_count": 37,
     "metadata": {},
     "output_type": "execute_result"
    }
   ],
   "source": [
    " getLogLike(param=[-3,1])"
   ]
  },
  {
   "cell_type": "code",
   "execution_count": 31,
   "id": "pursuant-consequence",
   "metadata": {},
   "outputs": [
    {
     "data": {
      "text/plain": [
       "-28415.219118590452"
      ]
     },
     "execution_count": 31,
     "metadata": {},
     "output_type": "execute_result"
    }
   ],
   "source": [
    " getLogLike(param=[0,0])"
   ]
  },
  {
   "cell_type": "code",
   "execution_count": 57,
   "id": "comic-variety",
   "metadata": {},
   "outputs": [],
   "source": [
    "def negLogLike(param): return -getLogLike(param)"
   ]
  },
  {
   "cell_type": "code",
   "execution_count": 58,
   "id": "conceptual-topic",
   "metadata": {
    "scrolled": true
   },
   "outputs": [
    {
     "name": "stdout",
     "output_type": "stream",
     "text": [
      "Optimization terminated successfully.\n",
      "         Current function value: 28414.741170\n",
      "         Iterations: 42\n",
      "         Function evaluations: 80\n",
      "Returns[μ= 0.006407819368933237,σ= 0.001827686254820341]\n"
     ]
    }
   ],
   "source": [
    "from scipy.optimize import fmin\n",
    "bestParams = fmin (func = negLogLike, x0= [-3,1])\n",
    "print('Returns[{}= {},{}= {}]'.format(chr(956),bestParams[0],chr(963),bestParams[1]))"
   ]
  },
  {
   "cell_type": "code",
   "execution_count": 55,
   "id": "perceived-warren",
   "metadata": {},
   "outputs": [
    {
     "name": "stdout",
     "output_type": "stream",
     "text": [
      "Optimization terminated successfully.\n",
      "         Current function value: 28414.741166\n",
      "         Iterations: 42\n",
      "         Function evaluations: 81\n"
     ]
    },
    {
     "data": {
      "text/plain": [
       "array([0.00640884, 1.00182681])"
      ]
     },
     "execution_count": 55,
     "metadata": {},
     "output_type": "execute_result"
    }
   ],
   "source": [
    "\"Checking with norm.logpdf\"\n",
    "def gaussian(params):\n",
    "    mean = params[0]   \n",
    "    std = params[1]\n",
    "\n",
    "    # Calculate negative log likelihood\n",
    "    nll = -np.sum(norm.logpdf(ldata, loc=mean, scale=std))\n",
    "\n",
    "    return nll\n",
    "fmin (func = gaussian, x0= [-3,1])"
   ]
  },
  {
   "cell_type": "code",
   "execution_count": 38,
   "id": "european-utilization",
   "metadata": {
    "scrolled": false
   },
   "outputs": [
    {
     "data": {
      "image/png": "[encoded data removed]",
      "text/plain": [
       "<Figure size 640x460 with 1 Axes>"
      ]
     },
     "metadata": {
      "needs_background": "light"
     },
     "output_type": "display_data"
    }
   ],
   "source": [
    "from scipy.stats import norm\n",
    "testx= np.linspace(-4,4,200)\n",
    "testy= norm.pdf(testx)\n",
    "\n",
    "fig = plt.figure(figsize =(6.4,4.6), dpi =100)\n",
    "ax =plt.subplot()\n",
    "\n",
    "h = ax.hist (ldata\n",
    "         , bins =100\n",
    "         , linewidth =0\n",
    "         , histtype ='stepfilled'\n",
    "         , density = True)\n",
    "\n",
    "h = ax.plot ( testx\n",
    "            , testy\n",
    "            , color = 'r'\n",
    "            , linewidth = 2\n",
    "            )"
   ]
  },
  {
   "cell_type": "markdown",
   "id": "facial-appearance",
   "metadata": {},
   "source": [
    "Attempt below to find log likelihoods: came back negative "
   ]
  },
  {
   "cell_type": "code",
   "execution_count": 76,
   "id": "velvet-samuel",
   "metadata": {
    "scrolled": true
   },
   "outputs": [
    {
     "name": "stdout",
     "output_type": "stream",
     "text": [
      "Maximum loglikelihood = -28414.74114861546 \n",
      "found for best mean guess=0.006428052181286503\n"
     ]
    },
    {
     "data": {
      "image/png": "[encoded data removed]",
      "text/plain": [
       "<Figure size 432x288 with 1 Axes>"
      ]
     },
     "metadata": {
      "needs_background": "light"
     },
     "output_type": "display_data"
    }
   ],
   "source": [
    "# Array of avg guesses, centered on normal mean, spread out +/- by normal std\n",
    "low_guess = lavg - 4*lstd\n",
    "high_guess = lavg + 4*lstd\n",
    "avg_guesses = np.linspace(low_guess, high_guess, 101)\n",
    "\n",
    "# Compute the loglikelihood for each model created from each guess value\n",
    "llhs = []\n",
    "for n in avg_guesses:\n",
    "    llhs.append(getLogLike([n, np.log(lstd)])) \n",
    "# Find the best guess by using logical indexing, then plot the result\n",
    "best_avg = avg_guesses[llhs.index(max(llhs))]\n",
    "print('Maximum loglikelihood = {} \\nfound for best mean guess={}'.format(max(llhs),best_avg))\n",
    "\n",
    "plt.plot(avg_guesses, llhs)\n",
    "plt.title(r'Log-Likelihood')\n",
    "plt.xlabel(r'$\\mu$')\n",
    "plt.grid()"
   ]
  }
 ],
 "metadata": {
  "kernelspec": {
   "display_name": "Python 3",
   "language": "python",
   "name": "python3"
  },
  "language_info": {
   "codemirror_mode": {
    "name": "ipython",
    "version": 3
   },
   "file_extension": ".py",
   "mimetype": "text/x-python",
   "name": "python",
   "nbconvert_exporter": "python",
   "pygments_lexer": "ipython3",
   "version": "3.8.5"
  }
 },
 "nbformat": 4,
 "nbformat_minor": 5
}
