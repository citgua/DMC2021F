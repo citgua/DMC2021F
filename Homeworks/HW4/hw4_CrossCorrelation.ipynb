{
 "cells": [
  {
   "cell_type": "markdown",
   "id": "judicial-likelihood",
   "metadata": {},
   "source": [
    "# Computing the cross-correlation of two data attributes."
   ]
  },
  {
   "cell_type": "markdown",
   "id": "molecular-cookbook",
   "metadata": {},
   "source": [
    "Preparing data from globalLandTempHist file:"
   ]
  },
  {
   "cell_type": "code",
   "execution_count": 1,
   "id": "ultimate-extra",
   "metadata": {},
   "outputs": [],
   "source": [
    "import pandas as pd\n",
    "import matplotlib.pyplot as plt \n",
    "import numpy as np"
   ]
  },
  {
   "cell_type": "code",
   "execution_count": 2,
   "id": "explicit-kinase",
   "metadata": {},
   "outputs": [],
   "source": [
    "#downloads file from given url\n",
    "def download(url, fpath):\n",
    "    import requests\n",
    "    r = requests.get(url)\n",
    "    with open(fpath, 'wb') as f:\n",
    "        f.write(r.content)\n",
    "    return None\n",
    "\n",
    "#fetching data file\n",
    "def fetchDatafromWeb(filePath,url):\n",
    "    download(url,filePath)\n",
    "    return filePath"
   ]
  },
  {
   "cell_type": "code",
   "execution_count": 3,
   "id": "lined-satisfaction",
   "metadata": {},
   "outputs": [],
   "source": [
    "url='https://www.cdslab.org/recipes/programming/stat-covmat/globalLandTempHist.txt'"
   ]
  },
  {
   "cell_type": "code",
   "execution_count": 4,
   "id": "impaired-trial",
   "metadata": {
    "scrolled": true
   },
   "outputs": [
    {
     "data": {
      "text/plain": [
       "'./globalLandTempHist.txt'"
      ]
     },
     "execution_count": 4,
     "metadata": {},
     "output_type": "execute_result"
    }
   ],
   "source": [
    "fetchDatafromWeb(filePath=\"./globalLandTempHist.txt\", url=url)"
   ]
  },
  {
   "cell_type": "code",
   "execution_count": 5,
   "id": "acquired-helena",
   "metadata": {
    "scrolled": false
   },
   "outputs": [
    {
     "name": "stderr",
     "output_type": "stream",
     "text": [
      "<ipython-input-5-47d4f53eae7c>:1: ParserWarning: Falling back to the 'python' engine because the 'c' engine does not support regex separators (separators > 1 char and different from '\\s+' are interpreted as regex); you can avoid this warning by specifying engine='python'.\n",
      "  df=pd.read_csv('./globalLandTempHist.txt', \", \")\n"
     ]
    },
    {
     "data": {
      "text/html": [
       "<div>\n",
       "<style scoped>\n",
       "    .dataframe tbody tr th:only-of-type {\n",
       "        vertical-align: middle;\n",
       "    }\n",
       "\n",
       "    .dataframe tbody tr th {\n",
       "        vertical-align: top;\n",
       "    }\n",
       "\n",
       "    .dataframe thead th {\n",
       "        text-align: right;\n",
       "    }\n",
       "</style>\n",
       "<table border=\"1\" class=\"dataframe\">\n",
       "  <thead>\n",
       "    <tr style=\"text-align: right;\">\n",
       "      <th></th>\n",
       "      <th>year</th>\n",
       "      <th>anomaly</th>\n",
       "    </tr>\n",
       "  </thead>\n",
       "  <tbody>\n",
       "    <tr>\n",
       "      <th>0</th>\n",
       "      <td>1743.846154</td>\n",
       "      <td>-1.131</td>\n",
       "    </tr>\n",
       "    <tr>\n",
       "      <th>1</th>\n",
       "      <td>1743.923077</td>\n",
       "      <td>NaN</td>\n",
       "    </tr>\n",
       "    <tr>\n",
       "      <th>2</th>\n",
       "      <td>1744.076923</td>\n",
       "      <td>NaN</td>\n",
       "    </tr>\n",
       "    <tr>\n",
       "      <th>3</th>\n",
       "      <td>1744.153846</td>\n",
       "      <td>NaN</td>\n",
       "    </tr>\n",
       "    <tr>\n",
       "      <th>4</th>\n",
       "      <td>1744.230769</td>\n",
       "      <td>NaN</td>\n",
       "    </tr>\n",
       "    <tr>\n",
       "      <th>...</th>\n",
       "      <td>...</td>\n",
       "      <td>...</td>\n",
       "    </tr>\n",
       "    <tr>\n",
       "      <th>3234</th>\n",
       "      <td>2013.384615</td>\n",
       "      <td>0.813</td>\n",
       "    </tr>\n",
       "    <tr>\n",
       "      <th>3235</th>\n",
       "      <td>2013.461538</td>\n",
       "      <td>1.088</td>\n",
       "    </tr>\n",
       "    <tr>\n",
       "      <th>3236</th>\n",
       "      <td>2013.538462</td>\n",
       "      <td>0.671</td>\n",
       "    </tr>\n",
       "    <tr>\n",
       "      <th>3237</th>\n",
       "      <td>2013.615385</td>\n",
       "      <td>0.919</td>\n",
       "    </tr>\n",
       "    <tr>\n",
       "      <th>3238</th>\n",
       "      <td>2013.692308</td>\n",
       "      <td>1.950</td>\n",
       "    </tr>\n",
       "  </tbody>\n",
       "</table>\n",
       "<p>3239 rows × 2 columns</p>\n",
       "</div>"
      ],
      "text/plain": [
       "             year  anomaly\n",
       "0     1743.846154   -1.131\n",
       "1     1743.923077      NaN\n",
       "2     1744.076923      NaN\n",
       "3     1744.153846      NaN\n",
       "4     1744.230769      NaN\n",
       "...           ...      ...\n",
       "3234  2013.384615    0.813\n",
       "3235  2013.461538    1.088\n",
       "3236  2013.538462    0.671\n",
       "3237  2013.615385    0.919\n",
       "3238  2013.692308    1.950\n",
       "\n",
       "[3239 rows x 2 columns]"
      ]
     },
     "execution_count": 5,
     "metadata": {},
     "output_type": "execute_result"
    }
   ],
   "source": [
    "df=pd.read_csv('./globalLandTempHist.txt', \", \")\n",
    "df"
   ]
  },
  {
   "cell_type": "code",
   "execution_count": 6,
   "id": "frank-location",
   "metadata": {
    "scrolled": true
   },
   "outputs": [
    {
     "data": {
      "text/html": [
       "<div>\n",
       "<style scoped>\n",
       "    .dataframe tbody tr th:only-of-type {\n",
       "        vertical-align: middle;\n",
       "    }\n",
       "\n",
       "    .dataframe tbody tr th {\n",
       "        vertical-align: top;\n",
       "    }\n",
       "\n",
       "    .dataframe thead th {\n",
       "        text-align: right;\n",
       "    }\n",
       "</style>\n",
       "<table border=\"1\" class=\"dataframe\">\n",
       "  <thead>\n",
       "    <tr style=\"text-align: right;\">\n",
       "      <th></th>\n",
       "      <th>year</th>\n",
       "      <th>anomaly</th>\n",
       "    </tr>\n",
       "  </thead>\n",
       "  <tbody>\n",
       "    <tr>\n",
       "      <th>0</th>\n",
       "      <td>1743.846154</td>\n",
       "      <td>-1.131</td>\n",
       "    </tr>\n",
       "    <tr>\n",
       "      <th>5</th>\n",
       "      <td>1744.307692</td>\n",
       "      <td>1.926</td>\n",
       "    </tr>\n",
       "    <tr>\n",
       "      <th>6</th>\n",
       "      <td>1744.384615</td>\n",
       "      <td>-1.115</td>\n",
       "    </tr>\n",
       "    <tr>\n",
       "      <th>7</th>\n",
       "      <td>1744.461538</td>\n",
       "      <td>-0.235</td>\n",
       "    </tr>\n",
       "    <tr>\n",
       "      <th>8</th>\n",
       "      <td>1744.538462</td>\n",
       "      <td>-0.430</td>\n",
       "    </tr>\n",
       "    <tr>\n",
       "      <th>...</th>\n",
       "      <td>...</td>\n",
       "      <td>...</td>\n",
       "    </tr>\n",
       "    <tr>\n",
       "      <th>3234</th>\n",
       "      <td>2013.384615</td>\n",
       "      <td>0.813</td>\n",
       "    </tr>\n",
       "    <tr>\n",
       "      <th>3235</th>\n",
       "      <td>2013.461538</td>\n",
       "      <td>1.088</td>\n",
       "    </tr>\n",
       "    <tr>\n",
       "      <th>3236</th>\n",
       "      <td>2013.538462</td>\n",
       "      <td>0.671</td>\n",
       "    </tr>\n",
       "    <tr>\n",
       "      <th>3237</th>\n",
       "      <td>2013.615385</td>\n",
       "      <td>0.919</td>\n",
       "    </tr>\n",
       "    <tr>\n",
       "      <th>3238</th>\n",
       "      <td>2013.692308</td>\n",
       "      <td>1.950</td>\n",
       "    </tr>\n",
       "  </tbody>\n",
       "</table>\n",
       "<p>3167 rows × 2 columns</p>\n",
       "</div>"
      ],
      "text/plain": [
       "             year  anomaly\n",
       "0     1743.846154   -1.131\n",
       "5     1744.307692    1.926\n",
       "6     1744.384615   -1.115\n",
       "7     1744.461538   -0.235\n",
       "8     1744.538462   -0.430\n",
       "...           ...      ...\n",
       "3234  2013.384615    0.813\n",
       "3235  2013.461538    1.088\n",
       "3236  2013.538462    0.671\n",
       "3237  2013.615385    0.919\n",
       "3238  2013.692308    1.950\n",
       "\n",
       "[3167 rows x 2 columns]"
      ]
     },
     "execution_count": 6,
     "metadata": {},
     "output_type": "execute_result"
    }
   ],
   "source": [
    "\"\"\" Droping rows with values NaN \"\"\"\n",
    "ndf=df.dropna()\n",
    "ndf"
   ]
  },
  {
   "cell_type": "markdown",
   "id": "spread-thompson",
   "metadata": {},
   "source": [
    "Preparing data from annual-co2-emissions-per-country csv file:"
   ]
  },
  {
   "cell_type": "code",
   "execution_count": 7,
   "id": "competent-income",
   "metadata": {},
   "outputs": [],
   "source": [
    "url_2=\"https://www.cdslab.org/recipes/programming/stat-crosscorr/annual-co2-emissions-per-country.csv\""
   ]
  },
  {
   "cell_type": "code",
   "execution_count": 8,
   "id": "eligible-cleveland",
   "metadata": {},
   "outputs": [
    {
     "data": {
      "text/plain": [
       "'./annual-co2-emissions-per-country.csv'"
      ]
     },
     "execution_count": 8,
     "metadata": {},
     "output_type": "execute_result"
    }
   ],
   "source": [
    "fetchDatafromWeb(filePath=\"./annual-co2-emissions-per-country.csv\", url=url_2)"
   ]
  },
  {
   "cell_type": "code",
   "execution_count": 9,
   "id": "native-century",
   "metadata": {
    "scrolled": false
   },
   "outputs": [
    {
     "data": {
      "text/html": [
       "<div>\n",
       "<style scoped>\n",
       "    .dataframe tbody tr th:only-of-type {\n",
       "        vertical-align: middle;\n",
       "    }\n",
       "\n",
       "    .dataframe tbody tr th {\n",
       "        vertical-align: top;\n",
       "    }\n",
       "\n",
       "    .dataframe thead th {\n",
       "        text-align: right;\n",
       "    }\n",
       "</style>\n",
       "<table border=\"1\" class=\"dataframe\">\n",
       "  <thead>\n",
       "    <tr style=\"text-align: right;\">\n",
       "      <th></th>\n",
       "      <th>Entity</th>\n",
       "      <th>Code</th>\n",
       "      <th>Year</th>\n",
       "      <th>Annual CO2 emissions</th>\n",
       "    </tr>\n",
       "  </thead>\n",
       "  <tbody>\n",
       "    <tr>\n",
       "      <th>0</th>\n",
       "      <td>Afghanistan</td>\n",
       "      <td>AFG</td>\n",
       "      <td>1949</td>\n",
       "      <td>14656</td>\n",
       "    </tr>\n",
       "    <tr>\n",
       "      <th>1</th>\n",
       "      <td>Afghanistan</td>\n",
       "      <td>AFG</td>\n",
       "      <td>1950</td>\n",
       "      <td>84272</td>\n",
       "    </tr>\n",
       "    <tr>\n",
       "      <th>2</th>\n",
       "      <td>Afghanistan</td>\n",
       "      <td>AFG</td>\n",
       "      <td>1951</td>\n",
       "      <td>91600</td>\n",
       "    </tr>\n",
       "    <tr>\n",
       "      <th>3</th>\n",
       "      <td>Afghanistan</td>\n",
       "      <td>AFG</td>\n",
       "      <td>1952</td>\n",
       "      <td>91600</td>\n",
       "    </tr>\n",
       "    <tr>\n",
       "      <th>4</th>\n",
       "      <td>Afghanistan</td>\n",
       "      <td>AFG</td>\n",
       "      <td>1953</td>\n",
       "      <td>106256</td>\n",
       "    </tr>\n",
       "    <tr>\n",
       "      <th>...</th>\n",
       "      <td>...</td>\n",
       "      <td>...</td>\n",
       "      <td>...</td>\n",
       "      <td>...</td>\n",
       "    </tr>\n",
       "    <tr>\n",
       "      <th>23398</th>\n",
       "      <td>Zimbabwe</td>\n",
       "      <td>ZWE</td>\n",
       "      <td>2015</td>\n",
       "      <td>12170460</td>\n",
       "    </tr>\n",
       "    <tr>\n",
       "      <th>23399</th>\n",
       "      <td>Zimbabwe</td>\n",
       "      <td>ZWE</td>\n",
       "      <td>2016</td>\n",
       "      <td>10814761</td>\n",
       "    </tr>\n",
       "    <tr>\n",
       "      <th>23400</th>\n",
       "      <td>Zimbabwe</td>\n",
       "      <td>ZWE</td>\n",
       "      <td>2017</td>\n",
       "      <td>10246841</td>\n",
       "    </tr>\n",
       "    <tr>\n",
       "      <th>23401</th>\n",
       "      <td>Zimbabwe</td>\n",
       "      <td>ZWE</td>\n",
       "      <td>2018</td>\n",
       "      <td>11340575</td>\n",
       "    </tr>\n",
       "    <tr>\n",
       "      <th>23402</th>\n",
       "      <td>Zimbabwe</td>\n",
       "      <td>ZWE</td>\n",
       "      <td>2019</td>\n",
       "      <td>10374287</td>\n",
       "    </tr>\n",
       "  </tbody>\n",
       "</table>\n",
       "<p>23403 rows × 4 columns</p>\n",
       "</div>"
      ],
      "text/plain": [
       "            Entity Code  Year  Annual CO2 emissions\n",
       "0      Afghanistan  AFG  1949                 14656\n",
       "1      Afghanistan  AFG  1950                 84272\n",
       "2      Afghanistan  AFG  1951                 91600\n",
       "3      Afghanistan  AFG  1952                 91600\n",
       "4      Afghanistan  AFG  1953                106256\n",
       "...            ...  ...   ...                   ...\n",
       "23398     Zimbabwe  ZWE  2015              12170460\n",
       "23399     Zimbabwe  ZWE  2016              10814761\n",
       "23400     Zimbabwe  ZWE  2017              10246841\n",
       "23401     Zimbabwe  ZWE  2018              11340575\n",
       "23402     Zimbabwe  ZWE  2019              10374287\n",
       "\n",
       "[23403 rows x 4 columns]"
      ]
     },
     "execution_count": 9,
     "metadata": {},
     "output_type": "execute_result"
    }
   ],
   "source": [
    "edf=pd.read_csv(\"./annual-co2-emissions-per-country.csv\")\n",
    "edf"
   ]
  },
  {
   "cell_type": "markdown",
   "id": "isolated-genre",
   "metadata": {},
   "source": [
    "1. Make a visualization of the global carbon emission data in the CSV file in the above by summing over the contributions of all countries per year."
   ]
  },
  {
   "cell_type": "code",
   "execution_count": 10,
   "id": "systematic-license",
   "metadata": {
    "scrolled": false
   },
   "outputs": [
    {
     "data": {
      "text/plain": [
       "Year\n",
       "1750        46752640\n",
       "1751        46752640\n",
       "1752        46770960\n",
       "1753        46770960\n",
       "1754        46789280\n",
       "            ...     \n",
       "2015    123857876504\n",
       "2016    123937769195\n",
       "2017    125484862373\n",
       "2018    127794927382\n",
       "2019    127617539705\n",
       "Name: Annual CO2 emissions, Length: 270, dtype: int64"
      ]
     },
     "execution_count": 10,
     "metadata": {},
     "output_type": "execute_result"
    }
   ],
   "source": [
    "sumdf =edf.groupby('Year')['Annual CO2 emissions'].sum()\n",
    "sumdf"
   ]
  },
  {
   "cell_type": "code",
   "execution_count": 11,
   "id": "optimum-ocean",
   "metadata": {
    "scrolled": true
   },
   "outputs": [
    {
     "data": {
      "image/png": "[encoded data removed]",
      "text/plain": [
       "<Figure size 432x288 with 1 Axes>"
      ]
     },
     "metadata": {
      "needs_background": "light"
     },
     "output_type": "display_data"
    }
   ],
   "source": [
    "x=sumdf.index  #Year\n",
    "y=sumdf.values #CO_2 emissions\n",
    "\n",
    "ax = plt.gca()\n",
    "ax.set_xlabel(\"Year\")\n",
    "ax.set_ylabel(\"Global CO_2 Emissions\")\n",
    "ax.axis ([1750, 2010, -0.1e11, 1.3e11]) #xmin, xmax, ymin, ymax\n",
    "ax.plot(x,y,\n",
    "        color='r',\n",
    "        linewidth=1.0\n",
    "       )\n",
    "plt.show()"
   ]
  },
  {
   "cell_type": "markdown",
   "id": "confused-claim",
   "metadata": {},
   "source": [
    "2. Now consider the contribution of individual countries in this zero-filled CSV dataset and make a stacked plot of the countries over the years."
   ]
  },
  {
   "cell_type": "code",
   "execution_count": 12,
   "id": "capable-dispatch",
   "metadata": {},
   "outputs": [],
   "source": [
    "url_3 =\"https://www.cdslab.org/recipes/programming/stat-crosscorr/annual-co-emissions-by-region.csv\""
   ]
  },
  {
   "cell_type": "code",
   "execution_count": 13,
   "id": "above-stock",
   "metadata": {},
   "outputs": [
    {
     "data": {
      "text/plain": [
       "'./annual-co-emissions-by-region.csv'"
      ]
     },
     "execution_count": 13,
     "metadata": {},
     "output_type": "execute_result"
    }
   ],
   "source": [
    "fetchDatafromWeb(filePath=\"./annual-co-emissions-by-region.csv\", url=url_3)"
   ]
  },
  {
   "cell_type": "code",
   "execution_count": 14,
   "id": "portable-affiliation",
   "metadata": {
    "scrolled": false
   },
   "outputs": [
    {
     "data": {
      "text/html": [
       "<div>\n",
       "<style scoped>\n",
       "    .dataframe tbody tr th:only-of-type {\n",
       "        vertical-align: middle;\n",
       "    }\n",
       "\n",
       "    .dataframe tbody tr th {\n",
       "        vertical-align: top;\n",
       "    }\n",
       "\n",
       "    .dataframe thead th {\n",
       "        text-align: right;\n",
       "    }\n",
       "</style>\n",
       "<table border=\"1\" class=\"dataframe\">\n",
       "  <thead>\n",
       "    <tr style=\"text-align: right;\">\n",
       "      <th></th>\n",
       "      <th>Entity</th>\n",
       "      <th>Code</th>\n",
       "      <th>Year</th>\n",
       "      <th>Annual CO2 emissions (zero filled)</th>\n",
       "    </tr>\n",
       "  </thead>\n",
       "  <tbody>\n",
       "    <tr>\n",
       "      <th>0</th>\n",
       "      <td>Afghanistan</td>\n",
       "      <td>AFG</td>\n",
       "      <td>1750</td>\n",
       "      <td>0</td>\n",
       "    </tr>\n",
       "    <tr>\n",
       "      <th>1</th>\n",
       "      <td>Afghanistan</td>\n",
       "      <td>AFG</td>\n",
       "      <td>1751</td>\n",
       "      <td>0</td>\n",
       "    </tr>\n",
       "    <tr>\n",
       "      <th>2</th>\n",
       "      <td>Afghanistan</td>\n",
       "      <td>AFG</td>\n",
       "      <td>1752</td>\n",
       "      <td>0</td>\n",
       "    </tr>\n",
       "    <tr>\n",
       "      <th>3</th>\n",
       "      <td>Afghanistan</td>\n",
       "      <td>AFG</td>\n",
       "      <td>1753</td>\n",
       "      <td>0</td>\n",
       "    </tr>\n",
       "    <tr>\n",
       "      <th>4</th>\n",
       "      <td>Afghanistan</td>\n",
       "      <td>AFG</td>\n",
       "      <td>1754</td>\n",
       "      <td>0</td>\n",
       "    </tr>\n",
       "    <tr>\n",
       "      <th>...</th>\n",
       "      <td>...</td>\n",
       "      <td>...</td>\n",
       "      <td>...</td>\n",
       "      <td>...</td>\n",
       "    </tr>\n",
       "    <tr>\n",
       "      <th>64255</th>\n",
       "      <td>Zimbabwe</td>\n",
       "      <td>ZWE</td>\n",
       "      <td>2015</td>\n",
       "      <td>12170460</td>\n",
       "    </tr>\n",
       "    <tr>\n",
       "      <th>64256</th>\n",
       "      <td>Zimbabwe</td>\n",
       "      <td>ZWE</td>\n",
       "      <td>2016</td>\n",
       "      <td>10814761</td>\n",
       "    </tr>\n",
       "    <tr>\n",
       "      <th>64257</th>\n",
       "      <td>Zimbabwe</td>\n",
       "      <td>ZWE</td>\n",
       "      <td>2017</td>\n",
       "      <td>10246841</td>\n",
       "    </tr>\n",
       "    <tr>\n",
       "      <th>64258</th>\n",
       "      <td>Zimbabwe</td>\n",
       "      <td>ZWE</td>\n",
       "      <td>2018</td>\n",
       "      <td>11340575</td>\n",
       "    </tr>\n",
       "    <tr>\n",
       "      <th>64259</th>\n",
       "      <td>Zimbabwe</td>\n",
       "      <td>ZWE</td>\n",
       "      <td>2019</td>\n",
       "      <td>10374287</td>\n",
       "    </tr>\n",
       "  </tbody>\n",
       "</table>\n",
       "<p>64260 rows × 4 columns</p>\n",
       "</div>"
      ],
      "text/plain": [
       "            Entity Code  Year  Annual CO2 emissions (zero filled)\n",
       "0      Afghanistan  AFG  1750                                   0\n",
       "1      Afghanistan  AFG  1751                                   0\n",
       "2      Afghanistan  AFG  1752                                   0\n",
       "3      Afghanistan  AFG  1753                                   0\n",
       "4      Afghanistan  AFG  1754                                   0\n",
       "...            ...  ...   ...                                 ...\n",
       "64255     Zimbabwe  ZWE  2015                            12170460\n",
       "64256     Zimbabwe  ZWE  2016                            10814761\n",
       "64257     Zimbabwe  ZWE  2017                            10246841\n",
       "64258     Zimbabwe  ZWE  2018                            11340575\n",
       "64259     Zimbabwe  ZWE  2019                            10374287\n",
       "\n",
       "[64260 rows x 4 columns]"
      ]
     },
     "execution_count": 14,
     "metadata": {},
     "output_type": "execute_result"
    }
   ],
   "source": [
    "edf=pd.read_csv(\"./annual-co-emissions-by-region.csv\")\n",
    "edf"
   ]
  },
  {
   "cell_type": "code",
   "execution_count": 17,
   "id": "toxic-password",
   "metadata": {},
   "outputs": [],
   "source": [
    "\"\"\" countries from plot provided in Assignment \"\"\"\n",
    "\n",
    "regions=[\"United States\",'North America (excl. USA)','EU-28', 'Europe (excl. EU-28)', \n",
    "           'Africa', 'Asia (excl. China & India)', 'China', 'India', 'South America', \n",
    "           'Oceania', 'International transport'] "
   ]
  },
  {
   "cell_type": "code",
   "execution_count": 18,
   "id": "purple-relevance",
   "metadata": {},
   "outputs": [],
   "source": [
    "\"\"\" creating dict of regions: time series of Co2 emmisions \"\"\"\n",
    "y_vals = {}\n",
    "for r in regions:\n",
    "        subdf=edf.loc[edf['Entity'] == r]\n",
    "        y_vals[r]= subdf.set_index('Year')[\"Annual CO2 emissions (zero filled)\"]"
   ]
  },
  {
   "cell_type": "code",
   "execution_count": 19,
   "id": "placed-breeding",
   "metadata": {},
   "outputs": [
    {
     "data": {
      "image/png": "[encoded data removed]",
      "text/plain": [
       "<Figure size 648x504 with 1 Axes>"
      ]
     },
     "metadata": {
      "needs_background": "light"
     },
     "output_type": "display_data"
    }
   ],
   "source": [
    "#y.values() corresponds to the y values for each region in lst\n",
    "x=y_vals[\"United States\"].index #years\n",
    "fig, ax =plt.subplots(figsize=(9, 7))\n",
    "\n",
    "ax.set_xlabel(\"Year\", fontsize=14)\n",
    "plt.xticks(fontsize=12)\n",
    "ax.set_ylabel(\"Global CO_2 Emissions Per Region\", fontsize=14)\n",
    "plt.yticks(fontsize=12)\n",
    "ax.axis ([1750, 2010, 0.0e10, 3.5e10]) #xmin, xmax, ymin, ymax\n",
    "\n",
    "ax.stackplot(x,y_vals.values(),labels=y_vals.keys())\n",
    "ax.legend(loc='upper left')\n",
    "plt.show()"
   ]
  },
  {
   "cell_type": "markdown",
   "id": "impressed-badge",
   "metadata": {},
   "source": [
    "3a. Generating the average annual temperature anomaly data "
   ]
  },
  {
   "cell_type": "code",
   "execution_count": 20,
   "id": "sexual-brown",
   "metadata": {
    "scrolled": true
   },
   "outputs": [
    {
     "name": "stderr",
     "output_type": "stream",
     "text": [
      "/usr/local/lib/python3.8/dist-packages/pandas/core/series.py:4479: SettingWithCopyWarning: \n",
      "A value is trying to be set on a copy of a slice from a DataFrame\n",
      "\n",
      "See the caveats in the documentation: https://pandas.pydata.org/pandas-docs/stable/user_guide/indexing.html#returning-a-view-versus-a-copy\n",
      "  return super().replace(\n"
     ]
    },
    {
     "data": {
      "text/html": [
       "<div>\n",
       "<style scoped>\n",
       "    .dataframe tbody tr th:only-of-type {\n",
       "        vertical-align: middle;\n",
       "    }\n",
       "\n",
       "    .dataframe tbody tr th {\n",
       "        vertical-align: top;\n",
       "    }\n",
       "\n",
       "    .dataframe thead th {\n",
       "        text-align: right;\n",
       "    }\n",
       "</style>\n",
       "<table border=\"1\" class=\"dataframe\">\n",
       "  <thead>\n",
       "    <tr style=\"text-align: right;\">\n",
       "      <th></th>\n",
       "      <th>year</th>\n",
       "      <th>anomaly</th>\n",
       "    </tr>\n",
       "  </thead>\n",
       "  <tbody>\n",
       "    <tr>\n",
       "      <th>0</th>\n",
       "      <td>1743.0</td>\n",
       "      <td>-1.131</td>\n",
       "    </tr>\n",
       "    <tr>\n",
       "      <th>5</th>\n",
       "      <td>1744.0</td>\n",
       "      <td>1.926</td>\n",
       "    </tr>\n",
       "    <tr>\n",
       "      <th>6</th>\n",
       "      <td>1744.0</td>\n",
       "      <td>-1.115</td>\n",
       "    </tr>\n",
       "    <tr>\n",
       "      <th>7</th>\n",
       "      <td>1744.0</td>\n",
       "      <td>-0.235</td>\n",
       "    </tr>\n",
       "    <tr>\n",
       "      <th>8</th>\n",
       "      <td>1744.0</td>\n",
       "      <td>-0.430</td>\n",
       "    </tr>\n",
       "    <tr>\n",
       "      <th>...</th>\n",
       "      <td>...</td>\n",
       "      <td>...</td>\n",
       "    </tr>\n",
       "    <tr>\n",
       "      <th>3234</th>\n",
       "      <td>2013.0</td>\n",
       "      <td>0.813</td>\n",
       "    </tr>\n",
       "    <tr>\n",
       "      <th>3235</th>\n",
       "      <td>2013.0</td>\n",
       "      <td>1.088</td>\n",
       "    </tr>\n",
       "    <tr>\n",
       "      <th>3236</th>\n",
       "      <td>2013.0</td>\n",
       "      <td>0.671</td>\n",
       "    </tr>\n",
       "    <tr>\n",
       "      <th>3237</th>\n",
       "      <td>2013.0</td>\n",
       "      <td>0.919</td>\n",
       "    </tr>\n",
       "    <tr>\n",
       "      <th>3238</th>\n",
       "      <td>2013.0</td>\n",
       "      <td>1.950</td>\n",
       "    </tr>\n",
       "  </tbody>\n",
       "</table>\n",
       "<p>3167 rows × 2 columns</p>\n",
       "</div>"
      ],
      "text/plain": [
       "        year  anomaly\n",
       "0     1743.0   -1.131\n",
       "5     1744.0    1.926\n",
       "6     1744.0   -1.115\n",
       "7     1744.0   -0.235\n",
       "8     1744.0   -0.430\n",
       "...      ...      ...\n",
       "3234  2013.0    0.813\n",
       "3235  2013.0    1.088\n",
       "3236  2013.0    0.671\n",
       "3237  2013.0    0.919\n",
       "3238  2013.0    1.950\n",
       "\n",
       "[3167 rows x 2 columns]"
      ]
     },
     "execution_count": 20,
     "metadata": {},
     "output_type": "execute_result"
    }
   ],
   "source": [
    "\"\"\" Replacing real number values in the \"year\" column to whole year values \"\"\"\n",
    "import math\n",
    "for year in ndf[\"year\"].values:\n",
    "    whole_yr=math.trunc(year)\n",
    "    ndf[\"year\"].replace({year:whole_yr}, inplace=True)\n",
    "ndf"
   ]
  },
  {
   "cell_type": "code",
   "execution_count": 21,
   "id": "boring-reduction",
   "metadata": {
    "scrolled": false
   },
   "outputs": [
    {
     "data": {
      "text/html": [
       "<div>\n",
       "<style scoped>\n",
       "    .dataframe tbody tr th:only-of-type {\n",
       "        vertical-align: middle;\n",
       "    }\n",
       "\n",
       "    .dataframe tbody tr th {\n",
       "        vertical-align: top;\n",
       "    }\n",
       "\n",
       "    .dataframe thead th {\n",
       "        text-align: right;\n",
       "    }\n",
       "</style>\n",
       "<table border=\"1\" class=\"dataframe\">\n",
       "  <thead>\n",
       "    <tr style=\"text-align: right;\">\n",
       "      <th></th>\n",
       "      <th>year</th>\n",
       "      <th>anomaly</th>\n",
       "    </tr>\n",
       "  </thead>\n",
       "  <tbody>\n",
       "    <tr>\n",
       "      <th>0</th>\n",
       "      <td>1743.0</td>\n",
       "      <td>-1.131000</td>\n",
       "    </tr>\n",
       "    <tr>\n",
       "      <th>1</th>\n",
       "      <td>1744.0</td>\n",
       "      <td>-0.572000</td>\n",
       "    </tr>\n",
       "    <tr>\n",
       "      <th>2</th>\n",
       "      <td>1745.0</td>\n",
       "      <td>-1.057500</td>\n",
       "    </tr>\n",
       "    <tr>\n",
       "      <th>3</th>\n",
       "      <td>1750.0</td>\n",
       "      <td>-0.201000</td>\n",
       "    </tr>\n",
       "    <tr>\n",
       "      <th>4</th>\n",
       "      <td>1751.0</td>\n",
       "      <td>-0.263250</td>\n",
       "    </tr>\n",
       "    <tr>\n",
       "      <th>...</th>\n",
       "      <td>...</td>\n",
       "      <td>...</td>\n",
       "    </tr>\n",
       "    <tr>\n",
       "      <th>262</th>\n",
       "      <td>2009.0</td>\n",
       "      <td>0.824083</td>\n",
       "    </tr>\n",
       "    <tr>\n",
       "      <th>263</th>\n",
       "      <td>2010.0</td>\n",
       "      <td>1.018500</td>\n",
       "    </tr>\n",
       "    <tr>\n",
       "      <th>264</th>\n",
       "      <td>2011.0</td>\n",
       "      <td>0.835667</td>\n",
       "    </tr>\n",
       "    <tr>\n",
       "      <th>265</th>\n",
       "      <td>2012.0</td>\n",
       "      <td>0.818167</td>\n",
       "    </tr>\n",
       "    <tr>\n",
       "      <th>266</th>\n",
       "      <td>2013.0</td>\n",
       "      <td>0.987556</td>\n",
       "    </tr>\n",
       "  </tbody>\n",
       "</table>\n",
       "<p>267 rows × 2 columns</p>\n",
       "</div>"
      ],
      "text/plain": [
       "       year   anomaly\n",
       "0    1743.0 -1.131000\n",
       "1    1744.0 -0.572000\n",
       "2    1745.0 -1.057500\n",
       "3    1750.0 -0.201000\n",
       "4    1751.0 -0.263250\n",
       "..      ...       ...\n",
       "262  2009.0  0.824083\n",
       "263  2010.0  1.018500\n",
       "264  2011.0  0.835667\n",
       "265  2012.0  0.818167\n",
       "266  2013.0  0.987556\n",
       "\n",
       "[267 rows x 2 columns]"
      ]
     },
     "execution_count": 21,
     "metadata": {},
     "output_type": "execute_result"
    }
   ],
   "source": [
    "\"\"\" Finding annual avg temp anomaly data for each year subset from previous df \"\"\"\n",
    "meandf =ndf.groupby('year')['anomaly'].mean().to_frame().reset_index()\n",
    "#meandf =ndf.groupby('year')['anomaly'].mean().to_frame()\n",
    "meandf"
   ]
  },
  {
   "cell_type": "code",
   "execution_count": 85,
   "id": "vanilla-discharge",
   "metadata": {},
   "outputs": [],
   "source": [
    "\"\"\" Numpy Array of Mean Dataframe \"\"\"\n",
    "mdata=meandf.to_numpy()"
   ]
  },
  {
   "cell_type": "markdown",
   "id": "individual-might",
   "metadata": {},
   "source": [
    "3b.  Extract the subset of CSV data from Step 2 in the above corresponding to the regional keyword \"World\" in the Entity column of data. Then, match the temperature anomaly data with the global CO2 emission data to generate a unified dataset. "
   ]
  },
  {
   "cell_type": "code",
   "execution_count": 22,
   "id": "technical-lounge",
   "metadata": {
    "scrolled": false
   },
   "outputs": [
    {
     "data": {
      "text/html": [
       "<div>\n",
       "<style scoped>\n",
       "    .dataframe tbody tr th:only-of-type {\n",
       "        vertical-align: middle;\n",
       "    }\n",
       "\n",
       "    .dataframe tbody tr th {\n",
       "        vertical-align: top;\n",
       "    }\n",
       "\n",
       "    .dataframe thead th {\n",
       "        text-align: right;\n",
       "    }\n",
       "</style>\n",
       "<table border=\"1\" class=\"dataframe\">\n",
       "  <thead>\n",
       "    <tr style=\"text-align: right;\">\n",
       "      <th></th>\n",
       "      <th>Entity</th>\n",
       "      <th>Code</th>\n",
       "      <th>Year</th>\n",
       "      <th>Annual CO2 emissions (zero filled)</th>\n",
       "    </tr>\n",
       "  </thead>\n",
       "  <tbody>\n",
       "    <tr>\n",
       "      <th>0</th>\n",
       "      <td>World</td>\n",
       "      <td>OWID_WRL</td>\n",
       "      <td>1750</td>\n",
       "      <td>9350528</td>\n",
       "    </tr>\n",
       "    <tr>\n",
       "      <th>1</th>\n",
       "      <td>World</td>\n",
       "      <td>OWID_WRL</td>\n",
       "      <td>1751</td>\n",
       "      <td>9350528</td>\n",
       "    </tr>\n",
       "    <tr>\n",
       "      <th>2</th>\n",
       "      <td>World</td>\n",
       "      <td>OWID_WRL</td>\n",
       "      <td>1752</td>\n",
       "      <td>9354192</td>\n",
       "    </tr>\n",
       "    <tr>\n",
       "      <th>3</th>\n",
       "      <td>World</td>\n",
       "      <td>OWID_WRL</td>\n",
       "      <td>1753</td>\n",
       "      <td>9354192</td>\n",
       "    </tr>\n",
       "    <tr>\n",
       "      <th>4</th>\n",
       "      <td>World</td>\n",
       "      <td>OWID_WRL</td>\n",
       "      <td>1754</td>\n",
       "      <td>9357856</td>\n",
       "    </tr>\n",
       "    <tr>\n",
       "      <th>...</th>\n",
       "      <td>...</td>\n",
       "      <td>...</td>\n",
       "      <td>...</td>\n",
       "      <td>...</td>\n",
       "    </tr>\n",
       "    <tr>\n",
       "      <th>265</th>\n",
       "      <td>World</td>\n",
       "      <td>OWID_WRL</td>\n",
       "      <td>2015</td>\n",
       "      <td>35209446562</td>\n",
       "    </tr>\n",
       "    <tr>\n",
       "      <th>266</th>\n",
       "      <td>World</td>\n",
       "      <td>OWID_WRL</td>\n",
       "      <td>2016</td>\n",
       "      <td>35220412420</td>\n",
       "    </tr>\n",
       "    <tr>\n",
       "      <th>267</th>\n",
       "      <td>World</td>\n",
       "      <td>OWID_WRL</td>\n",
       "      <td>2017</td>\n",
       "      <td>35696348890</td>\n",
       "    </tr>\n",
       "    <tr>\n",
       "      <th>268</th>\n",
       "      <td>World</td>\n",
       "      <td>OWID_WRL</td>\n",
       "      <td>2018</td>\n",
       "      <td>36419711706</td>\n",
       "    </tr>\n",
       "    <tr>\n",
       "      <th>269</th>\n",
       "      <td>World</td>\n",
       "      <td>OWID_WRL</td>\n",
       "      <td>2019</td>\n",
       "      <td>36441387575</td>\n",
       "    </tr>\n",
       "  </tbody>\n",
       "</table>\n",
       "<p>270 rows × 4 columns</p>\n",
       "</div>"
      ],
      "text/plain": [
       "    Entity      Code  Year  Annual CO2 emissions (zero filled)\n",
       "0    World  OWID_WRL  1750                             9350528\n",
       "1    World  OWID_WRL  1751                             9350528\n",
       "2    World  OWID_WRL  1752                             9354192\n",
       "3    World  OWID_WRL  1753                             9354192\n",
       "4    World  OWID_WRL  1754                             9357856\n",
       "..     ...       ...   ...                                 ...\n",
       "265  World  OWID_WRL  2015                         35209446562\n",
       "266  World  OWID_WRL  2016                         35220412420\n",
       "267  World  OWID_WRL  2017                         35696348890\n",
       "268  World  OWID_WRL  2018                         36419711706\n",
       "269  World  OWID_WRL  2019                         36441387575\n",
       "\n",
       "[270 rows x 4 columns]"
      ]
     },
     "execution_count": 22,
     "metadata": {},
     "output_type": "execute_result"
    }
   ],
   "source": [
    "\"\"\" Extracting \"World\" subset \"\"\"\n",
    "world_subset=edf.loc[edf['Entity'] == \"World\"].reset_index(drop=True)\n",
    "world_subset"
   ]
  },
  {
   "cell_type": "code",
   "execution_count": 23,
   "id": "early-edition",
   "metadata": {
    "scrolled": false
   },
   "outputs": [
    {
     "data": {
      "text/html": [
       "<div>\n",
       "<style scoped>\n",
       "    .dataframe tbody tr th:only-of-type {\n",
       "        vertical-align: middle;\n",
       "    }\n",
       "\n",
       "    .dataframe tbody tr th {\n",
       "        vertical-align: top;\n",
       "    }\n",
       "\n",
       "    .dataframe thead th {\n",
       "        text-align: right;\n",
       "    }\n",
       "</style>\n",
       "<table border=\"1\" class=\"dataframe\">\n",
       "  <thead>\n",
       "    <tr style=\"text-align: right;\">\n",
       "      <th></th>\n",
       "      <th>Year</th>\n",
       "      <th>anomaly</th>\n",
       "      <th>Entity</th>\n",
       "      <th>Code</th>\n",
       "      <th>Annual CO2 emissions (zero filled)</th>\n",
       "    </tr>\n",
       "  </thead>\n",
       "  <tbody>\n",
       "    <tr>\n",
       "      <th>0</th>\n",
       "      <td>1750.0</td>\n",
       "      <td>-0.201000</td>\n",
       "      <td>World</td>\n",
       "      <td>OWID_WRL</td>\n",
       "      <td>9350528</td>\n",
       "    </tr>\n",
       "    <tr>\n",
       "      <th>1</th>\n",
       "      <td>1751.0</td>\n",
       "      <td>-0.263250</td>\n",
       "      <td>World</td>\n",
       "      <td>OWID_WRL</td>\n",
       "      <td>9350528</td>\n",
       "    </tr>\n",
       "    <tr>\n",
       "      <th>2</th>\n",
       "      <td>1752.0</td>\n",
       "      <td>-0.384167</td>\n",
       "      <td>World</td>\n",
       "      <td>OWID_WRL</td>\n",
       "      <td>9354192</td>\n",
       "    </tr>\n",
       "    <tr>\n",
       "      <th>3</th>\n",
       "      <td>1753.0</td>\n",
       "      <td>-0.350167</td>\n",
       "      <td>World</td>\n",
       "      <td>OWID_WRL</td>\n",
       "      <td>9354192</td>\n",
       "    </tr>\n",
       "    <tr>\n",
       "      <th>4</th>\n",
       "      <td>1754.0</td>\n",
       "      <td>-0.050500</td>\n",
       "      <td>World</td>\n",
       "      <td>OWID_WRL</td>\n",
       "      <td>9357856</td>\n",
       "    </tr>\n",
       "    <tr>\n",
       "      <th>...</th>\n",
       "      <td>...</td>\n",
       "      <td>...</td>\n",
       "      <td>...</td>\n",
       "      <td>...</td>\n",
       "      <td>...</td>\n",
       "    </tr>\n",
       "    <tr>\n",
       "      <th>259</th>\n",
       "      <td>2009.0</td>\n",
       "      <td>0.824083</td>\n",
       "      <td>World</td>\n",
       "      <td>OWID_WRL</td>\n",
       "      <td>31464200426</td>\n",
       "    </tr>\n",
       "    <tr>\n",
       "      <th>260</th>\n",
       "      <td>2010.0</td>\n",
       "      <td>1.018500</td>\n",
       "      <td>World</td>\n",
       "      <td>OWID_WRL</td>\n",
       "      <td>33131911067</td>\n",
       "    </tr>\n",
       "    <tr>\n",
       "      <th>261</th>\n",
       "      <td>2011.0</td>\n",
       "      <td>0.835667</td>\n",
       "      <td>World</td>\n",
       "      <td>OWID_WRL</td>\n",
       "      <td>34209582571</td>\n",
       "    </tr>\n",
       "    <tr>\n",
       "      <th>262</th>\n",
       "      <td>2012.0</td>\n",
       "      <td>0.818167</td>\n",
       "      <td>World</td>\n",
       "      <td>OWID_WRL</td>\n",
       "      <td>34760008139</td>\n",
       "    </tr>\n",
       "    <tr>\n",
       "      <th>263</th>\n",
       "      <td>2013.0</td>\n",
       "      <td>0.987556</td>\n",
       "      <td>World</td>\n",
       "      <td>OWID_WRL</td>\n",
       "      <td>34987263545</td>\n",
       "    </tr>\n",
       "  </tbody>\n",
       "</table>\n",
       "<p>264 rows × 5 columns</p>\n",
       "</div>"
      ],
      "text/plain": [
       "       Year   anomaly Entity      Code  Annual CO2 emissions (zero filled)\n",
       "0    1750.0 -0.201000  World  OWID_WRL                             9350528\n",
       "1    1751.0 -0.263250  World  OWID_WRL                             9350528\n",
       "2    1752.0 -0.384167  World  OWID_WRL                             9354192\n",
       "3    1753.0 -0.350167  World  OWID_WRL                             9354192\n",
       "4    1754.0 -0.050500  World  OWID_WRL                             9357856\n",
       "..      ...       ...    ...       ...                                 ...\n",
       "259  2009.0  0.824083  World  OWID_WRL                         31464200426\n",
       "260  2010.0  1.018500  World  OWID_WRL                         33131911067\n",
       "261  2011.0  0.835667  World  OWID_WRL                         34209582571\n",
       "262  2012.0  0.818167  World  OWID_WRL                         34760008139\n",
       "263  2013.0  0.987556  World  OWID_WRL                         34987263545\n",
       "\n",
       "[264 rows x 5 columns]"
      ]
     },
     "execution_count": 23,
     "metadata": {},
     "output_type": "execute_result"
    }
   ],
   "source": [
    "\"\"\" Creating Unified Dataset \"\"\"\n",
    "#selecting the years that intersect on both datasets (1750-2013)\n",
    "udf=meandf.loc[meandf['year'].isin(world_subset['Year'])].rename(columns={'year':'Year'})\n",
    "#merging both datasets based on same values under \"year\"\n",
    "udf=udf.merge(world_subset, on='Year', how='left')\n",
    "udf"
   ]
  },
  {
   "cell_type": "code",
   "execution_count": 100,
   "id": "medical-calcium",
   "metadata": {},
   "outputs": [],
   "source": [
    "x=udf[\"Year\"]\n",
    "anomalies=udf[\"anomaly\"]\n",
    "emissions=udf[\"Annual CO2 emissions (zero filled)\"]"
   ]
  },
  {
   "cell_type": "code",
   "execution_count": 78,
   "id": "facial-contributor",
   "metadata": {},
   "outputs": [
    {
     "data": {
      "text/plain": [
       "<matplotlib.legend.Legend at 0x7f64b1667310>"
      ]
     },
     "execution_count": 78,
     "metadata": {},
     "output_type": "execute_result"
    },
    {
     "data": {
      "image/png": "[encoded data removed]",
      "text/plain": [
       "<Figure size 432x288 with 1 Axes>"
      ]
     },
     "metadata": {
      "needs_background": "light"
     },
     "output_type": "display_data"
    }
   ],
   "source": [
    "plt.plot(x, anomalies, label=\"anomalies\")\n",
    "plt.plot(x, emissions, label=\"emissions\")\n",
    "plt.legend()"
   ]
  },
  {
   "cell_type": "code",
   "execution_count": 80,
   "id": "damaged-balloon",
   "metadata": {
    "scrolled": true
   },
   "outputs": [
    {
     "data": {
      "text/plain": [
       "<matplotlib.legend.Legend at 0x7f64b1304460>"
      ]
     },
     "execution_count": 80,
     "metadata": {},
     "output_type": "execute_result"
    },
    {
     "data": {
      "image/png": "[encoded data removed]",
      "text/plain": [
       "<Figure size 432x288 with 2 Axes>"
      ]
     },
     "metadata": {
      "needs_background": "light"
     },
     "output_type": "display_data"
    }
   ],
   "source": [
    "fig, axs = plt.subplots(nrows=2)\n",
    "#fig.subplots_adjust(hspace=0.4)\n",
    "ax = axs[0]\n",
    "ax.plot(x, anomalies, 'b', label='anomalies')\n",
    "ax.legend(loc='upper right', fontsize='small', ncol=2)\n",
    "ax = axs[1]\n",
    "ax.plot(x, emissions, 'r', label='emissions')\n",
    "ax.legend(loc='upper right', fontsize='small', ncol=2)\n"
   ]
  },
  {
   "cell_type": "markdown",
   "id": "structured-operations",
   "metadata": {},
   "source": [
    "3c. Write a function that computes the cross-correlation between the temperature anomaly and the global CO2 emissions. Use the definition of the correlation matrix that we have seen before to compute the cross-correlation."
   ]
  },
  {
   "cell_type": "code",
   "execution_count": 110,
   "id": "separate-medicaid",
   "metadata": {},
   "outputs": [],
   "source": [
    "import math\n",
    "def getPearsonCor(data1,data2):\n",
    "    \"\"\"\"\"\n",
    "        Generate and return the pearson correlation coefficient. \n",
    "        Input two columns of data to your function to compute the Pearson corrcoeff. \n",
    "        The columns correspond to the data attributes.\n",
    "        Make sure rows of data with \"nan\" are removed.\n",
    "        \n",
    "        Parameters:\n",
    "            data1,data2 = data attribute 1, data attribute 2\n",
    "    \"\"\"\"\"\n",
    "    x_mean, y_mean = data1.mean(), data2.mean()\n",
    "    #x_std, y_std = data1.std(), data2.std()\n",
    "    x_var = sum ((x_i - x_mean)**2 for x_i in data1)\n",
    "    y_var = sum ((y_i - y_mean)**2 for y_i in data2)\n",
    "    \n",
    "    #cov(x,y)- numerator\n",
    "    #sqrt(varx*vary)-denominator\n",
    "    cov = sum((x_i-x_mean)*(y_i-y_mean) for x_i,y_i in zip(data1,data2))\n",
    "    den = math.sqrt(x_var*y_var)\n",
    "    \n",
    "        \n",
    "    return np.true_divide(cov,den)"
   ]
  },
  {
   "cell_type": "code",
   "execution_count": 116,
   "id": "preliminary-leather",
   "metadata": {},
   "outputs": [],
   "source": [
    "def getCrossCor(data1, data2,t=None):\n",
    "    \"\"\"\"\"\n",
    "        Generate and return cross correlation of data1 and data2 given number of lags \"t\".\n",
    "        Data1 and Data2 each represent a 1-D input with same length.\n",
    "        \n",
    "        Recall that the autocorrelation of a time-series is defined as \n",
    "        the correlation of a univariate dataset with itself, with some positive lag τ.\n",
    "    \"\"\"\"\"\n",
    "    #i ~ lag\n",
    "    if t is None:\n",
    "        #ccorr= [data1.corr(data2.shift(i))  for i in range(len(data1)) ]\n",
    "        ccorr= [getPearsonCor(data1[:-i], data2[i:])  for i in range(len(data1)) ]\n",
    "             \n",
    "    else:\n",
    "        #ccorr= [data1.corr(data2.shift(i))  for i in range(t) ]\n",
    "        ccorr= [getPearsonCor(data1[:-i], data2[i:]) for i in range(t) ]\n",
    "        \n",
    "\n",
    "    return ccorr"
   ]
  },
  {
   "cell_type": "code",
   "execution_count": 117,
   "id": "grand-people",
   "metadata": {
    "scrolled": true
   },
   "outputs": [
    {
     "name": "stderr",
     "output_type": "stream",
     "text": [
      "<ipython-input-110-9fdef82c0cb6>:23: RuntimeWarning: invalid value encountered in true_divide\n",
      "  return np.true_divide(cov,den)\n"
     ]
    }
   ],
   "source": [
    "gen_ccorr=getCrossCor(anomalies,emissions)"
   ]
  },
  {
   "cell_type": "code",
   "execution_count": 118,
   "id": "heated-ability",
   "metadata": {
    "scrolled": true
   },
   "outputs": [
    {
     "data": {
      "text/plain": [
       "[<matplotlib.lines.Line2D at 0x7f64b0ef47f0>]"
      ]
     },
     "execution_count": 118,
     "metadata": {},
     "output_type": "execute_result"
    },
    {
     "data": {
      "image/png": "[encoded data removed]",
      "text/plain": [
       "<Figure size 432x288 with 1 Axes>"
      ]
     },
     "metadata": {
      "needs_background": "light"
     },
     "output_type": "display_data"
    }
   ],
   "source": [
    "#using PearsonCor\n",
    "xgen_ccorr=[i for i in range(len(gen_ccorr))]\n",
    "plt.plot(xgen_ccorr,gen_ccorr)"
   ]
  },
  {
   "cell_type": "code",
   "execution_count": 112,
   "id": "heated-native",
   "metadata": {},
   "outputs": [
    {
     "data": {
      "text/plain": [
       "0.7065475196707427"
      ]
     },
     "execution_count": 112,
     "metadata": {},
     "output_type": "execute_result"
    }
   ],
   "source": [
    "getPearsonCor(anomalies,emissions)"
   ]
  },
  {
   "cell_type": "markdown",
   "id": "brave-candle",
   "metadata": {},
   "source": [
    "Now, use an external library in the language of your choice to compute the autocorrelation using Fast-Fourier Transform (FFT). Within Python, you can use correlate in SciPy package from scipy.signal import correlate to compute the autocorrelation. To do so, you will have to first normalize the input data (the anomaly data) to its mean. Then you pass the data in syntax like the following:"
   ]
  },
  {
   "cell_type": "code",
   "execution_count": 101,
   "id": "dangerous-march",
   "metadata": {},
   "outputs": [],
   "source": [
    "import numpy as np\n",
    "from scipy.signal import correlate\n",
    "\n",
    "anomalies = anomalies - np.mean(anomalies)\n",
    "emissions = emissions - np.mean(emissions)\n",
    "\n",
    "nlag = len(anomalies) - 1\n",
    "acf = np.zeros(nlag)\n",
    "\n",
    "acf = correlate ( anomalies\n",
    "                , emissions\n",
    "                , mode = \"full\"\n",
    "                )[nlag:2*nlag]\n",
    "acf = acf / acf[0]\n",
    "xacf=[i for i in range(len(acf))]"
   ]
  },
  {
   "cell_type": "code",
   "execution_count": 102,
   "id": "written-league",
   "metadata": {
    "scrolled": true
   },
   "outputs": [
    {
     "data": {
      "text/plain": [
       "Text(0, 0.5, 'Global Temp Anomaly vs. Emissons Autocorrelation')"
      ]
     },
     "execution_count": 102,
     "metadata": {},
     "output_type": "execute_result"
    },
    {
     "data": {
      "image/png": "[encoded data removed]",
      "text/plain": [
       "<Figure size 432x288 with 1 Axes>"
      ]
     },
     "metadata": {
      "needs_background": "light"
     },
     "output_type": "display_data"
    }
   ],
   "source": [
    "plt.plot(xacf,acf)\n",
    "plt.xlabel(\"Lag\")\n",
    "plt.ylabel(\"Global Temp Anomaly vs. Emissons Autocorrelation\")"
   ]
  }
 ],
 "metadata": {
  "kernelspec": {
   "display_name": "Python 3",
   "language": "python",
   "name": "python3"
  },
  "language_info": {
   "codemirror_mode": {
    "name": "ipython",
    "version": 3
   },
   "file_extension": ".py",
   "mimetype": "text/x-python",
   "name": "python",
   "nbconvert_exporter": "python",
   "pygments_lexer": "ipython3",
   "version": "3.8.5"
  }
 },
 "nbformat": 4,
 "nbformat_minor": 5
}
