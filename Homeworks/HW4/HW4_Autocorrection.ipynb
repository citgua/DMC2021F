{
 "cells": [
  {
   "cell_type": "markdown",
   "id": "specified-shareware",
   "metadata": {},
   "source": [
    "# 1. Computing the autocorrelation of a dataset."
   ]
  },
  {
   "cell_type": "code",
   "execution_count": 1,
   "id": "ultimate-extra",
   "metadata": {},
   "outputs": [],
   "source": [
    "import pandas as pd\n",
    "import matplotlib.pyplot as plt \n",
    "import numpy as np"
   ]
  },
  {
   "cell_type": "code",
   "execution_count": 2,
   "id": "lined-satisfaction",
   "metadata": {},
   "outputs": [],
   "source": [
    "url='https://www.cdslab.org/recipes/programming/stat-covmat/globalLandTempHist.txt'"
   ]
  },
  {
   "cell_type": "code",
   "execution_count": 3,
   "id": "explicit-kinase",
   "metadata": {},
   "outputs": [],
   "source": [
    "#downloads file from given url\n",
    "def download(url, fpath):\n",
    "    import requests\n",
    "    r = requests.get(url)\n",
    "    with open(fpath, 'wb') as f:\n",
    "        f.write(r.content)\n",
    "    return None\n",
    "\n",
    "#fetching data file\n",
    "def fetchDatafromWeb(filePath,url):\n",
    "    download(url,filePath)\n",
    "    return filePath"
   ]
  },
  {
   "cell_type": "code",
   "execution_count": 4,
   "id": "impaired-trial",
   "metadata": {
    "scrolled": true
   },
   "outputs": [
    {
     "data": {
      "text/plain": [
       "'./globalLandTempHist.txt'"
      ]
     },
     "execution_count": 4,
     "metadata": {},
     "output_type": "execute_result"
    }
   ],
   "source": [
    "fetchDatafromWeb(filePath=\"./globalLandTempHist.txt\", url=url)"
   ]
  },
  {
   "cell_type": "code",
   "execution_count": 6,
   "id": "frank-location",
   "metadata": {
    "scrolled": true
   },
   "outputs": [
    {
     "data": {
      "text/html": [
       "<div>\n",
       "<style scoped>\n",
       "    .dataframe tbody tr th:only-of-type {\n",
       "        vertical-align: middle;\n",
       "    }\n",
       "\n",
       "    .dataframe tbody tr th {\n",
       "        vertical-align: top;\n",
       "    }\n",
       "\n",
       "    .dataframe thead th {\n",
       "        text-align: right;\n",
       "    }\n",
       "</style>\n",
       "<table border=\"1\" class=\"dataframe\">\n",
       "  <thead>\n",
       "    <tr style=\"text-align: right;\">\n",
       "      <th></th>\n",
       "      <th>year</th>\n",
       "      <th>anomaly</th>\n",
       "    </tr>\n",
       "  </thead>\n",
       "  <tbody>\n",
       "    <tr>\n",
       "      <th>0</th>\n",
       "      <td>1743.846154</td>\n",
       "      <td>-1.131</td>\n",
       "    </tr>\n",
       "    <tr>\n",
       "      <th>5</th>\n",
       "      <td>1744.307692</td>\n",
       "      <td>1.926</td>\n",
       "    </tr>\n",
       "    <tr>\n",
       "      <th>6</th>\n",
       "      <td>1744.384615</td>\n",
       "      <td>-1.115</td>\n",
       "    </tr>\n",
       "    <tr>\n",
       "      <th>7</th>\n",
       "      <td>1744.461538</td>\n",
       "      <td>-0.235</td>\n",
       "    </tr>\n",
       "    <tr>\n",
       "      <th>8</th>\n",
       "      <td>1744.538462</td>\n",
       "      <td>-0.430</td>\n",
       "    </tr>\n",
       "    <tr>\n",
       "      <th>...</th>\n",
       "      <td>...</td>\n",
       "      <td>...</td>\n",
       "    </tr>\n",
       "    <tr>\n",
       "      <th>3234</th>\n",
       "      <td>2013.384615</td>\n",
       "      <td>0.813</td>\n",
       "    </tr>\n",
       "    <tr>\n",
       "      <th>3235</th>\n",
       "      <td>2013.461538</td>\n",
       "      <td>1.088</td>\n",
       "    </tr>\n",
       "    <tr>\n",
       "      <th>3236</th>\n",
       "      <td>2013.538462</td>\n",
       "      <td>0.671</td>\n",
       "    </tr>\n",
       "    <tr>\n",
       "      <th>3237</th>\n",
       "      <td>2013.615385</td>\n",
       "      <td>0.919</td>\n",
       "    </tr>\n",
       "    <tr>\n",
       "      <th>3238</th>\n",
       "      <td>2013.692308</td>\n",
       "      <td>1.950</td>\n",
       "    </tr>\n",
       "  </tbody>\n",
       "</table>\n",
       "<p>3167 rows × 2 columns</p>\n",
       "</div>"
      ],
      "text/plain": [
       "             year  anomaly\n",
       "0     1743.846154   -1.131\n",
       "5     1744.307692    1.926\n",
       "6     1744.384615   -1.115\n",
       "7     1744.461538   -0.235\n",
       "8     1744.538462   -0.430\n",
       "...           ...      ...\n",
       "3234  2013.384615    0.813\n",
       "3235  2013.461538    1.088\n",
       "3236  2013.538462    0.671\n",
       "3237  2013.615385    0.919\n",
       "3238  2013.692308    1.950\n",
       "\n",
       "[3167 rows x 2 columns]"
      ]
     },
     "execution_count": 6,
     "metadata": {},
     "output_type": "execute_result"
    }
   ],
   "source": [
    "\"\"\" Droping rows with values NaN \"\"\"\n",
    "ndf=df.dropna()\n",
    "ndf"
   ]
  },
  {
   "cell_type": "code",
   "execution_count": 7,
   "id": "sexual-brown",
   "metadata": {
    "scrolled": true
   },
   "outputs": [
    {
     "name": "stderr",
     "output_type": "stream",
     "text": [
      "/usr/local/lib/python3.8/dist-packages/pandas/core/series.py:4479: SettingWithCopyWarning: \n",
      "A value is trying to be set on a copy of a slice from a DataFrame\n",
      "\n",
      "See the caveats in the documentation: https://pandas.pydata.org/pandas-docs/stable/user_guide/indexing.html#returning-a-view-versus-a-copy\n",
      "  return super().replace(\n"
     ]
    },
    {
     "data": {
      "text/html": [
       "<div>\n",
       "<style scoped>\n",
       "    .dataframe tbody tr th:only-of-type {\n",
       "        vertical-align: middle;\n",
       "    }\n",
       "\n",
       "    .dataframe tbody tr th {\n",
       "        vertical-align: top;\n",
       "    }\n",
       "\n",
       "    .dataframe thead th {\n",
       "        text-align: right;\n",
       "    }\n",
       "</style>\n",
       "<table border=\"1\" class=\"dataframe\">\n",
       "  <thead>\n",
       "    <tr style=\"text-align: right;\">\n",
       "      <th></th>\n",
       "      <th>year</th>\n",
       "      <th>anomaly</th>\n",
       "    </tr>\n",
       "  </thead>\n",
       "  <tbody>\n",
       "    <tr>\n",
       "      <th>0</th>\n",
       "      <td>1743.0</td>\n",
       "      <td>-1.131</td>\n",
       "    </tr>\n",
       "    <tr>\n",
       "      <th>5</th>\n",
       "      <td>1744.0</td>\n",
       "      <td>1.926</td>\n",
       "    </tr>\n",
       "    <tr>\n",
       "      <th>6</th>\n",
       "      <td>1744.0</td>\n",
       "      <td>-1.115</td>\n",
       "    </tr>\n",
       "    <tr>\n",
       "      <th>7</th>\n",
       "      <td>1744.0</td>\n",
       "      <td>-0.235</td>\n",
       "    </tr>\n",
       "    <tr>\n",
       "      <th>8</th>\n",
       "      <td>1744.0</td>\n",
       "      <td>-0.430</td>\n",
       "    </tr>\n",
       "    <tr>\n",
       "      <th>...</th>\n",
       "      <td>...</td>\n",
       "      <td>...</td>\n",
       "    </tr>\n",
       "    <tr>\n",
       "      <th>3234</th>\n",
       "      <td>2013.0</td>\n",
       "      <td>0.813</td>\n",
       "    </tr>\n",
       "    <tr>\n",
       "      <th>3235</th>\n",
       "      <td>2013.0</td>\n",
       "      <td>1.088</td>\n",
       "    </tr>\n",
       "    <tr>\n",
       "      <th>3236</th>\n",
       "      <td>2013.0</td>\n",
       "      <td>0.671</td>\n",
       "    </tr>\n",
       "    <tr>\n",
       "      <th>3237</th>\n",
       "      <td>2013.0</td>\n",
       "      <td>0.919</td>\n",
       "    </tr>\n",
       "    <tr>\n",
       "      <th>3238</th>\n",
       "      <td>2013.0</td>\n",
       "      <td>1.950</td>\n",
       "    </tr>\n",
       "  </tbody>\n",
       "</table>\n",
       "<p>3167 rows × 2 columns</p>\n",
       "</div>"
      ],
      "text/plain": [
       "        year  anomaly\n",
       "0     1743.0   -1.131\n",
       "5     1744.0    1.926\n",
       "6     1744.0   -1.115\n",
       "7     1744.0   -0.235\n",
       "8     1744.0   -0.430\n",
       "...      ...      ...\n",
       "3234  2013.0    0.813\n",
       "3235  2013.0    1.088\n",
       "3236  2013.0    0.671\n",
       "3237  2013.0    0.919\n",
       "3238  2013.0    1.950\n",
       "\n",
       "[3167 rows x 2 columns]"
      ]
     },
     "execution_count": 7,
     "metadata": {},
     "output_type": "execute_result"
    }
   ],
   "source": [
    "\"\"\" Replacing real number values in the \"year\" column to whole year values \"\"\"\n",
    "import math\n",
    "for year in ndf[\"year\"].values:\n",
    "    whole_yr=math.trunc(year)\n",
    "    ndf[\"year\"].replace({year:whole_yr}, inplace=True)\n",
    "ndf"
   ]
  },
  {
   "cell_type": "code",
   "execution_count": 27,
   "id": "boring-reduction",
   "metadata": {
    "scrolled": false
   },
   "outputs": [
    {
     "name": "stdout",
     "output_type": "stream",
     "text": [
      "1.3 ms ± 20.6 µs per loop (mean ± std. dev. of 7 runs, 1000 loops each)\n"
     ]
    }
   ],
   "source": [
    "%%timeit\n",
    "\"\"\" Finding annual avg temp anomaly data for each year subset from previous df \"\"\"\n",
    "meandf =ndf.groupby('year')['anomaly'].mean().to_frame().reset_index()\n",
    "#meandf =ndf.groupby('year')['anomaly'].mean().to_frame()"
   ]
  },
  {
   "cell_type": "code",
   "execution_count": 28,
   "id": "soviet-shooting",
   "metadata": {},
   "outputs": [
    {
     "data": {
      "text/html": [
       "<div>\n",
       "<style scoped>\n",
       "    .dataframe tbody tr th:only-of-type {\n",
       "        vertical-align: middle;\n",
       "    }\n",
       "\n",
       "    .dataframe tbody tr th {\n",
       "        vertical-align: top;\n",
       "    }\n",
       "\n",
       "    .dataframe thead th {\n",
       "        text-align: right;\n",
       "    }\n",
       "</style>\n",
       "<table border=\"1\" class=\"dataframe\">\n",
       "  <thead>\n",
       "    <tr style=\"text-align: right;\">\n",
       "      <th></th>\n",
       "      <th>year</th>\n",
       "      <th>anomaly</th>\n",
       "    </tr>\n",
       "  </thead>\n",
       "  <tbody>\n",
       "    <tr>\n",
       "      <th>0</th>\n",
       "      <td>1743.0</td>\n",
       "      <td>-1.131000</td>\n",
       "    </tr>\n",
       "    <tr>\n",
       "      <th>1</th>\n",
       "      <td>1744.0</td>\n",
       "      <td>-0.572000</td>\n",
       "    </tr>\n",
       "    <tr>\n",
       "      <th>2</th>\n",
       "      <td>1745.0</td>\n",
       "      <td>-1.057500</td>\n",
       "    </tr>\n",
       "    <tr>\n",
       "      <th>3</th>\n",
       "      <td>1750.0</td>\n",
       "      <td>-0.201000</td>\n",
       "    </tr>\n",
       "    <tr>\n",
       "      <th>4</th>\n",
       "      <td>1751.0</td>\n",
       "      <td>-0.263250</td>\n",
       "    </tr>\n",
       "    <tr>\n",
       "      <th>...</th>\n",
       "      <td>...</td>\n",
       "      <td>...</td>\n",
       "    </tr>\n",
       "    <tr>\n",
       "      <th>262</th>\n",
       "      <td>2009.0</td>\n",
       "      <td>0.824083</td>\n",
       "    </tr>\n",
       "    <tr>\n",
       "      <th>263</th>\n",
       "      <td>2010.0</td>\n",
       "      <td>1.018500</td>\n",
       "    </tr>\n",
       "    <tr>\n",
       "      <th>264</th>\n",
       "      <td>2011.0</td>\n",
       "      <td>0.835667</td>\n",
       "    </tr>\n",
       "    <tr>\n",
       "      <th>265</th>\n",
       "      <td>2012.0</td>\n",
       "      <td>0.818167</td>\n",
       "    </tr>\n",
       "    <tr>\n",
       "      <th>266</th>\n",
       "      <td>2013.0</td>\n",
       "      <td>0.987556</td>\n",
       "    </tr>\n",
       "  </tbody>\n",
       "</table>\n",
       "<p>267 rows × 2 columns</p>\n",
       "</div>"
      ],
      "text/plain": [
       "       year   anomaly\n",
       "0    1743.0 -1.131000\n",
       "1    1744.0 -0.572000\n",
       "2    1745.0 -1.057500\n",
       "3    1750.0 -0.201000\n",
       "4    1751.0 -0.263250\n",
       "..      ...       ...\n",
       "262  2009.0  0.824083\n",
       "263  2010.0  1.018500\n",
       "264  2011.0  0.835667\n",
       "265  2012.0  0.818167\n",
       "266  2013.0  0.987556\n",
       "\n",
       "[267 rows x 2 columns]"
      ]
     },
     "execution_count": 28,
     "metadata": {},
     "output_type": "execute_result"
    }
   ],
   "source": [
    "meandf"
   ]
  },
  {
   "cell_type": "code",
   "execution_count": 19,
   "id": "operating-charm",
   "metadata": {
    "scrolled": true
   },
   "outputs": [
    {
     "data": {
      "image/png": "[encoded data removed]",
      "text/plain": [
       "<Figure size 432x288 with 1 Axes>"
      ]
     },
     "metadata": {
      "needs_background": "light"
     },
     "output_type": "display_data"
    }
   ],
   "source": [
    "\"\"\" Average Global Anomaly [Celsius] vs. Year Plot \"\"\"\n",
    "x=meandf[\"year\"] \n",
    "y=meandf[\"anomaly\"]\n",
    "\n",
    "ax = plt.gca()\n",
    "ax.set_xlabel(\"Year\")\n",
    "ax.set_ylabel(\"Average Global Anomaly [Celsius]\")\n",
    "#ax.axis ([1750, 2000, -2, 1.5]) #xmin, xmax, ymin, ymax\n",
    "ax.plot(x,y,\n",
    "        color='b',\n",
    "        linewidth=1.0\n",
    "       )\n",
    "plt.show()"
   ]
  },
  {
   "cell_type": "markdown",
   "id": "innocent-ribbon",
   "metadata": {},
   "source": [
    "Use the definition of the correlation matrix that we have seen before to compute the autocorrelation of temperature anomaly of Earth starting from the first non-NAN value to the end, for all different possible lags. Make a plot of the autocorrelation vs. lag."
   ]
  },
  {
   "cell_type": "code",
   "execution_count": 10,
   "id": "dramatic-float",
   "metadata": {},
   "outputs": [],
   "source": [
    "\"\"\" Numpy Array of Mean Dataframe \"\"\"\n",
    "mdata=meandf.to_numpy()"
   ]
  },
  {
   "cell_type": "code",
   "execution_count": 11,
   "id": "separate-medicaid",
   "metadata": {},
   "outputs": [],
   "source": [
    "import math\n",
    "def getPearsonCor(data1,data2):\n",
    "    \"\"\"\"\"\n",
    "        Generate and return the pearson correlation coefficient. \n",
    "        Input two columns of data to your function to compute the Pearson corrcoeff. \n",
    "        The columns correspond to the data attributes.\n",
    "        Make sure rows of data with \"nan\" are removed.\n",
    "        \n",
    "        Parameters:\n",
    "            data1,data2 = data attribute 1, data attribute 2\n",
    "    \"\"\"\"\"\n",
    "    x_mean, y_mean = data1.mean(), data2.mean()\n",
    "    #x_std, y_std = data1.std(), data2.std()\n",
    "    x_var = sum ((x_i - x_mean)**2 for x_i in data1)\n",
    "    y_var = sum ((y_i - y_mean)**2 for y_i in data2)\n",
    "    \n",
    "    #cov(x,y)- numerator\n",
    "    #sqrt(varx*vary)-denominator\n",
    "    cov = sum((x_i-x_mean)*(y_i-y_mean) for x_i,y_i in zip(data1,data2))\n",
    "    den = math.sqrt(x_var*y_var)\n",
    "    \n",
    "        \n",
    "    return np.true_divide(cov,den)"
   ]
  },
  {
   "cell_type": "markdown",
   "id": "conscious-acrobat",
   "metadata": {},
   "source": [
    "Comparing/Checking getPearsonCor with autocorr function given lag=1:"
   ]
  },
  {
   "cell_type": "code",
   "execution_count": 12,
   "id": "human-record",
   "metadata": {},
   "outputs": [
    {
     "data": {
      "text/plain": [
       "0.7542902127574144"
      ]
     },
     "execution_count": 12,
     "metadata": {},
     "output_type": "execute_result"
    }
   ],
   "source": [
    "getPearsonCor(mdata[:,1][:-1], mdata[:,1][1:])"
   ]
  },
  {
   "cell_type": "code",
   "execution_count": 13,
   "id": "expanded-people",
   "metadata": {},
   "outputs": [
    {
     "data": {
      "text/plain": [
       "0.7542902127574143"
      ]
     },
     "execution_count": 13,
     "metadata": {},
     "output_type": "execute_result"
    }
   ],
   "source": [
    "meandf['anomaly'].autocorr(lag=1)"
   ]
  },
  {
   "cell_type": "code",
   "execution_count": 21,
   "id": "statutory-involvement",
   "metadata": {},
   "outputs": [
    {
     "name": "stdout",
     "output_type": "stream",
     "text": [
      "68.9 ns ± 6.93 ns per loop (mean ± std. dev. of 7 runs, 10000000 loops each)\n"
     ]
    }
   ],
   "source": [
    "%%timeit\n",
    "def getAutoCor(data,t=None):\n",
    "    \"\"\"\"\"\n",
    "        Generate and return autoccorelation of input 1-D array data (anomalies) with given number of lags \"t\".\n",
    "        \n",
    "        Recall that the autocorrelation of a time-series is defined as \n",
    "        the correlation of a univariate dataset with itself, with some positive lag τ.\n",
    "    \"\"\"\"\"\n",
    "    #i ~ lag\n",
    "    acf=[]\n",
    "    if t is None:\n",
    "        for i in range(len(data)):\n",
    "            acorr = getPearsonCor(mdata[:,1][:-i], mdata[:,1][i:])\n",
    "            #acorr=data.autocorr(lag=i) #if data=meandf[\"anomaly\"]\n",
    "            acf.append(acorr)\n",
    "    else:\n",
    "        for i in range(t):\n",
    "            acorr = getPearsonCor(mdata[:,1][:-i], mdata[:,1][i:])\n",
    "            #acorr=data.autocorr(lag=i) #if data=meandf[\"anomaly\"]\n",
    "            acf.append(acorr)\n",
    " \n",
    "\n",
    "    return acf"
   ]
  },
  {
   "cell_type": "code",
   "execution_count": 20,
   "id": "grand-people",
   "metadata": {
    "scrolled": true
   },
   "outputs": [
    {
     "name": "stderr",
     "output_type": "stream",
     "text": [
      "<ipython-input-11-9fdef82c0cb6>:12: RuntimeWarning: Mean of empty slice.\n",
      "  x_mean, y_mean = data1.mean(), data2.mean()\n",
      "/usr/local/lib/python3.8/dist-packages/numpy/core/_methods.py:170: RuntimeWarning: invalid value encountered in double_scalars\n",
      "  ret = ret.dtype.type(ret / rcount)\n",
      "<ipython-input-11-9fdef82c0cb6>:23: RuntimeWarning: invalid value encountered in true_divide\n",
      "  return np.true_divide(cov,den)\n"
     ]
    },
    {
     "name": "stdout",
     "output_type": "stream",
     "text": [
      "108 ms ± 13.3 ms per loop (mean ± std. dev. of 7 runs, 10 loops each)\n"
     ]
    }
   ],
   "source": [
    "%%timeit\n",
    "#gen_acf=getAutoCor(meandf[\"anomaly\"])\n",
    "gen_acf=getAutoCor(mdata[:,1])"
   ]
  },
  {
   "cell_type": "code",
   "execution_count": 16,
   "id": "heated-ability",
   "metadata": {
    "scrolled": true
   },
   "outputs": [
    {
     "data": {
      "text/plain": [
       "Text(0, 0.5, 'Global Temp Anomaly Autocorrelation')"
      ]
     },
     "execution_count": 16,
     "metadata": {},
     "output_type": "execute_result"
    },
    {
     "data": {
      "image/png": "[encoded data removed]",
      "text/plain": [
       "<Figure size 432x288 with 1 Axes>"
      ]
     },
     "metadata": {
      "needs_background": "light"
     },
     "output_type": "display_data"
    }
   ],
   "source": [
    "xgen_acf=[i for i in range(len(gen_acf))]\n",
    "plt.plot(xgen_acf,gen_acf)\n",
    "plt.xlabel(\"Lag\")\n",
    "plt.ylabel(\"Global Temp Anomaly Autocorrelation\")\n",
    "#array length 2^alpha => 2n"
   ]
  },
  {
   "cell_type": "markdown",
   "id": "hearing-width",
   "metadata": {},
   "source": [
    "Now, use an external library in the language of your choice to compute the autocorrelation using Fast-Fourier Transform (FFT). Within Python, you can use correlate in SciPy package from scipy.signal import correlate to compute the autocorrelation. To do so, you will have to first normalize the input data (the anomaly data) to its mean. Then you pass the data in syntax like the following,"
   ]
  },
  {
   "cell_type": "code",
   "execution_count": 29,
   "id": "systematic-lighter",
   "metadata": {},
   "outputs": [],
   "source": [
    "anomalies=meandf[\"anomaly\"]"
   ]
  },
  {
   "cell_type": "code",
   "execution_count": 25,
   "id": "together-broadcasting",
   "metadata": {},
   "outputs": [],
   "source": [
    "\n",
    "\"\"\" Code Provided from Assignment \"\"\"\n",
    "import numpy as np\n",
    "from scipy.signal import correlate\n",
    "\n",
    "anomalies = anomalies - np.mean(anomalies) #normalizing anomalies\n",
    "\n",
    "nlag = len(anomalies) - 1\n",
    "acf = np.zeros(nlag)\n",
    "\n",
    "acf = correlate ( anomalies\n",
    "                , anomalies\n",
    "                , mode = \"full\"\n",
    "                )[nlag:2*nlag]\n",
    "acf = acf / acf[0]\n",
    "xacf=[i for i in range(len(acf))]"
   ]
  },
  {
   "cell_type": "code",
   "execution_count": 31,
   "id": "hindu-maker",
   "metadata": {},
   "outputs": [
    {
     "name": "stdout",
     "output_type": "stream",
     "text": [
      "65.9 µs ± 1.71 µs per loop (mean ± std. dev. of 7 runs, 10000 loops each)\n"
     ]
    }
   ],
   "source": [
    "%%timeit\n",
    "acf = correlate ( anomalies\n",
    "                , anomalies\n",
    "                , mode = \"full\"\n",
    "                )[nlag:2*nlag]\n",
    "acf = acf / acf[0]"
   ]
  },
  {
   "cell_type": "code",
   "execution_count": 26,
   "id": "painful-interim",
   "metadata": {
    "scrolled": true
   },
   "outputs": [
    {
     "data": {
      "text/plain": [
       "Text(0, 0.5, 'Global Temp Anomaly Autocorrelation')"
      ]
     },
     "execution_count": 26,
     "metadata": {},
     "output_type": "execute_result"
    },
    {
     "data": {
      "image/png": "[encoded data removed]",
      "text/plain": [
       "<Figure size 432x288 with 1 Axes>"
      ]
     },
     "metadata": {
      "needs_background": "light"
     },
     "output_type": "display_data"
    }
   ],
   "source": [
    "plt.plot(xacf,acf)\n",
    "plt.xlabel(\"Lag\")\n",
    "plt.ylabel(\"Global Temp Anomaly Autocorrelation\")"
   ]
  },
  {
   "cell_type": "markdown",
   "id": "passing-rogers",
   "metadata": {},
   "source": [
    "Comparing using other libraries:"
   ]
  },
  {
   "cell_type": "code",
   "execution_count": 22,
   "id": "solved-cosmetic",
   "metadata": {},
   "outputs": [],
   "source": [
    "\"\"\" Using statsmodels acf \"\"\"\n",
    "import statsmodels.api as sm\n",
    "t1=sm.tsa.acf(mdata[:,1], nlags=len(mdata[:,1]))"
   ]
  },
  {
   "cell_type": "code",
   "execution_count": 23,
   "id": "fresh-feeding",
   "metadata": {
    "scrolled": true
   },
   "outputs": [
    {
     "data": {
      "text/plain": [
       "Text(0, 0.5, 'Global Temp Anomaly Autocorrelation')"
      ]
     },
     "execution_count": 23,
     "metadata": {},
     "output_type": "execute_result"
    },
    {
     "data": {
      "image/png": "[encoded data removed]",
      "text/plain": [
       "<Figure size 432x288 with 1 Axes>"
      ]
     },
     "metadata": {
      "needs_background": "light"
     },
     "output_type": "display_data"
    }
   ],
   "source": [
    "xt1=[i for i in range(len(t1))]\n",
    "plt.plot(xt1,t1)\n",
    "plt.xlabel(\"Lag\")\n",
    "plt.ylabel(\"Global Temp Anomaly Autocorrelation\")"
   ]
  }
 ],
 "metadata": {
  "kernelspec": {
   "display_name": "Python 3",
   "language": "python",
   "name": "python3"
  },
  "language_info": {
   "codemirror_mode": {
    "name": "ipython",
    "version": 3
   },
   "file_extension": ".py",
   "mimetype": "text/x-python",
   "name": "python",
   "nbconvert_exporter": "python",
   "pygments_lexer": "ipython3",
   "version": "3.8.5"
  }
 },
 "nbformat": 4,
 "nbformat_minor": 5
}
