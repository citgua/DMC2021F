{
 "cells": [
  {
   "cell_type": "markdown",
   "id": "acknowledged-difference",
   "metadata": {},
   "source": [
    "# [Homework 1](https://www.cdslab.org/DMC2021F/homework/1-intro-data) : Introduction and getting to know the data"
   ]
  },
  {
   "cell_type": "markdown",
   "id": "sufficient-exhibit",
   "metadata": {},
   "source": [
    "**1.** Version-control using Git and GitHub [(Only Part 1)](https://www.cdslab.org/recipes/programming/vcs-using-git-github/vcs-using-git-github#problem-part-1)"
   ]
  },
  {
   "cell_type": "markdown",
   "id": "hollow-least",
   "metadata": {},
   "source": [
    "- [my DMC gihub repo](https://github.com/citgua/DMC2021F/blob/main/README.md)"
   ]
  },
  {
   "cell_type": "markdown",
   "id": "future-wrist",
   "metadata": {},
   "source": [
    "**2.** What is Data Mining?"
   ]
  },
  {
   "cell_type": "markdown",
   "id": "chemical-distributor",
   "metadata": {},
   "source": [
    "- Data mining is being able to extract knowledge from massive amount of data."
   ]
  },
  {
   "cell_type": "markdown",
   "id": "backed-extreme",
   "metadata": {},
   "source": [
    "**3.** How is a data warehouse different from a database? How are they similar?"
   ]
  },
  {
   "cell_type": "markdown",
   "id": "permanent-american",
   "metadata": {},
   "source": [
    "- DB used to collect and store smaller amount of data while DW is best suited to handle and analyze larger data. DW is capable to accomadate to multiple applications while DB is typically constraint to one.\n",
    "- Both manage data in similar formats such as tables and data types."
   ]
  },
  {
   "cell_type": "markdown",
   "id": "twelve-colorado",
   "metadata": {},
   "source": [
    "**4.** Explain the difference and similarity between classification and regression."
   ]
  },
  {
   "cell_type": "markdown",
   "id": "progressive-force",
   "metadata": {},
   "source": [
    "- Both classification and regression are tools used to analyze unseen patterns in data (predictive mining). Both are categorized as supervised learning algorithms under Machine Learning as well. \n",
    "- However, classification is disctrete regression (predicts values such as gender) while regression is continuous(values such as temp)."
   ]
  },
  {
   "cell_type": "markdown",
   "id": "passive-moldova",
   "metadata": {},
   "source": [
    "**5.** Outliers are often discarded as noise. However, one person’s garbage could be another’s treasure. For example, exceptions in credit card transactions can help us detect the fraudulent use of credit cards. Using fraudulence detection as an example, propose two methods that can be used to detect outliers and discuss which one is more reliable."
   ]
  },
  {
   "cell_type": "markdown",
   "id": "accessible-vegetarian",
   "metadata": {},
   "source": [
    "- Statistical Modeling (Model-Based Method): Outliers are points that don't fit to the model such as if transaction shows abnormal buying patterns.\n",
    "- DBSCAN (Clustering - ML method): Discriminant method that detects densely packed regions of the space and marks the data points in low-density areas as anomalous.\n",
    "- The DBSCAN algorithm is sensitive to its configuration but performs well after parameter optimization. Unsupervised methods can be useful in situations where there is no prior knowledge of classes of observations."
   ]
  },
  {
   "cell_type": "markdown",
   "id": "exclusive-adelaide",
   "metadata": {},
   "source": [
    "**6.** What is a Data Tuple?"
   ]
  },
  {
   "cell_type": "markdown",
   "id": "representative-extreme",
   "metadata": {},
   "source": [
    "- It is a data object stored in a database. Usually described in a table as a single row that holds all the data for an individual object."
   ]
  },
  {
   "cell_type": "markdown",
   "id": "packed-group",
   "metadata": {},
   "source": [
    "**7.** What are the major challenges of mining a huge amount of data (e.g., billions of tuples) in comparison with mining a small amount of data (e.g., data set of a few hundred tuple)?"
   ]
  },
  {
   "cell_type": "markdown",
   "id": "sticky-organ",
   "metadata": {},
   "source": [
    "- Tuple size is consider to pick right technoques to improve performance and efficiency of measurements and results. When mining larger amount of data,some major challenges to overcome is the scabability and increasing processing of algorithms."
   ]
  },
  {
   "cell_type": "markdown",
   "id": "ruled-insulation",
   "metadata": {},
   "source": [
    "**8.** Name the common kinds of attributes and provide an example for each."
   ]
  },
  {
   "cell_type": "markdown",
   "id": "attended-uncertainty",
   "metadata": {},
   "source": [
    "- Nominal (Categorical): symbols or names such as states\n",
    "- Binary (Nominal of two categories 0 or 1): Boolean -True/False\n",
    "- Ordinal: size ranking , school grading system\n",
    "- Numerical: longitude-latitude(location), temperature (scale)\n",
    "- Continuous (any value within a range): height\n",
    "- Discrete (countable infinite): zip codes"
   ]
  },
  {
   "cell_type": "markdown",
   "id": "guided-extra",
   "metadata": {},
   "source": [
    "**9.** Consider this weighted dataset comprised of 500 observations (tuples) each of each is described by 5 attributes. Note that the last column of data is the weight of each tuple. **Compute the weighted mean of this sample.**"
   ]
  },
  {
   "cell_type": "code",
   "execution_count": 1,
   "id": "limiting-revolution",
   "metadata": {},
   "outputs": [],
   "source": [
    "import pandas as pd"
   ]
  },
  {
   "cell_type": "code",
   "execution_count": 2,
   "id": "handy-closure",
   "metadata": {},
   "outputs": [],
   "source": [
    "df = pd.read_csv('data_9.txt', sep=\",\") "
   ]
  },
  {
   "cell_type": "code",
   "execution_count": 3,
   "id": "valued-buyer",
   "metadata": {
    "scrolled": false
   },
   "outputs": [
    {
     "data": {
      "text/html": [
       "<div>\n",
       "<style scoped>\n",
       "    .dataframe tbody tr th:only-of-type {\n",
       "        vertical-align: middle;\n",
       "    }\n",
       "\n",
       "    .dataframe tbody tr th {\n",
       "        vertical-align: top;\n",
       "    }\n",
       "\n",
       "    .dataframe thead th {\n",
       "        text-align: right;\n",
       "    }\n",
       "</style>\n",
       "<table border=\"1\" class=\"dataframe\">\n",
       "  <thead>\n",
       "    <tr style=\"text-align: right;\">\n",
       "      <th></th>\n",
       "      <th>attr1</th>\n",
       "      <th>attr2</th>\n",
       "      <th>attr3</th>\n",
       "      <th>attr4</th>\n",
       "      <th>attr5</th>\n",
       "      <th>weight</th>\n",
       "    </tr>\n",
       "  </thead>\n",
       "  <tbody>\n",
       "    <tr>\n",
       "      <th>0</th>\n",
       "      <td>0.537667</td>\n",
       "      <td>0.537667</td>\n",
       "      <td>0.537667</td>\n",
       "      <td>0.537667</td>\n",
       "      <td>0.537667</td>\n",
       "      <td>4.905454e-03</td>\n",
       "    </tr>\n",
       "    <tr>\n",
       "      <th>1</th>\n",
       "      <td>1.833885</td>\n",
       "      <td>1.833885</td>\n",
       "      <td>1.833885</td>\n",
       "      <td>1.833885</td>\n",
       "      <td>1.833885</td>\n",
       "      <td>2.254622e-06</td>\n",
       "    </tr>\n",
       "    <tr>\n",
       "      <th>2</th>\n",
       "      <td>-2.258847</td>\n",
       "      <td>-2.258847</td>\n",
       "      <td>-2.258847</td>\n",
       "      <td>-2.258847</td>\n",
       "      <td>-2.258847</td>\n",
       "      <td>2.915424e-08</td>\n",
       "    </tr>\n",
       "    <tr>\n",
       "      <th>3</th>\n",
       "      <td>0.862173</td>\n",
       "      <td>0.862173</td>\n",
       "      <td>0.862173</td>\n",
       "      <td>0.862173</td>\n",
       "      <td>0.862173</td>\n",
       "      <td>1.575709e-03</td>\n",
       "    </tr>\n",
       "    <tr>\n",
       "      <th>4</th>\n",
       "      <td>0.318765</td>\n",
       "      <td>0.318765</td>\n",
       "      <td>0.318765</td>\n",
       "      <td>0.318765</td>\n",
       "      <td>0.318765</td>\n",
       "      <td>7.838398e-03</td>\n",
       "    </tr>\n",
       "    <tr>\n",
       "      <th>...</th>\n",
       "      <td>...</td>\n",
       "      <td>...</td>\n",
       "      <td>...</td>\n",
       "      <td>...</td>\n",
       "      <td>...</td>\n",
       "      <td>...</td>\n",
       "    </tr>\n",
       "    <tr>\n",
       "      <th>495</th>\n",
       "      <td>-0.608557</td>\n",
       "      <td>-0.608557</td>\n",
       "      <td>-0.608557</td>\n",
       "      <td>-0.608557</td>\n",
       "      <td>-0.608557</td>\n",
       "      <td>4.003653e-03</td>\n",
       "    </tr>\n",
       "    <tr>\n",
       "      <th>496</th>\n",
       "      <td>-0.737060</td>\n",
       "      <td>-0.737060</td>\n",
       "      <td>-0.737060</td>\n",
       "      <td>-0.737060</td>\n",
       "      <td>-0.737060</td>\n",
       "      <td>2.598462e-03</td>\n",
       "    </tr>\n",
       "    <tr>\n",
       "      <th>497</th>\n",
       "      <td>-1.749879</td>\n",
       "      <td>-1.749879</td>\n",
       "      <td>-1.749879</td>\n",
       "      <td>-1.749879</td>\n",
       "      <td>-1.749879</td>\n",
       "      <td>4.785660e-06</td>\n",
       "    </tr>\n",
       "    <tr>\n",
       "      <th>498</th>\n",
       "      <td>0.910483</td>\n",
       "      <td>0.910483</td>\n",
       "      <td>0.910483</td>\n",
       "      <td>0.910483</td>\n",
       "      <td>0.910483</td>\n",
       "      <td>1.272033e-03</td>\n",
       "    </tr>\n",
       "    <tr>\n",
       "      <th>499</th>\n",
       "      <td>0.867083</td>\n",
       "      <td>0.867083</td>\n",
       "      <td>0.867083</td>\n",
       "      <td>0.867083</td>\n",
       "      <td>0.867083</td>\n",
       "      <td>1.542620e-03</td>\n",
       "    </tr>\n",
       "  </tbody>\n",
       "</table>\n",
       "<p>500 rows × 6 columns</p>\n",
       "</div>"
      ],
      "text/plain": [
       "        attr1     attr2     attr3     attr4     attr5        weight\n",
       "0    0.537667  0.537667  0.537667  0.537667  0.537667  4.905454e-03\n",
       "1    1.833885  1.833885  1.833885  1.833885  1.833885  2.254622e-06\n",
       "2   -2.258847 -2.258847 -2.258847 -2.258847 -2.258847  2.915424e-08\n",
       "3    0.862173  0.862173  0.862173  0.862173  0.862173  1.575709e-03\n",
       "4    0.318765  0.318765  0.318765  0.318765  0.318765  7.838398e-03\n",
       "..        ...       ...       ...       ...       ...           ...\n",
       "495 -0.608557 -0.608557 -0.608557 -0.608557 -0.608557  4.003653e-03\n",
       "496 -0.737060 -0.737060 -0.737060 -0.737060 -0.737060  2.598462e-03\n",
       "497 -1.749879 -1.749879 -1.749879 -1.749879 -1.749879  4.785660e-06\n",
       "498  0.910483  0.910483  0.910483  0.910483  0.910483  1.272033e-03\n",
       "499  0.867083  0.867083  0.867083  0.867083  0.867083  1.542620e-03\n",
       "\n",
       "[500 rows x 6 columns]"
      ]
     },
     "execution_count": 3,
     "metadata": {},
     "output_type": "execute_result"
    }
   ],
   "source": [
    "df"
   ]
  },
  {
   "cell_type": "code",
   "execution_count": 4,
   "id": "pressed-migration",
   "metadata": {},
   "outputs": [],
   "source": [
    "#weighted mean formula\n",
    "def wm(att,weight):\n",
    "    wm_formula = (df[att]*df[weight]).sum()/df[weight].sum()\n",
    "    return wm_formula"
   ]
  },
  {
   "cell_type": "code",
   "execution_count": 5,
   "id": "introductory-fabric",
   "metadata": {},
   "outputs": [
    {
     "data": {
      "text/plain": [
       "0.00937035632001312"
      ]
     },
     "execution_count": 5,
     "metadata": {},
     "output_type": "execute_result"
    }
   ],
   "source": [
    "wm(\"attr1\",\"weight\")"
   ]
  },
  {
   "cell_type": "code",
   "execution_count": 6,
   "id": "mathematical-canada",
   "metadata": {
    "scrolled": true
   },
   "outputs": [
    {
     "name": "stdout",
     "output_type": "stream",
     "text": [
      "Weighted mean:\n",
      "attr1: 0.00937035632001312\n",
      "attr2: 0.00937035632001312\n",
      "attr3: 0.00937035632001312\n",
      "attr4: 0.00937035632001312\n",
      "attr5: 0.00937035632001312\n"
     ]
    }
   ],
   "source": [
    "print(\"Weighted mean:\")\n",
    "for col in df.columns[:-1]:\n",
    "    print(col+\":\",wm(col,\"weight\"))"
   ]
  },
  {
   "cell_type": "markdown",
   "id": "korean-latvia",
   "metadata": {},
   "source": [
    "**10.** Consider this dataset comprised of 1000 observations (tuples). \n",
    "\n",
    "**Compute the first four standardized moments of this sample (mean, standard deviation, skewness, kurtosis).**"
   ]
  },
  {
   "cell_type": "code",
   "execution_count": 7,
   "id": "wireless-saver",
   "metadata": {},
   "outputs": [],
   "source": [
    "import numpy as np\n",
    "import matplotlib.pyplot as plt\n",
    "from scipy.stats import norm\n",
    "import statistics"
   ]
  },
  {
   "cell_type": "code",
   "execution_count": 8,
   "id": "valuable-microphone",
   "metadata": {},
   "outputs": [],
   "source": [
    "#calculating using formulas provided\n",
    "def mean(data): \n",
    "      n = len(data)\n",
    "      mean = sum(data) / n\n",
    "      return mean\n",
    "\n",
    "def variance(data):\n",
    "   \n",
    "  n = len(data)\n",
    "   \n",
    "  mean = sum(data) / n\n",
    "   \n",
    "  deviations = [(x - mean) ** 2 for x in data]\n",
    "    \n",
    "  variance = sum(deviations) / n\n",
    "  return variance\n",
    "\n",
    "def stdev(data):\n",
    "      import math\n",
    "      var = variance(data)\n",
    "      std_dev = math.sqrt(var)\n",
    "      return std_dev\n",
    "\n",
    "def skw(data):\n",
    "    d=(sum((data-mean(data))**3)/len(data))/stdev(data)**3\n",
    "    return d\n",
    "def kurt(data):\n",
    "    d=(sum((data-mean(data))**4)/len(data))/stdev(data)**4\n",
    "    return d\n"
   ]
  },
  {
   "cell_type": "code",
   "execution_count": 9,
   "id": "equivalent-rebecca",
   "metadata": {
    "scrolled": false
   },
   "outputs": [],
   "source": [
    "df_2 = pd.read_csv('data_10.txt', sep=\",\")\n",
    "x_axis=df_2[\"sample\"].tolist() #range"
   ]
  },
  {
   "cell_type": "code",
   "execution_count": 10,
   "id": "fleet-session",
   "metadata": {},
   "outputs": [
    {
     "data": {
      "text/html": [
       "<div>\n",
       "<style scoped>\n",
       "    .dataframe tbody tr th:only-of-type {\n",
       "        vertical-align: middle;\n",
       "    }\n",
       "\n",
       "    .dataframe tbody tr th {\n",
       "        vertical-align: top;\n",
       "    }\n",
       "\n",
       "    .dataframe thead th {\n",
       "        text-align: right;\n",
       "    }\n",
       "</style>\n",
       "<table border=\"1\" class=\"dataframe\">\n",
       "  <thead>\n",
       "    <tr style=\"text-align: right;\">\n",
       "      <th></th>\n",
       "      <th>sample</th>\n",
       "    </tr>\n",
       "  </thead>\n",
       "  <tbody>\n",
       "    <tr>\n",
       "      <th>count</th>\n",
       "      <td>1000.000000</td>\n",
       "    </tr>\n",
       "    <tr>\n",
       "      <th>mean</th>\n",
       "      <td>2.127795</td>\n",
       "    </tr>\n",
       "    <tr>\n",
       "      <th>std</th>\n",
       "      <td>2.088665</td>\n",
       "    </tr>\n",
       "    <tr>\n",
       "      <th>min</th>\n",
       "      <td>0.001194</td>\n",
       "    </tr>\n",
       "    <tr>\n",
       "      <th>25%</th>\n",
       "      <td>0.677911</td>\n",
       "    </tr>\n",
       "    <tr>\n",
       "      <th>50%</th>\n",
       "      <td>1.493907</td>\n",
       "    </tr>\n",
       "    <tr>\n",
       "      <th>75%</th>\n",
       "      <td>2.880746</td>\n",
       "    </tr>\n",
       "    <tr>\n",
       "      <th>max</th>\n",
       "      <td>14.031026</td>\n",
       "    </tr>\n",
       "  </tbody>\n",
       "</table>\n",
       "</div>"
      ],
      "text/plain": [
       "            sample\n",
       "count  1000.000000\n",
       "mean      2.127795\n",
       "std       2.088665\n",
       "min       0.001194\n",
       "25%       0.677911\n",
       "50%       1.493907\n",
       "75%       2.880746\n",
       "max      14.031026"
      ]
     },
     "execution_count": 10,
     "metadata": {},
     "output_type": "execute_result"
    }
   ],
   "source": [
    "df_2.describe()"
   ]
  },
  {
   "cell_type": "code",
   "execution_count": 11,
   "id": "assumed-constraint",
   "metadata": {},
   "outputs": [
    {
     "name": "stdout",
     "output_type": "stream",
     "text": [
      "n_mean: 2.1277952714163515\n",
      "n_std: 2.0876207870467125\n"
     ]
    }
   ],
   "source": [
    "#calcualating mean and standard deviation using numpy \n",
    "np.mean(df_2.values)\n",
    "print(\"n_mean:\",np.mean(df_2.values))\n",
    "print(\"n_std:\",np.std(df_2.values))"
   ]
  },
  {
   "cell_type": "code",
   "execution_count": 12,
   "id": "guided-schedule",
   "metadata": {},
   "outputs": [
    {
     "name": "stdout",
     "output_type": "stream",
     "text": [
      "s_mean: 2.1277952714163515\n",
      "s_std: 2.088665380950984\n"
     ]
    }
   ],
   "source": [
    "# Calculating mean and standard deviation using statistics mod\n",
    "s_mean = statistics.mean(x_axis)\n",
    "s_std = statistics.stdev(x_axis)\n",
    "\n",
    "print(\"s_mean:\",s_mean)\n",
    "print(\"s_std:\",s_std)"
   ]
  },
  {
   "cell_type": "code",
   "execution_count": 13,
   "id": "romance-amplifier",
   "metadata": {},
   "outputs": [
    {
     "name": "stdout",
     "output_type": "stream",
     "text": [
      "Calculated mean: 2.1277952714163515\n",
      "Calculated std: 2.0876207870467134\n"
     ]
    }
   ],
   "source": [
    "#calcualating mean and std using formulas\n",
    "print(\"Calculated mean:\",mean(x_axis))\n",
    "print(\"Calculated std:\",stdev(x_axis))"
   ]
  },
  {
   "cell_type": "code",
   "execution_count": 14,
   "id": "endless-joshua",
   "metadata": {},
   "outputs": [
    {
     "name": "stdout",
     "output_type": "stream",
     "text": [
      "Sample Distribution\n"
     ]
    },
    {
     "data": {
      "image/png": "[encoded data removed]",
      "text/plain": [
       "<Figure size 432x288 with 1 Axes>"
      ]
     },
     "metadata": {
      "needs_background": "light"
     },
     "output_type": "display_data"
    }
   ],
   "source": [
    "print(\"Sample Distribution\")\n",
    "plt.plot(x_axis, norm.pdf(x_axis,mean(x_axis), stdev(x_axis)))\n",
    "plt.show()"
   ]
  },
  {
   "cell_type": "markdown",
   "id": "improving-elements",
   "metadata": {},
   "source": [
    "Standarizing Data:"
   ]
  },
  {
   "cell_type": "code",
   "execution_count": 17,
   "id": "excessive-monitoring",
   "metadata": {
    "scrolled": false
   },
   "outputs": [],
   "source": [
    "ndf=(df_2-mean(x_axis))/stdev(x_axis)\n",
    "nx_axis=ndf[\"sample\"].tolist() #range"
   ]
  },
  {
   "cell_type": "code",
   "execution_count": 19,
   "id": "liable-attraction",
   "metadata": {
    "scrolled": false
   },
   "outputs": [
    {
     "name": "stdout",
     "output_type": "stream",
     "text": [
      "Stan mean: -1.3378187446733136e-17\n",
      "Stan std: 0.9999999999999992\n",
      "Stan skewness: 1.9066028261720387\n",
      "Stan kurtosis: 7.670778393167046\n",
      "\n",
      "Standard Normal  Distribution\n"
     ]
    },
    {
     "data": {
      "image/png": "[encoded data removed]",
      "text/plain": [
       "<Figure size 432x288 with 1 Axes>"
      ]
     },
     "metadata": {
      "needs_background": "light"
     },
     "output_type": "display_data"
    }
   ],
   "source": [
    "print(\"Stan mean:\", mean(nx_axis)) #first moment\n",
    "print(\"Stan std:\",stdev(nx_axis)) #second moment\n",
    "print(\"Stan skewness:\",skw(ndf[\"sample\"])) #third moment\n",
    "print(\"Stan kurtosis:\",kurt(ndf[\"sample\"])) #fourth moment\n",
    "print(\"\\nStandard Normal  Distribution\")\n",
    "plt.plot(nx_axis, norm.pdf(nx_axis,mean(nx_axis),stdev(nx_axis)))\n",
    "plt.show()"
   ]
  },
  {
   "cell_type": "code",
   "execution_count": 20,
   "id": "optional-jacob",
   "metadata": {},
   "outputs": [],
   "source": [
    "from scipy.stats import moment, skew, kurtosis"
   ]
  },
  {
   "cell_type": "code",
   "execution_count": 21,
   "id": "constitutional-oxygen",
   "metadata": {},
   "outputs": [],
   "source": [
    "#The k-th central moment of standard data using scipy\n",
    "mmt=dict()\n",
    "mmt[\"mean\"]=moment(ndf['sample'],moment=1)\n",
    "mmt[\"std\"]=moment(ndf['sample'],moment=2)\n",
    "mmt[\"skewness\"]=moment(ndf['sample'],moment=3)\n",
    "mmt[\"kurtosis\"]=moment(ndf['sample'],moment=4)"
   ]
  },
  {
   "cell_type": "code",
   "execution_count": 22,
   "id": "talented-simulation",
   "metadata": {
    "scrolled": true
   },
   "outputs": [
    {
     "data": {
      "text/html": [
       "<div>\n",
       "<style scoped>\n",
       "    .dataframe tbody tr th:only-of-type {\n",
       "        vertical-align: middle;\n",
       "    }\n",
       "\n",
       "    .dataframe tbody tr th {\n",
       "        vertical-align: top;\n",
       "    }\n",
       "\n",
       "    .dataframe thead th {\n",
       "        text-align: right;\n",
       "    }\n",
       "</style>\n",
       "<table border=\"1\" class=\"dataframe\">\n",
       "  <thead>\n",
       "    <tr style=\"text-align: right;\">\n",
       "      <th></th>\n",
       "      <th>mean</th>\n",
       "      <th>std</th>\n",
       "      <th>skewness</th>\n",
       "      <th>kurtosis</th>\n",
       "    </tr>\n",
       "  </thead>\n",
       "  <tbody>\n",
       "    <tr>\n",
       "      <th>0</th>\n",
       "      <td>0.0</td>\n",
       "      <td>1.0</td>\n",
       "      <td>1.906603</td>\n",
       "      <td>7.670778</td>\n",
       "    </tr>\n",
       "  </tbody>\n",
       "</table>\n",
       "</div>"
      ],
      "text/plain": [
       "   mean  std  skewness  kurtosis\n",
       "0   0.0  1.0  1.906603  7.670778"
      ]
     },
     "execution_count": 22,
     "metadata": {},
     "output_type": "execute_result"
    }
   ],
   "source": [
    "mmt_df = pd.DataFrame([mmt], columns=mmt.keys())\n",
    "mmt_df"
   ]
  },
  {
   "cell_type": "code",
   "execution_count": 23,
   "id": "resistant-episode",
   "metadata": {},
   "outputs": [
    {
     "data": {
      "text/plain": [
       "1.9094682227598787"
      ]
     },
     "execution_count": 23,
     "metadata": {},
     "output_type": "execute_result"
    }
   ],
   "source": [
    "skew(ndf['sample'],bias=False) #3rd momemnt if using skew from stats"
   ]
  },
  {
   "cell_type": "code",
   "execution_count": 24,
   "id": "supreme-lender",
   "metadata": {
    "scrolled": true
   },
   "outputs": [
    {
     "data": {
      "text/plain": [
       "4.700240724567135"
      ]
     },
     "execution_count": 24,
     "metadata": {},
     "output_type": "execute_result"
    }
   ],
   "source": [
    "kurtosis(ndf['sample'],bias=False) #4th moment if using kurtosis from stats"
   ]
  },
  {
   "cell_type": "markdown",
   "id": "overall-diagnosis",
   "metadata": {},
   "source": [
    "Sample has a psotively-skewed distribution (skew >0) and positive excess kurtosis (playkurtic). "
   ]
  }
 ],
 "metadata": {
  "kernelspec": {
   "display_name": "Python 3",
   "language": "python",
   "name": "python3"
  },
  "language_info": {
   "codemirror_mode": {
    "name": "ipython",
    "version": 3
   },
   "file_extension": ".py",
   "mimetype": "text/x-python",
   "name": "python",
   "nbconvert_exporter": "python",
   "pygments_lexer": "ipython3",
   "version": "3.8.5"
  }
 },
 "nbformat": 4,
 "nbformat_minor": 5
}
