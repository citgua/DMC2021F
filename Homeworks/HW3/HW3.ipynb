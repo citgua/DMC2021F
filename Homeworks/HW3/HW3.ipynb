{
 "cells": [
  {
   "cell_type": "code",
   "execution_count": 2,
   "id": "alert-glenn",
   "metadata": {},
   "outputs": [],
   "source": [
    "import pandas as pd\n",
    "import matplotlib.pyplot as plt \n",
    "import numpy as np"
   ]
  },
  {
   "cell_type": "code",
   "execution_count": 3,
   "id": "continuing-accent",
   "metadata": {},
   "outputs": [],
   "source": [
    "url='https://www.cdslab.org/recipes/programming/stat-covmat/globalLandTempHist.txt'"
   ]
  },
  {
   "cell_type": "code",
   "execution_count": 4,
   "id": "explicit-kinase",
   "metadata": {},
   "outputs": [],
   "source": [
    "#downloads file from given url\n",
    "def download(url, fpath):\n",
    "    import requests\n",
    "    r = requests.get(url)\n",
    "    with open(fpath, 'wb') as f:\n",
    "        f.write(r.content)\n",
    "    return None\n",
    "\n",
    "#fetching data file\n",
    "def fetchDatafromWeb(filePath=\"./globalLandTempHist.txt\",\n",
    "                         url= url):\n",
    "    download(url,filePath)\n",
    "    return filePath\n",
    "\n",
    "def readFile(fpath):\n",
    "    import pandas as pd\n",
    "    return pd.read_csv(fpath, \", \") \n"
   ]
  },
  {
   "cell_type": "code",
   "execution_count": 6,
   "id": "impaired-trial",
   "metadata": {
    "scrolled": true
   },
   "outputs": [
    {
     "data": {
      "text/plain": [
       "'./globalLandTempHist.txt'"
      ]
     },
     "execution_count": 6,
     "metadata": {},
     "output_type": "execute_result"
    }
   ],
   "source": [
    "fetchDatafromWeb()"
   ]
  },
  {
   "cell_type": "code",
   "execution_count": 5,
   "id": "acquired-helena",
   "metadata": {
    "scrolled": false
   },
   "outputs": [
    {
     "name": "stderr",
     "output_type": "stream",
     "text": [
      "<ipython-input-4-47e34b36e366>:17: ParserWarning: Falling back to the 'python' engine because the 'c' engine does not support regex separators (separators > 1 char and different from '\\s+' are interpreted as regex); you can avoid this warning by specifying engine='python'.\n",
      "  return pd.read_csv(fpath, \", \")\n"
     ]
    },
    {
     "data": {
      "text/html": [
       "<div>\n",
       "<style scoped>\n",
       "    .dataframe tbody tr th:only-of-type {\n",
       "        vertical-align: middle;\n",
       "    }\n",
       "\n",
       "    .dataframe tbody tr th {\n",
       "        vertical-align: top;\n",
       "    }\n",
       "\n",
       "    .dataframe thead th {\n",
       "        text-align: right;\n",
       "    }\n",
       "</style>\n",
       "<table border=\"1\" class=\"dataframe\">\n",
       "  <thead>\n",
       "    <tr style=\"text-align: right;\">\n",
       "      <th></th>\n",
       "      <th>year</th>\n",
       "      <th>anomaly</th>\n",
       "    </tr>\n",
       "  </thead>\n",
       "  <tbody>\n",
       "    <tr>\n",
       "      <th>0</th>\n",
       "      <td>1743.846154</td>\n",
       "      <td>-1.131</td>\n",
       "    </tr>\n",
       "    <tr>\n",
       "      <th>1</th>\n",
       "      <td>1743.923077</td>\n",
       "      <td>NaN</td>\n",
       "    </tr>\n",
       "    <tr>\n",
       "      <th>2</th>\n",
       "      <td>1744.076923</td>\n",
       "      <td>NaN</td>\n",
       "    </tr>\n",
       "    <tr>\n",
       "      <th>3</th>\n",
       "      <td>1744.153846</td>\n",
       "      <td>NaN</td>\n",
       "    </tr>\n",
       "    <tr>\n",
       "      <th>4</th>\n",
       "      <td>1744.230769</td>\n",
       "      <td>NaN</td>\n",
       "    </tr>\n",
       "    <tr>\n",
       "      <th>...</th>\n",
       "      <td>...</td>\n",
       "      <td>...</td>\n",
       "    </tr>\n",
       "    <tr>\n",
       "      <th>3234</th>\n",
       "      <td>2013.384615</td>\n",
       "      <td>0.813</td>\n",
       "    </tr>\n",
       "    <tr>\n",
       "      <th>3235</th>\n",
       "      <td>2013.461538</td>\n",
       "      <td>1.088</td>\n",
       "    </tr>\n",
       "    <tr>\n",
       "      <th>3236</th>\n",
       "      <td>2013.538462</td>\n",
       "      <td>0.671</td>\n",
       "    </tr>\n",
       "    <tr>\n",
       "      <th>3237</th>\n",
       "      <td>2013.615385</td>\n",
       "      <td>0.919</td>\n",
       "    </tr>\n",
       "    <tr>\n",
       "      <th>3238</th>\n",
       "      <td>2013.692308</td>\n",
       "      <td>1.950</td>\n",
       "    </tr>\n",
       "  </tbody>\n",
       "</table>\n",
       "<p>3239 rows × 2 columns</p>\n",
       "</div>"
      ],
      "text/plain": [
       "             year  anomaly\n",
       "0     1743.846154   -1.131\n",
       "1     1743.923077      NaN\n",
       "2     1744.076923      NaN\n",
       "3     1744.153846      NaN\n",
       "4     1744.230769      NaN\n",
       "...           ...      ...\n",
       "3234  2013.384615    0.813\n",
       "3235  2013.461538    1.088\n",
       "3236  2013.538462    0.671\n",
       "3237  2013.615385    0.919\n",
       "3238  2013.692308    1.950\n",
       "\n",
       "[3239 rows x 2 columns]"
      ]
     },
     "execution_count": 5,
     "metadata": {},
     "output_type": "execute_result"
    }
   ],
   "source": [
    "df=readFile('./globalLandTempHist.txt')\n",
    "df"
   ]
  },
  {
   "cell_type": "code",
   "execution_count": 6,
   "id": "therapeutic-attribute",
   "metadata": {},
   "outputs": [],
   "source": [
    "#slicing dataframe to get rows 109-3238\n",
    "sdf=df.loc[109:]"
   ]
  },
  {
   "cell_type": "code",
   "execution_count": 7,
   "id": "frank-location",
   "metadata": {
    "scrolled": false
   },
   "outputs": [
    {
     "data": {
      "text/html": [
       "<div>\n",
       "<style scoped>\n",
       "    .dataframe tbody tr th:only-of-type {\n",
       "        vertical-align: middle;\n",
       "    }\n",
       "\n",
       "    .dataframe tbody tr th {\n",
       "        vertical-align: top;\n",
       "    }\n",
       "\n",
       "    .dataframe thead th {\n",
       "        text-align: right;\n",
       "    }\n",
       "</style>\n",
       "<table border=\"1\" class=\"dataframe\">\n",
       "  <thead>\n",
       "    <tr style=\"text-align: right;\">\n",
       "      <th></th>\n",
       "      <th>year</th>\n",
       "      <th>anomaly</th>\n",
       "    </tr>\n",
       "  </thead>\n",
       "  <tbody>\n",
       "    <tr>\n",
       "      <th>0</th>\n",
       "      <td>1743.846154</td>\n",
       "      <td>-1.131</td>\n",
       "    </tr>\n",
       "    <tr>\n",
       "      <th>5</th>\n",
       "      <td>1744.307692</td>\n",
       "      <td>1.926</td>\n",
       "    </tr>\n",
       "    <tr>\n",
       "      <th>6</th>\n",
       "      <td>1744.384615</td>\n",
       "      <td>-1.115</td>\n",
       "    </tr>\n",
       "    <tr>\n",
       "      <th>7</th>\n",
       "      <td>1744.461538</td>\n",
       "      <td>-0.235</td>\n",
       "    </tr>\n",
       "    <tr>\n",
       "      <th>8</th>\n",
       "      <td>1744.538462</td>\n",
       "      <td>-0.430</td>\n",
       "    </tr>\n",
       "    <tr>\n",
       "      <th>...</th>\n",
       "      <td>...</td>\n",
       "      <td>...</td>\n",
       "    </tr>\n",
       "    <tr>\n",
       "      <th>3234</th>\n",
       "      <td>2013.384615</td>\n",
       "      <td>0.813</td>\n",
       "    </tr>\n",
       "    <tr>\n",
       "      <th>3235</th>\n",
       "      <td>2013.461538</td>\n",
       "      <td>1.088</td>\n",
       "    </tr>\n",
       "    <tr>\n",
       "      <th>3236</th>\n",
       "      <td>2013.538462</td>\n",
       "      <td>0.671</td>\n",
       "    </tr>\n",
       "    <tr>\n",
       "      <th>3237</th>\n",
       "      <td>2013.615385</td>\n",
       "      <td>0.919</td>\n",
       "    </tr>\n",
       "    <tr>\n",
       "      <th>3238</th>\n",
       "      <td>2013.692308</td>\n",
       "      <td>1.950</td>\n",
       "    </tr>\n",
       "  </tbody>\n",
       "</table>\n",
       "<p>3167 rows × 2 columns</p>\n",
       "</div>"
      ],
      "text/plain": [
       "             year  anomaly\n",
       "0     1743.846154   -1.131\n",
       "5     1744.307692    1.926\n",
       "6     1744.384615   -1.115\n",
       "7     1744.461538   -0.235\n",
       "8     1744.538462   -0.430\n",
       "...           ...      ...\n",
       "3234  2013.384615    0.813\n",
       "3235  2013.461538    1.088\n",
       "3236  2013.538462    0.671\n",
       "3237  2013.615385    0.919\n",
       "3238  2013.692308    1.950\n",
       "\n",
       "[3167 rows x 2 columns]"
      ]
     },
     "execution_count": 7,
     "metadata": {},
     "output_type": "execute_result"
    }
   ],
   "source": [
    "#droping rows with values NaN\n",
    "ndf=df.dropna()\n",
    "ndf"
   ]
  },
  {
   "cell_type": "markdown",
   "id": "hired-spirituality",
   "metadata": {},
   "source": [
    "# Computing covariance and correlation matrix"
   ]
  },
  {
   "cell_type": "code",
   "execution_count": 123,
   "id": "fewer-cleaners",
   "metadata": {},
   "outputs": [],
   "source": [
    "# calculates the covariance between X and y from given data\n",
    "def cov(x, y):\n",
    "    mean_x, mean_y = x.mean(), y.mean()\n",
    "    n = len(x)\n",
    "    \n",
    "    return sum((x - mean_x) * (y - mean_y)) / (n-1)\n",
    " \n",
    "    \n",
    "# calculates the Covariance matrix for input data \n",
    "def genCovMat(data, Mean=None):\n",
    "    \n",
    "    \"\"\"\"\"\n",
    "    Generate and return the covariance matrix of input data.\n",
    "    The cols of the data must be individual values.\n",
    "    The rows must be individual observations.\n",
    "    Please pass clean matrix of all real values (0,NA, no NaN).\n",
    "    \n",
    "    Parameters\n",
    "    ------------\n",
    "        Data\n",
    "            The input numpy matrix of data of all numeric values.\n",
    "        Mean\n",
    "            The mean of the input data along the columns (Attributes)\n",
    "            (**optional**, default=np.mean(data))\n",
    "        \n",
    "    \"\"\"\"\"\n",
    " # get the rows and cols\n",
    "    rows, cols = data.shape\n",
    "    \n",
    " # the covariance matrix has a shape of n_attributes x n_attributes\n",
    "    cov_mat = np.zeros((cols, cols))\n",
    "    #nfact= 1/(len(data[:,0])-1)\n",
    "    for i in range(cols):\n",
    "        #for j in range (i+1):\n",
    "        for j in range(cols):\n",
    "                # store the value in the matrix\n",
    "                cov_mat[i][j] = cov(data[:, i], data[:, j]) \n",
    "                #cov_mat[i][j] = nfact*np.dot(data[:,i]-mean[i],data[:,j]-mean[j])\n",
    "    return cov_mat\n",
    "\n",
    "# calculates Correlation matrix using Covariance function (cov()) for input data\n",
    "def genCorMat(data):\n",
    "\n",
    "    rows, cols = data.shape\n",
    "    #corr_mat = np.ones((cols, cols))\n",
    "    corr_mat = np.ones((cols, cols))\n",
    "    \n",
    "    for i in range(cols):\n",
    "        #for j in range (i+1): \n",
    "        for j in range(cols): \n",
    "            #if i/=j: not equal\n",
    "\n",
    "                x, y = data[:, i], data[:, j]\n",
    "                # note: covariance matrix is just being normalized\n",
    "                #corr_mat[i][j] = cov(x, y) / (x.std() * y.std())\n",
    "                corr_mat[i,j] = data[i,j] / np.sqrt(data[i,i]*data[j,j])\n",
    "                #corr_mat[j,i] = corr_mat[i,j] \n",
    "\n",
    "    return corr_mat"
   ]
  },
  {
   "cell_type": "code",
   "execution_count": 102,
   "id": "familiar-mortgage",
   "metadata": {},
   "outputs": [],
   "source": [
    "data=ndf.to_numpy()\n",
    "data_sliced=sdf.to_numpy()"
   ]
  },
  {
   "cell_type": "code",
   "execution_count": 124,
   "id": "disabled-portrait",
   "metadata": {},
   "outputs": [
    {
     "name": "stdout",
     "output_type": "stream",
     "text": [
      "[[5.81382831e+03 2.30956353e+01]\n",
      " [2.30956353e+01 8.75891017e-01]]\n",
      "[[1.         0.32364863]\n",
      " [0.32364863 1.        ]]\n"
     ]
    }
   ],
   "source": [
    "#using dropna\n",
    "cov_matrix=genCovMat(data)\n",
    "corr_matrix=genCorMat(cov_matrix)\n",
    "print(cov_matrix)\n",
    "print(corr_matrix)"
   ]
  },
  {
   "cell_type": "code",
   "execution_count": 147,
   "id": "large-symposium",
   "metadata": {},
   "outputs": [
    {
     "name": "stdout",
     "output_type": "stream",
     "text": [
      "[[5.67131156e+03 2.30733711e+01]\n",
      " [2.30733711e+01 8.70280941e-01]]\n",
      "[[1.         0.32842754]\n",
      " [0.32842754 1.        ]]\n"
     ]
    }
   ],
   "source": [
    "#using df slice after row 109\n",
    "cov_smatrix=genCovMat(data_sliced)\n",
    "corr_smatrix=genCorMat(cov_smatrix)\n",
    "print(cov_smatrix)\n",
    "print(corr_smatrix)"
   ]
  },
  {
   "cell_type": "markdown",
   "id": "numeric-japan",
   "metadata": {},
   "source": [
    "# Computing Pearson correlation coefficient"
   ]
  },
  {
   "cell_type": "code",
   "execution_count": 72,
   "id": "placed-specific",
   "metadata": {},
   "outputs": [],
   "source": [
    "import math\n",
    "def getPearsonCor(data1,data2):\n",
    "    \"\"\"\"\"\n",
    "        Generate and return the pearson correlation coefficient. \n",
    "        Input two columns of data to your function to compute the Pearson corrcoeff. \n",
    "        The columns correspond to the data attributes.\n",
    "        Make sure rows of data with \"nan\" are removed.\n",
    "        \n",
    "        Parameters:\n",
    "            data1,data2 = data attribute 1, data attribute 2\n",
    "    \"\"\"\"\"\n",
    "    x_mean, y_mean = data1.mean(), data2.mean()\n",
    "    #x_std, y_std = data1.std(), data2.std()\n",
    "    x_var = sum ((x_i - x_mean)**2 for x_i in data1)\n",
    "    y_var = sum ((y_i - y_mean)**2 for y_i in data2)\n",
    "    \n",
    "    #cov(x,y)- numerator\n",
    "    #sqrt(varx*vary)-denominator\n",
    "    cov = sum((x_i-x_mean)*(y_i-y_mean) for x_i,y_i in zip(data1,data2))\n",
    "    den = math.sqrt(x_var*y_var)\n",
    "    \n",
    "        \n",
    "    return cov/den"
   ]
  },
  {
   "cell_type": "code",
   "execution_count": 73,
   "id": "resident-formation",
   "metadata": {},
   "outputs": [
    {
     "data": {
      "text/plain": [
       "0.3236486317130351"
      ]
     },
     "execution_count": 73,
     "metadata": {},
     "output_type": "execute_result"
    }
   ],
   "source": [
    "getPearsonCor(data[:,0],data[:,1])"
   ]
  },
  {
   "cell_type": "code",
   "execution_count": 81,
   "id": "hairy-border",
   "metadata": {},
   "outputs": [
    {
     "data": {
      "text/plain": [
       "array([[1.        , 0.32364863],\n",
       "       [0.32364863, 1.        ]])"
      ]
     },
     "execution_count": 81,
     "metadata": {},
     "output_type": "execute_result"
    }
   ],
   "source": [
    "#using numpy\n",
    "np.corrcoef(data[:,0],data[:,1])"
   ]
  },
  {
   "cell_type": "code",
   "execution_count": 19,
   "id": "signal-reconstruction",
   "metadata": {
    "scrolled": true
   },
   "outputs": [
    {
     "data": {
      "text/html": [
       "<div>\n",
       "<style scoped>\n",
       "    .dataframe tbody tr th:only-of-type {\n",
       "        vertical-align: middle;\n",
       "    }\n",
       "\n",
       "    .dataframe tbody tr th {\n",
       "        vertical-align: top;\n",
       "    }\n",
       "\n",
       "    .dataframe thead th {\n",
       "        text-align: right;\n",
       "    }\n",
       "</style>\n",
       "<table border=\"1\" class=\"dataframe\">\n",
       "  <thead>\n",
       "    <tr style=\"text-align: right;\">\n",
       "      <th></th>\n",
       "      <th>year</th>\n",
       "      <th>anomaly</th>\n",
       "    </tr>\n",
       "  </thead>\n",
       "  <tbody>\n",
       "    <tr>\n",
       "      <th>year</th>\n",
       "      <td>1.000000</td>\n",
       "      <td>0.323649</td>\n",
       "    </tr>\n",
       "    <tr>\n",
       "      <th>anomaly</th>\n",
       "      <td>0.323649</td>\n",
       "      <td>1.000000</td>\n",
       "    </tr>\n",
       "  </tbody>\n",
       "</table>\n",
       "</div>"
      ],
      "text/plain": [
       "             year   anomaly\n",
       "year     1.000000  0.323649\n",
       "anomaly  0.323649  1.000000"
      ]
     },
     "execution_count": 19,
     "metadata": {},
     "output_type": "execute_result"
    }
   ],
   "source": [
    "#using pandas\n",
    "ndf.corr()"
   ]
  },
  {
   "cell_type": "code",
   "execution_count": 32,
   "id": "recreational-apollo",
   "metadata": {},
   "outputs": [
    {
     "data": {
      "text/plain": [
       "0.3236486317130345"
      ]
     },
     "execution_count": 32,
     "metadata": {},
     "output_type": "execute_result"
    }
   ],
   "source": [
    "#using SciPy\n",
    "#scipy.stats.pearsonr(x,y) returns (corrcoef, p-value)\n",
    "import scipy.stats\n",
    "scipy.stats.pearsonr(data[:,0],data[:,1])[0]"
   ]
  },
  {
   "cell_type": "markdown",
   "id": "compound-chamber",
   "metadata": {},
   "source": [
    "Pearson's r value (corrcoef between years and anomaly) is greater than 0.\n",
    "This means it has positive correlation that indicates that the global land temperature has increased with time over the past 300 years."
   ]
  },
  {
   "cell_type": "markdown",
   "id": "exclusive-resolution",
   "metadata": {},
   "source": [
    "# Computing the Spearman's correlation coefficinet of a dataset"
   ]
  },
  {
   "cell_type": "code",
   "execution_count": 144,
   "id": "domestic-style",
   "metadata": {},
   "outputs": [],
   "source": [
    "def getRank(vector):\n",
    "    lst= sorted(range(len(vector)), key=vector.__getitem__)\n",
    "    return np.asarray(lst, dtype=np.float32)"
   ]
  },
  {
   "cell_type": "code",
   "execution_count": 145,
   "id": "fiscal-thickness",
   "metadata": {},
   "outputs": [],
   "source": [
    "def getSpearmanCor(data1,data2):\n",
    "    \"\"\"\"\"\n",
    "        Generate and return the spearman correlation coefficient. \n",
    "        Input two columns of data to your function to compute the spearman corrcoeff. \n",
    "        The columns correspond to the data attributes.\n",
    "        Make sure rows of data with \"nan\" are removed.\n",
    "        \n",
    "        Parameters:\n",
    "            data1,data2 = data attribute 1, data attribute 2\n",
    "    \"\"\"\"\"\n",
    "    \n",
    "    #get array ranks of X,y\n",
    "    X_rank = getRank(data1)\n",
    "    Y_rank = getRank(data2)\n",
    "    \n",
    "    xr_mean, yr_mean =  X_rank.mean(),  Y_rank.mean()\n",
    "   \n",
    "\n",
    "    xr_var = sum ((x_i - xr_mean)**2 for x_i in  X_rank)\n",
    "    yr_var = sum ((y_i - yr_mean)**2 for y_i in  Y_rank)\n",
    "    \n",
    "    #cov(x,y)- numerator\n",
    "    #sqrt(varx*vary)-denominator\n",
    "    cov = sum((x_i-xr_mean)*(y_i-yr_mean) for x_i,y_i in zip( X_rank, Y_rank))\n",
    "    den = math.sqrt(xr_var*yr_var)\n",
    "    #den = x_std*y_std --doesnt work\n",
    "        \n",
    "    return cov/den"
   ]
  },
  {
   "cell_type": "code",
   "execution_count": 146,
   "id": "severe-species",
   "metadata": {},
   "outputs": [
    {
     "data": {
      "text/plain": [
       "0.3848867684561194"
      ]
     },
     "execution_count": 146,
     "metadata": {},
     "output_type": "execute_result"
    }
   ],
   "source": [
    "getSpearmanCor(data[:,0],data[:,1])"
   ]
  },
  {
   "cell_type": "code",
   "execution_count": 110,
   "id": "healthy-words",
   "metadata": {},
   "outputs": [
    {
     "data": {
      "text/plain": [
       "0.38458820147753553"
      ]
     },
     "execution_count": 110,
     "metadata": {},
     "output_type": "execute_result"
    }
   ],
   "source": [
    " ##scipy.stats.spearmanr(x, y) returns (correlation rho, p-value)\n",
    "scipy.stats.spearmanr(data[:,0],data[:,1]).correlation"
   ]
  },
  {
   "cell_type": "code",
   "execution_count": 111,
   "id": "nervous-monster",
   "metadata": {
    "scrolled": true
   },
   "outputs": [
    {
     "data": {
      "text/plain": [
       "0.38458820147753553"
      ]
     },
     "execution_count": 111,
     "metadata": {},
     "output_type": "execute_result"
    }
   ],
   "source": [
    "#using pandas\n",
    "ndf['year'].corr(ndf['anomaly'], method='spearman')"
   ]
  },
  {
   "cell_type": "markdown",
   "id": "prime-quebec",
   "metadata": {},
   "source": [
    "# Computing the Kendall's rank correlation coefficinet of a dataset"
   ]
  },
  {
   "cell_type": "markdown",
   "id": "automated-summit",
   "metadata": {},
   "source": [
    "A pair of observations (xᵢ, yᵢ) and (xⱼ, yⱼ), where i < j, will be one of three things:\n",
    "1. concordant if either (xᵢ > xⱼ and yᵢ > yⱼ) or (xᵢ < xⱼ and yᵢ < yⱼ)\n",
    "\n",
    "\n",
    "2. discordant if either (xᵢ < xⱼ and yᵢ > yⱼ) or (xᵢ > xⱼ and yᵢ < yⱼ)\n",
    "\n",
    "\n",
    "3. neither if there’s a tie in x (xᵢ = xⱼ) or a tie in y (yᵢ = yⱼ)"
   ]
  },
  {
   "cell_type": "code",
   "execution_count": 202,
   "id": "separate-welsh",
   "metadata": {},
   "outputs": [],
   "source": [
    "def getKendallCor(data1,data2):\n",
    "    \"\"\"\"\"\n",
    "        Generate and return the Kendall's rank correlation coefficient. \n",
    "        Input two columns of data to your function to compute the Kendall's rank corrcoeff. \n",
    "        The columns correspond to the data attributes.\n",
    "        Make sure rows of data with \"nan\" are removed.\n",
    "        \n",
    "        Parameters:\n",
    "            data1,data2 = data attribute 1, data attribute 2\n",
    "    \"\"\"\"\"\n",
    "    C = 0\n",
    "    D = 0\n",
    "    extra_y = 0\n",
    "    extra_x = 0\n",
    "\n",
    "    for i in range(0, len(data2)):\n",
    "        for j in range(i+1, len(data1)):\n",
    "            Y1 = data1[i]\n",
    "            X1 = data2[i]\n",
    "            Y2 = data1[j]\n",
    "            X2 = data2[j]\n",
    "\n",
    "            if Y1 > Y2 and X1 > X2:\n",
    "                C += 1\n",
    "            elif Y1 < Y2 and X1 < X2:\n",
    "                C += 1\n",
    "            elif Y1 > Y2 and X1 < X2:\n",
    "                D += 1\n",
    "            elif Y1 < Y2 and X1 > X2:\n",
    "                D += 1\n",
    "            elif Y1 == Y2:\n",
    "                extra_y += 1\n",
    "            elif X1 == X2:\n",
    "                extra_x += 1\n",
    "    #n=len(Y)\n",
    "    #N= n*(n-1)*0.5\n",
    "    v1= np.sqrt(C+D+extra_y)\n",
    "    v2= np.sqrt(C+D+extra_x)\n",
    "    k= (C - D) / (v1*v2)\n",
    "\n",
    "    return k"
   ]
  },
  {
   "cell_type": "code",
   "execution_count": 203,
   "id": "suspended-newsletter",
   "metadata": {},
   "outputs": [
    {
     "data": {
      "text/plain": [
       "0.31504920018970456"
      ]
     },
     "execution_count": 203,
     "metadata": {},
     "output_type": "execute_result"
    }
   ],
   "source": [
    "getKendallCor(data[:,0],data[:,1])"
   ]
  },
  {
   "cell_type": "code",
   "execution_count": 37,
   "id": "purple-aspect",
   "metadata": {},
   "outputs": [
    {
     "data": {
      "text/plain": [
       "0.3150492001897045"
      ]
     },
     "execution_count": 37,
     "metadata": {},
     "output_type": "execute_result"
    }
   ],
   "source": [
    "#scipy.stats.kendalltau(x, y) returns (correlation, p-value)\n",
    "scipy.stats.kendalltau(data[:,0],data[:,1]).correlation"
   ]
  },
  {
   "cell_type": "code",
   "execution_count": 34,
   "id": "dynamic-terror",
   "metadata": {},
   "outputs": [
    {
     "data": {
      "text/plain": [
       "0.3150492001897045"
      ]
     },
     "execution_count": 34,
     "metadata": {},
     "output_type": "execute_result"
    }
   ],
   "source": [
    "#using pandas\n",
    "ndf['year'].corr(ndf['anomaly'], method='kendall')"
   ]
  }
 ],
 "metadata": {
  "kernelspec": {
   "display_name": "Python 3",
   "language": "python",
   "name": "python3"
  },
  "language_info": {
   "codemirror_mode": {
    "name": "ipython",
    "version": 3
   },
   "file_extension": ".py",
   "mimetype": "text/x-python",
   "name": "python",
   "nbconvert_exporter": "python",
   "pygments_lexer": "ipython3",
   "version": "3.8.5"
  }
 },
 "nbformat": 4,
 "nbformat_minor": 5
}
