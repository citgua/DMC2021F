{
 "cells": [
  {
   "cell_type": "code",
   "execution_count": 1,
   "id": "ahead-amino",
   "metadata": {},
   "outputs": [
    {
     "name": "stdout",
     "output_type": "stream",
     "text": [
      "\u001b[0m\u001b[01;34mHW1\u001b[0m/  \u001b[01;34mHW2_2\u001b[0m/            Q2.ipynb                        \u001b[01;34mexamples\u001b[0m/\r\n",
      "\u001b[01;34mHW2\u001b[0m/  Problem_32.ipynb  city_temperature_1995_2020.csv\r\n"
     ]
    }
   ],
   "source": [
    "ls"
   ]
  },
  {
   "cell_type": "code",
   "execution_count": 2,
   "id": "textile-excitement",
   "metadata": {},
   "outputs": [],
   "source": [
    "import pandas as pd\n",
    "import matplotlib.pyplot as plt "
   ]
  },
  {
   "cell_type": "code",
   "execution_count": 3,
   "id": "fabulous-devil",
   "metadata": {},
   "outputs": [
    {
     "name": "stderr",
     "output_type": "stream",
     "text": [
      "/usr/local/lib/python3.8/dist-packages/IPython/core/interactiveshell.py:3146: DtypeWarning: Columns (2) have mixed types.Specify dtype option on import or set low_memory=False.\n",
      "  has_raised = await self.run_ast_nodes(code_ast.body, cell_name,\n"
     ]
    }
   ],
   "source": [
    "df=pd.read_csv('./city_temperature_1995_2020.csv') "
   ]
  },
  {
   "cell_type": "code",
   "execution_count": 4,
   "id": "expected-insulation",
   "metadata": {
    "scrolled": false
   },
   "outputs": [
    {
     "data": {
      "text/html": [
       "<div>\n",
       "<style scoped>\n",
       "    .dataframe tbody tr th:only-of-type {\n",
       "        vertical-align: middle;\n",
       "    }\n",
       "\n",
       "    .dataframe tbody tr th {\n",
       "        vertical-align: top;\n",
       "    }\n",
       "\n",
       "    .dataframe thead th {\n",
       "        text-align: right;\n",
       "    }\n",
       "</style>\n",
       "<table border=\"1\" class=\"dataframe\">\n",
       "  <thead>\n",
       "    <tr style=\"text-align: right;\">\n",
       "      <th></th>\n",
       "      <th>Region</th>\n",
       "      <th>Country</th>\n",
       "      <th>State</th>\n",
       "      <th>City</th>\n",
       "      <th>Month</th>\n",
       "      <th>Day</th>\n",
       "      <th>Year</th>\n",
       "      <th>AvgTemperature</th>\n",
       "    </tr>\n",
       "  </thead>\n",
       "  <tbody>\n",
       "    <tr>\n",
       "      <th>0</th>\n",
       "      <td>Africa</td>\n",
       "      <td>Algeria</td>\n",
       "      <td>NaN</td>\n",
       "      <td>Algiers</td>\n",
       "      <td>1</td>\n",
       "      <td>1</td>\n",
       "      <td>1995</td>\n",
       "      <td>64.2</td>\n",
       "    </tr>\n",
       "    <tr>\n",
       "      <th>1</th>\n",
       "      <td>Africa</td>\n",
       "      <td>Algeria</td>\n",
       "      <td>NaN</td>\n",
       "      <td>Algiers</td>\n",
       "      <td>1</td>\n",
       "      <td>2</td>\n",
       "      <td>1995</td>\n",
       "      <td>49.4</td>\n",
       "    </tr>\n",
       "    <tr>\n",
       "      <th>2</th>\n",
       "      <td>Africa</td>\n",
       "      <td>Algeria</td>\n",
       "      <td>NaN</td>\n",
       "      <td>Algiers</td>\n",
       "      <td>1</td>\n",
       "      <td>3</td>\n",
       "      <td>1995</td>\n",
       "      <td>48.8</td>\n",
       "    </tr>\n",
       "    <tr>\n",
       "      <th>3</th>\n",
       "      <td>Africa</td>\n",
       "      <td>Algeria</td>\n",
       "      <td>NaN</td>\n",
       "      <td>Algiers</td>\n",
       "      <td>1</td>\n",
       "      <td>4</td>\n",
       "      <td>1995</td>\n",
       "      <td>46.4</td>\n",
       "    </tr>\n",
       "    <tr>\n",
       "      <th>4</th>\n",
       "      <td>Africa</td>\n",
       "      <td>Algeria</td>\n",
       "      <td>NaN</td>\n",
       "      <td>Algiers</td>\n",
       "      <td>1</td>\n",
       "      <td>5</td>\n",
       "      <td>1995</td>\n",
       "      <td>47.9</td>\n",
       "    </tr>\n",
       "    <tr>\n",
       "      <th>...</th>\n",
       "      <td>...</td>\n",
       "      <td>...</td>\n",
       "      <td>...</td>\n",
       "      <td>...</td>\n",
       "      <td>...</td>\n",
       "      <td>...</td>\n",
       "      <td>...</td>\n",
       "      <td>...</td>\n",
       "    </tr>\n",
       "    <tr>\n",
       "      <th>2906322</th>\n",
       "      <td>North America</td>\n",
       "      <td>US</td>\n",
       "      <td>Additional Territories</td>\n",
       "      <td>San Juan Puerto Rico</td>\n",
       "      <td>7</td>\n",
       "      <td>27</td>\n",
       "      <td>2013</td>\n",
       "      <td>82.4</td>\n",
       "    </tr>\n",
       "    <tr>\n",
       "      <th>2906323</th>\n",
       "      <td>North America</td>\n",
       "      <td>US</td>\n",
       "      <td>Additional Territories</td>\n",
       "      <td>San Juan Puerto Rico</td>\n",
       "      <td>7</td>\n",
       "      <td>28</td>\n",
       "      <td>2013</td>\n",
       "      <td>81.6</td>\n",
       "    </tr>\n",
       "    <tr>\n",
       "      <th>2906324</th>\n",
       "      <td>North America</td>\n",
       "      <td>US</td>\n",
       "      <td>Additional Territories</td>\n",
       "      <td>San Juan Puerto Rico</td>\n",
       "      <td>7</td>\n",
       "      <td>29</td>\n",
       "      <td>2013</td>\n",
       "      <td>84.2</td>\n",
       "    </tr>\n",
       "    <tr>\n",
       "      <th>2906325</th>\n",
       "      <td>North America</td>\n",
       "      <td>US</td>\n",
       "      <td>Additional Territories</td>\n",
       "      <td>San Juan Puerto Rico</td>\n",
       "      <td>7</td>\n",
       "      <td>30</td>\n",
       "      <td>2013</td>\n",
       "      <td>83.8</td>\n",
       "    </tr>\n",
       "    <tr>\n",
       "      <th>2906326</th>\n",
       "      <td>North America</td>\n",
       "      <td>US</td>\n",
       "      <td>Additional Territories</td>\n",
       "      <td>San Juan Puerto Rico</td>\n",
       "      <td>7</td>\n",
       "      <td>31</td>\n",
       "      <td>2013</td>\n",
       "      <td>83.6</td>\n",
       "    </tr>\n",
       "  </tbody>\n",
       "</table>\n",
       "<p>2906327 rows × 8 columns</p>\n",
       "</div>"
      ],
      "text/plain": [
       "                Region  Country                   State                  City  \\\n",
       "0               Africa  Algeria                     NaN               Algiers   \n",
       "1               Africa  Algeria                     NaN               Algiers   \n",
       "2               Africa  Algeria                     NaN               Algiers   \n",
       "3               Africa  Algeria                     NaN               Algiers   \n",
       "4               Africa  Algeria                     NaN               Algiers   \n",
       "...                ...      ...                     ...                   ...   \n",
       "2906322  North America       US  Additional Territories  San Juan Puerto Rico   \n",
       "2906323  North America       US  Additional Territories  San Juan Puerto Rico   \n",
       "2906324  North America       US  Additional Territories  San Juan Puerto Rico   \n",
       "2906325  North America       US  Additional Territories  San Juan Puerto Rico   \n",
       "2906326  North America       US  Additional Territories  San Juan Puerto Rico   \n",
       "\n",
       "         Month  Day  Year  AvgTemperature  \n",
       "0            1    1  1995            64.2  \n",
       "1            1    2  1995            49.4  \n",
       "2            1    3  1995            48.8  \n",
       "3            1    4  1995            46.4  \n",
       "4            1    5  1995            47.9  \n",
       "...        ...  ...   ...             ...  \n",
       "2906322      7   27  2013            82.4  \n",
       "2906323      7   28  2013            81.6  \n",
       "2906324      7   29  2013            84.2  \n",
       "2906325      7   30  2013            83.8  \n",
       "2906326      7   31  2013            83.6  \n",
       "\n",
       "[2906327 rows x 8 columns]"
      ]
     },
     "execution_count": 4,
     "metadata": {},
     "output_type": "execute_result"
    }
   ],
   "source": [
    "df"
   ]
  },
  {
   "cell_type": "code",
   "execution_count": 5,
   "id": "enormous-giving",
   "metadata": {},
   "outputs": [],
   "source": [
    "## testing  ##\n",
    "Dulu_df=df[df['City'].isin(['Duluth'])]\n",
    "Hono_df=df[df['City'].isin(['Honolulu'])]"
   ]
  },
  {
   "cell_type": "code",
   "execution_count": 6,
   "id": "equipped-pittsburgh",
   "metadata": {
    "scrolled": true
   },
   "outputs": [
    {
     "data": {
      "text/html": [
       "<div>\n",
       "<style scoped>\n",
       "    .dataframe tbody tr th:only-of-type {\n",
       "        vertical-align: middle;\n",
       "    }\n",
       "\n",
       "    .dataframe tbody tr th {\n",
       "        vertical-align: top;\n",
       "    }\n",
       "\n",
       "    .dataframe thead th {\n",
       "        text-align: right;\n",
       "    }\n",
       "</style>\n",
       "<table border=\"1\" class=\"dataframe\">\n",
       "  <thead>\n",
       "    <tr style=\"text-align: right;\">\n",
       "      <th></th>\n",
       "      <th>Region</th>\n",
       "      <th>Country</th>\n",
       "      <th>State</th>\n",
       "      <th>City</th>\n",
       "      <th>Month</th>\n",
       "      <th>Day</th>\n",
       "      <th>Year</th>\n",
       "      <th>AvgTemperature</th>\n",
       "    </tr>\n",
       "  </thead>\n",
       "  <tbody>\n",
       "    <tr>\n",
       "      <th>2096999</th>\n",
       "      <td>North America</td>\n",
       "      <td>US</td>\n",
       "      <td>Minnesota</td>\n",
       "      <td>Duluth</td>\n",
       "      <td>1</td>\n",
       "      <td>1</td>\n",
       "      <td>1995</td>\n",
       "      <td>8.2</td>\n",
       "    </tr>\n",
       "    <tr>\n",
       "      <th>2097000</th>\n",
       "      <td>North America</td>\n",
       "      <td>US</td>\n",
       "      <td>Minnesota</td>\n",
       "      <td>Duluth</td>\n",
       "      <td>1</td>\n",
       "      <td>2</td>\n",
       "      <td>1995</td>\n",
       "      <td>5.6</td>\n",
       "    </tr>\n",
       "    <tr>\n",
       "      <th>2097001</th>\n",
       "      <td>North America</td>\n",
       "      <td>US</td>\n",
       "      <td>Minnesota</td>\n",
       "      <td>Duluth</td>\n",
       "      <td>1</td>\n",
       "      <td>3</td>\n",
       "      <td>1995</td>\n",
       "      <td>-4.2</td>\n",
       "    </tr>\n",
       "    <tr>\n",
       "      <th>2097002</th>\n",
       "      <td>North America</td>\n",
       "      <td>US</td>\n",
       "      <td>Minnesota</td>\n",
       "      <td>Duluth</td>\n",
       "      <td>1</td>\n",
       "      <td>4</td>\n",
       "      <td>1995</td>\n",
       "      <td>-11.4</td>\n",
       "    </tr>\n",
       "    <tr>\n",
       "      <th>2097003</th>\n",
       "      <td>North America</td>\n",
       "      <td>US</td>\n",
       "      <td>Minnesota</td>\n",
       "      <td>Duluth</td>\n",
       "      <td>1</td>\n",
       "      <td>5</td>\n",
       "      <td>1995</td>\n",
       "      <td>3.7</td>\n",
       "    </tr>\n",
       "    <tr>\n",
       "      <th>...</th>\n",
       "      <td>...</td>\n",
       "      <td>...</td>\n",
       "      <td>...</td>\n",
       "      <td>...</td>\n",
       "      <td>...</td>\n",
       "      <td>...</td>\n",
       "      <td>...</td>\n",
       "      <td>...</td>\n",
       "    </tr>\n",
       "    <tr>\n",
       "      <th>2106259</th>\n",
       "      <td>North America</td>\n",
       "      <td>US</td>\n",
       "      <td>Minnesota</td>\n",
       "      <td>Duluth</td>\n",
       "      <td>5</td>\n",
       "      <td>9</td>\n",
       "      <td>2020</td>\n",
       "      <td>38.6</td>\n",
       "    </tr>\n",
       "    <tr>\n",
       "      <th>2106260</th>\n",
       "      <td>North America</td>\n",
       "      <td>US</td>\n",
       "      <td>Minnesota</td>\n",
       "      <td>Duluth</td>\n",
       "      <td>5</td>\n",
       "      <td>10</td>\n",
       "      <td>2020</td>\n",
       "      <td>40.5</td>\n",
       "    </tr>\n",
       "    <tr>\n",
       "      <th>2106261</th>\n",
       "      <td>North America</td>\n",
       "      <td>US</td>\n",
       "      <td>Minnesota</td>\n",
       "      <td>Duluth</td>\n",
       "      <td>5</td>\n",
       "      <td>11</td>\n",
       "      <td>2020</td>\n",
       "      <td>39.0</td>\n",
       "    </tr>\n",
       "    <tr>\n",
       "      <th>2106262</th>\n",
       "      <td>North America</td>\n",
       "      <td>US</td>\n",
       "      <td>Minnesota</td>\n",
       "      <td>Duluth</td>\n",
       "      <td>5</td>\n",
       "      <td>12</td>\n",
       "      <td>2020</td>\n",
       "      <td>41.5</td>\n",
       "    </tr>\n",
       "    <tr>\n",
       "      <th>2106263</th>\n",
       "      <td>North America</td>\n",
       "      <td>US</td>\n",
       "      <td>Minnesota</td>\n",
       "      <td>Duluth</td>\n",
       "      <td>5</td>\n",
       "      <td>13</td>\n",
       "      <td>2020</td>\n",
       "      <td>43.0</td>\n",
       "    </tr>\n",
       "  </tbody>\n",
       "</table>\n",
       "<p>9265 rows × 8 columns</p>\n",
       "</div>"
      ],
      "text/plain": [
       "                Region Country      State    City  Month  Day  Year  \\\n",
       "2096999  North America      US  Minnesota  Duluth      1    1  1995   \n",
       "2097000  North America      US  Minnesota  Duluth      1    2  1995   \n",
       "2097001  North America      US  Minnesota  Duluth      1    3  1995   \n",
       "2097002  North America      US  Minnesota  Duluth      1    4  1995   \n",
       "2097003  North America      US  Minnesota  Duluth      1    5  1995   \n",
       "...                ...     ...        ...     ...    ...  ...   ...   \n",
       "2106259  North America      US  Minnesota  Duluth      5    9  2020   \n",
       "2106260  North America      US  Minnesota  Duluth      5   10  2020   \n",
       "2106261  North America      US  Minnesota  Duluth      5   11  2020   \n",
       "2106262  North America      US  Minnesota  Duluth      5   12  2020   \n",
       "2106263  North America      US  Minnesota  Duluth      5   13  2020   \n",
       "\n",
       "         AvgTemperature  \n",
       "2096999             8.2  \n",
       "2097000             5.6  \n",
       "2097001            -4.2  \n",
       "2097002           -11.4  \n",
       "2097003             3.7  \n",
       "...                 ...  \n",
       "2106259            38.6  \n",
       "2106260            40.5  \n",
       "2106261            39.0  \n",
       "2106262            41.5  \n",
       "2106263            43.0  \n",
       "\n",
       "[9265 rows x 8 columns]"
      ]
     },
     "execution_count": 6,
     "metadata": {},
     "output_type": "execute_result"
    }
   ],
   "source": [
    "Dulu_df"
   ]
  },
  {
   "cell_type": "code",
   "execution_count": 12,
   "id": "abandoned-corpus",
   "metadata": {
    "scrolled": true
   },
   "outputs": [],
   "source": [
    "def get_data(df,city):\n",
    "    ndf=df[df['City'].isin([city])]\n",
    "    series=ndf.set_index('Year')[\"AvgTemperature\"]\n",
    "    return series\n",
    "\n",
    "D_df=get_data(df, \"Duluth\")\n",
    "H_df=get_data(df, \"Honolulu\")"
   ]
  },
  {
   "cell_type": "code",
   "execution_count": 13,
   "id": "adverse-artwork",
   "metadata": {
    "scrolled": true
   },
   "outputs": [
    {
     "data": {
      "text/plain": [
       "Year\n",
       "1995     8.2\n",
       "1995     5.6\n",
       "1995    -4.2\n",
       "1995   -11.4\n",
       "1995     3.7\n",
       "        ... \n",
       "2020    38.6\n",
       "2020    40.5\n",
       "2020    39.0\n",
       "2020    41.5\n",
       "2020    43.0\n",
       "Name: AvgTemperature, Length: 9265, dtype: float64"
      ]
     },
     "execution_count": 13,
     "metadata": {},
     "output_type": "execute_result"
    }
   ],
   "source": [
    "D_df"
   ]
  },
  {
   "cell_type": "code",
   "execution_count": 51,
   "id": "cheap-extreme",
   "metadata": {},
   "outputs": [
    {
     "data": {
      "image/png": "[encoded data removed]",
      "text/plain": [
       "<Figure size 432x288 with 1 Axes>"
      ]
     },
     "metadata": {
      "needs_background": "light"
     },
     "output_type": "display_data"
    }
   ],
   "source": [
    "D_df.plot(style='r')\n",
    "plt.show()"
   ]
  },
  {
   "cell_type": "code",
   "execution_count": 14,
   "id": "british-basics",
   "metadata": {},
   "outputs": [],
   "source": [
    "import numpy as np"
   ]
  },
  {
   "cell_type": "code",
   "execution_count": 45,
   "id": "single-skating",
   "metadata": {},
   "outputs": [
    {
     "data": {
      "image/png": "[encoded data removed]",
      "text/plain": [
       "<Figure size 432x288 with 1 Axes>"
      ]
     },
     "metadata": {
      "needs_background": "light"
     },
     "output_type": "display_data"
    },
    {
     "data": {
      "text/plain": [
       "<Figure size 432x288 with 0 Axes>"
      ]
     },
     "metadata": {},
     "output_type": "display_data"
    }
   ],
   "source": [
    "dy=D_df.where(D_df> -90)\n",
    "dx=1995+np.arange(len(dy))/365\n",
    "\n",
    "\n",
    "ax = plt.gca()\n",
    "ax.set_xlabel(\"Year\")\n",
    "ax.set_ylabel(\"Daily Temperature [Fahrenheit]\")\n",
    "ax.axis ([1995, 2020, -40, 80]) #xmin, xmax, ymin, ymax\n",
    "ax.plot(dx,dy,\n",
    "        color='r',linewidth=1.0)\n",
    "ax.set_title('Duluth,MN')\n",
    "plt.show()\n",
    "plt.savefig(\"Duluth_AvgTemp.png\")"
   ]
  },
  {
   "cell_type": "code",
   "execution_count": 55,
   "id": "dominican-latin",
   "metadata": {},
   "outputs": [
    {
     "data": {
      "image/png": "[encoded data removed]",
      "text/plain": [
       "<Figure size 432x288 with 1 Axes>"
      ]
     },
     "metadata": {
      "needs_background": "light"
     },
     "output_type": "display_data"
    }
   ],
   "source": [
    "H_df.plot(style='r')\n",
    "plt.show()"
   ]
  },
  {
   "cell_type": "code",
   "execution_count": 20,
   "id": "sought-culture",
   "metadata": {
    "scrolled": true
   },
   "outputs": [
    {
     "data": {
      "image/png": "[encoded data removed]",
      "text/plain": [
       "<Figure size 432x288 with 1 Axes>"
      ]
     },
     "metadata": {
      "needs_background": "light"
     },
     "output_type": "display_data"
    },
    {
     "data": {
      "text/plain": [
       "<Figure size 432x288 with 0 Axes>"
      ]
     },
     "metadata": {},
     "output_type": "display_data"
    }
   ],
   "source": [
    "hy=H_df.where(D_df> -90)\n",
    "hx=1995+np.arange(len(hy))/365\n",
    "\n",
    "\n",
    "plt.savefig(\"Duluth_AvgTemp.png\")\n",
    "\n",
    "\n",
    "ax = plt.gca()\n",
    "ax.set_xlabel(\"Year\")\n",
    "ax.set_ylabel(\"Daily Temperature [Fahrenheit]\")\n",
    "ax.axis ([1995, 2020, -40, 80]) #xmin, xmax, ymin, ymax\n",
    "ax.plot(hx,hy,\n",
    "        color='r',linewidth=1.0)\n",
    "ax.set_title('Honululu, HI')\n",
    "plt.show()\n",
    "plt.savefig(\"Hono_AvgTemp.png\")\n"
   ]
  },
  {
   "cell_type": "markdown",
   "id": "secondary-canberra",
   "metadata": {},
   "source": [
    "Which city has less fluctuating temperatures across days of the year? Prove this by computing the first and the second moments of the data corresponding to the two cities and reporting them here."
   ]
  },
  {
   "cell_type": "code",
   "execution_count": 42,
   "id": "portable-california",
   "metadata": {},
   "outputs": [
    {
     "name": "stdout",
     "output_type": "stream",
     "text": [
      "Duluth\n",
      "mean temp:40.411560506110085\n",
      "std temp:21.379909275320767\n"
     ]
    }
   ],
   "source": [
    "print(\"Duluth\")\n",
    "print(\"mean temp:\"+str(np.mean(dy)))\n",
    "print(\"std temp:\"+str(np.std(dy)))"
   ]
  },
  {
   "cell_type": "code",
   "execution_count": 43,
   "id": "oriental-integer",
   "metadata": {},
   "outputs": [
    {
     "name": "stdout",
     "output_type": "stream",
     "text": [
      "Honolulu\n",
      "mean temp:77.31931437222883\n",
      "std temp:4.649071189328853\n"
     ]
    }
   ],
   "source": [
    "print(\"Honolulu\")\n",
    "print(\"mean temp:\"+str(np.mean(hy)))\n",
    "print(\"std temp:\"+str(np.std(hy)))"
   ]
  },
  {
   "cell_type": "code",
   "execution_count": 48,
   "id": "incorporate-finding",
   "metadata": {
    "scrolled": true
   },
   "outputs": [
    {
     "data": {
      "image/png": "[encoded data removed]",
      "text/plain": [
       "<Figure size 432x288 with 1 Axes>"
      ]
     },
     "metadata": {
      "needs_background": "light"
     },
     "output_type": "display_data"
    }
   ],
   "source": [
    "labels=['duluth', 'honolulu']\n",
    "x_pos=np.arange(len(labels))\n",
    "means=[np.mean(dy),np.mean(hy)]\n",
    "stds=[np.std(dy),np.std(hy)]\n",
    "\n",
    "\n",
    "fig, ax = plt.subplots()\n",
    "ax.bar(x_pos, means,\n",
    "       yerr=stds,\n",
    "       align='center',\n",
    "       alpha=0.5,\n",
    "       ecolor='black',\n",
    "       capsize=10)\n",
    "ax.set_ylabel('Avg Teemperatures')\n",
    "ax.set_xticks(x_pos)\n",
    "ax.set_xticklabels(labels)\n",
    "ax.set_title('Means')\n",
    "ax.yaxis.grid(True)\n",
    "\n",
    "# Save the figure and show\n",
    "plt.tight_layout()\n",
    "plt.savefig('bar_plot_with_error_bars.png')\n",
    "plt.show()\n"
   ]
  },
  {
   "cell_type": "markdown",
   "id": "streaming-jurisdiction",
   "metadata": {},
   "source": [
    "Error Bars: \n",
    " - a short Error Bar shows that values are concentrated, signalling that the plotted average value is more likely, while a long Error Bar would indicate that the values are more spread out and less reliable."
   ]
  },
  {
   "cell_type": "markdown",
   "id": "subsequent-status",
   "metadata": {},
   "source": [
    "Base on time series plots and error bars, it can be seen how temperatures acrros the days of the year fluctuates less in Honolulu than Duluth.  "
   ]
  },
  {
   "cell_type": "code",
   "execution_count": null,
   "id": "wired-challenge",
   "metadata": {},
   "outputs": [],
   "source": [
    "#Goal: return a subset with only data of input two cities\n",
    "#example cities: duluth and honolulu\n",
    "#extract values for temp  and year\n",
    "#graph with given axis and center 0\n",
    "#x- year, y-temp\n",
    "------\n",
    "#first two moments: mean and std"
   ]
  }
 ],
 "metadata": {
  "kernelspec": {
   "display_name": "Python 3",
   "language": "python",
   "name": "python3"
  },
  "language_info": {
   "codemirror_mode": {
    "name": "ipython",
    "version": 3
   },
   "file_extension": ".py",
   "mimetype": "text/x-python",
   "name": "python",
   "nbconvert_exporter": "python",
   "pygments_lexer": "ipython3",
   "version": "3.8.5"
  }
 },
 "nbformat": 4,
 "nbformat_minor": 5
}
