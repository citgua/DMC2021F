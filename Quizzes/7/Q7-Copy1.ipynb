{
 "cells": [
  {
   "cell_type": "code",
   "execution_count": 1,
   "id": "05f21e57",
   "metadata": {},
   "outputs": [],
   "source": [
    "import pandas as pd\n",
    "from scipy.stats import norm\n",
    "import matplotlib.pyplot as plt \n",
    "import numpy as np"
   ]
  },
  {
   "cell_type": "code",
   "execution_count": 2,
   "id": "b5cbc623",
   "metadata": {},
   "outputs": [],
   "source": [
    "#downloads file from given url\n",
    "def download(url, fpath):\n",
    "    import requests\n",
    "    r = requests.get(url)\n",
    "    with open(fpath, 'wb') as f:\n",
    "        f.write(r.content)\n",
    "    return None\n",
    "\n",
    "#fetching data file\n",
    "def fetchDatafromWeb(filePath,url):\n",
    "    download(url,filePath)\n",
    "    return filePath"
   ]
  },
  {
   "cell_type": "code",
   "execution_count": 3,
   "id": "eacad99c",
   "metadata": {},
   "outputs": [],
   "source": [
    "url=\"https://www.cdslab.org/recipes/programming/clustering-kmeans-implementation/points.txt\""
   ]
  },
  {
   "cell_type": "code",
   "execution_count": 4,
   "id": "60431d17",
   "metadata": {},
   "outputs": [
    {
     "data": {
      "text/plain": [
       "'./points.txt'"
      ]
     },
     "execution_count": 4,
     "metadata": {},
     "output_type": "execute_result"
    }
   ],
   "source": [
    "fetchDatafromWeb(filePath=\"./points.txt\", url=url)"
   ]
  },
  {
   "cell_type": "code",
   "execution_count": 5,
   "id": "a40a176f",
   "metadata": {
    "scrolled": true
   },
   "outputs": [
    {
     "data": {
      "text/html": [
       "<div>\n",
       "<style scoped>\n",
       "    .dataframe tbody tr th:only-of-type {\n",
       "        vertical-align: middle;\n",
       "    }\n",
       "\n",
       "    .dataframe tbody tr th {\n",
       "        vertical-align: top;\n",
       "    }\n",
       "\n",
       "    .dataframe thead th {\n",
       "        text-align: right;\n",
       "    }\n",
       "</style>\n",
       "<table border=\"1\" class=\"dataframe\">\n",
       "  <thead>\n",
       "    <tr style=\"text-align: right;\">\n",
       "      <th></th>\n",
       "      <th>x</th>\n",
       "      <th>y</th>\n",
       "    </tr>\n",
       "  </thead>\n",
       "  <tbody>\n",
       "    <tr>\n",
       "      <th>0</th>\n",
       "      <td>3.597482</td>\n",
       "      <td>-0.727244</td>\n",
       "    </tr>\n",
       "    <tr>\n",
       "      <th>1</th>\n",
       "      <td>3.171670</td>\n",
       "      <td>-0.602071</td>\n",
       "    </tr>\n",
       "    <tr>\n",
       "      <th>2</th>\n",
       "      <td>3.279193</td>\n",
       "      <td>-0.751740</td>\n",
       "    </tr>\n",
       "    <tr>\n",
       "      <th>3</th>\n",
       "      <td>3.641694</td>\n",
       "      <td>-0.712578</td>\n",
       "    </tr>\n",
       "    <tr>\n",
       "      <th>4</th>\n",
       "      <td>3.283454</td>\n",
       "      <td>-0.872950</td>\n",
       "    </tr>\n",
       "    <tr>\n",
       "      <th>...</th>\n",
       "      <td>...</td>\n",
       "      <td>...</td>\n",
       "    </tr>\n",
       "    <tr>\n",
       "      <th>1995</th>\n",
       "      <td>-0.891907</td>\n",
       "      <td>1.647074</td>\n",
       "    </tr>\n",
       "    <tr>\n",
       "      <th>1996</th>\n",
       "      <td>-0.682693</td>\n",
       "      <td>2.209732</td>\n",
       "    </tr>\n",
       "    <tr>\n",
       "      <th>1997</th>\n",
       "      <td>-0.359197</td>\n",
       "      <td>1.894838</td>\n",
       "    </tr>\n",
       "    <tr>\n",
       "      <th>1998</th>\n",
       "      <td>-0.691762</td>\n",
       "      <td>1.855902</td>\n",
       "    </tr>\n",
       "    <tr>\n",
       "      <th>1999</th>\n",
       "      <td>-0.819440</td>\n",
       "      <td>1.544326</td>\n",
       "    </tr>\n",
       "  </tbody>\n",
       "</table>\n",
       "<p>2000 rows × 2 columns</p>\n",
       "</div>"
      ],
      "text/plain": [
       "             x         y\n",
       "0     3.597482 -0.727244\n",
       "1     3.171670 -0.602071\n",
       "2     3.279193 -0.751740\n",
       "3     3.641694 -0.712578\n",
       "4     3.283454 -0.872950\n",
       "...        ...       ...\n",
       "1995 -0.891907  1.647074\n",
       "1996 -0.682693  2.209732\n",
       "1997 -0.359197  1.894838\n",
       "1998 -0.691762  1.855902\n",
       "1999 -0.819440  1.544326\n",
       "\n",
       "[2000 rows x 2 columns]"
      ]
     },
     "execution_count": 5,
     "metadata": {},
     "output_type": "execute_result"
    }
   ],
   "source": [
    "df=pd.read_csv(\"./points.txt\")\n",
    "df"
   ]
  },
  {
   "cell_type": "code",
   "execution_count": 21,
   "id": "extraordinary-reality",
   "metadata": {},
   "outputs": [],
   "source": [
    "Pt =np.array (np.transpose([df.x,df.y]))"
   ]
  },
  {
   "cell_type": "code",
   "execution_count": 37,
   "id": "dedicated-former",
   "metadata": {},
   "outputs": [
    {
     "data": {
      "text/plain": [
       "array([[ 3.59748245, -0.72724364],\n",
       "       [ 3.17167032, -0.60207064],\n",
       "       [ 3.27919288, -0.7517402 ],\n",
       "       ...,\n",
       "       [-0.35919741,  1.89483774],\n",
       "       [-0.69176164,  1.85590248],\n",
       "       [-0.81944017,  1.54432571]])"
      ]
     },
     "execution_count": 37,
     "metadata": {},
     "output_type": "execute_result"
    }
   ],
   "source": [
    "Pt"
   ]
  },
  {
   "cell_type": "code",
   "execution_count": 26,
   "id": "north-mailing",
   "metadata": {},
   "outputs": [],
   "source": [
    "#testing getting random points\n",
    "import random\n",
    "item = random.choice(tuple(Pt[0:2]))"
   ]
  },
  {
   "cell_type": "code",
   "execution_count": 35,
   "id": "dominican-moldova",
   "metadata": {},
   "outputs": [
    {
     "data": {
      "text/plain": [
       "(array([[ 2.90155748, -3.53972435],\n",
       "        [-2.36682132,  1.64061962],\n",
       "        [-1.54713034, -0.88584689]]),\n",
       " array([ 674, 1699, 1282]))"
      ]
     },
     "execution_count": 35,
     "metadata": {},
     "output_type": "execute_result"
    }
   ],
   "source": [
    "np.random.seed(1)\n",
    "s=np.random.choice(len(Pt), size=3, replace=False)\n",
    "Pt[s,:],s"
   ]
  },
  {
   "cell_type": "code",
   "execution_count": 28,
   "id": "dying-retention",
   "metadata": {
    "scrolled": true
   },
   "outputs": [
    {
     "data": {
      "text/plain": [
       "numpy.ndarray"
      ]
     },
     "execution_count": 28,
     "metadata": {},
     "output_type": "execute_result"
    }
   ],
   "source": [
    "type(item)"
   ]
  },
  {
   "cell_type": "markdown",
   "id": "historic-karaoke",
   "metadata": {},
   "source": [
    "1. Select the initial medoids randomly (that is, select k points from the dataset randomly as the cluster centers).\n",
    "2. Iterate while the cost decreases:\n",
    " - In each cluster, make the point that minimizes the sum of distances within the cluster the medoid.\n",
    " - Reassign each point to the cluster defined by the closest medoid determined in the previous step."
   ]
  },
  {
   "cell_type": "code",
   "execution_count": 63,
   "id": "17cdfdac",
   "metadata": {},
   "outputs": [],
   "source": [
    "class K_Medoids:\n",
    "    def __init__(self, k, tol=0.001, max_iter=300):\n",
    "        self.k = k\n",
    "        self.tol = tol\n",
    "        self.max_iter = max_iter\n",
    "        self.medoids_cost= []\n",
    "        \n",
    "\n",
    "    def fit_pred(self,data):\n",
    "        self.initial_medoids= []\n",
    "        self.centroids = {}\n",
    "        #randomly initilized centers\n",
    "        np.random.seed(1)\n",
    "        samples=np.random.choice(len(data), size=self.k, replace=False)\n",
    "        self.initial_medoids=data[samples,:]\n",
    "            \n",
    "        #for i in range(0,self.k):\n",
    "            #self.medoids_cost[i].append(0)\n",
    "\n",
    "        for i in range(self.max_iter):\n",
    "            self.memberships = {}\n",
    "        \n",
    "\n",
    "            for i in range(self.k):\n",
    "                self.memberships[i] = []\n",
    "            #compute distances of each point from each cluster\n",
    "            for i,val in enumerate(data):\n",
    "                #revised\n",
    "                #distances = [np.linalg.norm(val-self.centroids[centroid]) for centroid in self.centroids]\n",
    "                distances = [np.linalg.norm(val-self.initial_medoids[medoid]) for medoid in self.initial_medoids]\n",
    "                #assigning clusters\n",
    "                memb = distances.index(min(distances))\n",
    "                self.memberships[memb].append(val)\n",
    "\n",
    "            prev_medoids = dict(self.initial_medoids)\n",
    "\n",
    "            for memb in self.memberships:\n",
    "                self.initial_medoids[memb] = np.average(self.memberships[memb],axis=0)\n",
    "\n",
    "            optimized = True\n",
    "\n",
    "            for m in self.initial_medoids:\n",
    "                \n",
    "                original_medoid = prev_medoids[m]\n",
    "                current_medoid = self.initial_medoids[m]\n",
    "                if np.sum((current_medoid-original_medoid)/original_medoid*100.0) > self.tol:\n",
    "                    #print(np.sum((current_centroid-original_centroid)/original_centroid*100.0))\n",
    "                    optimized = False\n",
    "            \n",
    "            if optimized:\n",
    "                break\n",
    "\n",
    "        distances = [np.linalg.norm(data-self.initial_medoids[m]) for m in self.initial_medoids]\n",
    "        memb = distances.index(min(distances))\n",
    "        return memb"
   ]
  },
  {
   "cell_type": "code",
   "execution_count": 64,
   "id": "0c83d3d9",
   "metadata": {},
   "outputs": [
    {
     "ename": "IndexError",
     "evalue": "arrays used as indices must be of integer (or boolean) type",
     "output_type": "error",
     "traceback": [
      "\u001b[0;31m---------------------------------------------------------------------------\u001b[0m",
      "\u001b[0;31mIndexError\u001b[0m                                Traceback (most recent call last)",
      "\u001b[0;32m<ipython-input-64-f0753374be71>\u001b[0m in \u001b[0;36m<module>\u001b[0;34m\u001b[0m\n\u001b[1;32m      1\u001b[0m \u001b[0mmodl\u001b[0m \u001b[0;34m=\u001b[0m \u001b[0mK_Medoids\u001b[0m\u001b[0;34m(\u001b[0m\u001b[0mk\u001b[0m\u001b[0;34m=\u001b[0m\u001b[0;36m6\u001b[0m\u001b[0;34m)\u001b[0m\u001b[0;34m\u001b[0m\u001b[0;34m\u001b[0m\u001b[0m\n\u001b[0;32m----> 2\u001b[0;31m \u001b[0mmodl\u001b[0m\u001b[0;34m.\u001b[0m\u001b[0mfit_pred\u001b[0m\u001b[0;34m(\u001b[0m\u001b[0mPt\u001b[0m\u001b[0;34m)\u001b[0m\u001b[0;34m\u001b[0m\u001b[0;34m\u001b[0m\u001b[0m\n\u001b[0m\u001b[1;32m      3\u001b[0m \u001b[0;34m\u001b[0m\u001b[0m\n\u001b[1;32m      4\u001b[0m \u001b[0;31m#m= model.fit_pred(data=Pt,k=6)\u001b[0m\u001b[0;34m\u001b[0m\u001b[0;34m\u001b[0m\u001b[0;34m\u001b[0m\u001b[0m\n\u001b[1;32m      5\u001b[0m \u001b[0mcolormap\u001b[0m \u001b[0;34m=\u001b[0m \u001b[0mnp\u001b[0m\u001b[0;34m.\u001b[0m\u001b[0marray\u001b[0m\u001b[0;34m(\u001b[0m\u001b[0;34m[\u001b[0m\u001b[0;34m'r'\u001b[0m\u001b[0;34m,\u001b[0m \u001b[0;34m'g'\u001b[0m\u001b[0;34m,\u001b[0m \u001b[0;34m'b'\u001b[0m\u001b[0;34m,\u001b[0m\u001b[0;34m'y'\u001b[0m\u001b[0;34m,\u001b[0m\u001b[0;34m'm'\u001b[0m\u001b[0;34m,\u001b[0m\u001b[0;34m'c'\u001b[0m\u001b[0;34m]\u001b[0m\u001b[0;34m)\u001b[0m\u001b[0;34m\u001b[0m\u001b[0;34m\u001b[0m\u001b[0m\n",
      "\u001b[0;32m<ipython-input-63-fbaa99f34e8a>\u001b[0m in \u001b[0;36mfit_pred\u001b[0;34m(self, data)\u001b[0m\n\u001b[1;32m     28\u001b[0m                 \u001b[0;31m#revised\u001b[0m\u001b[0;34m\u001b[0m\u001b[0;34m\u001b[0m\u001b[0;34m\u001b[0m\u001b[0m\n\u001b[1;32m     29\u001b[0m                 \u001b[0;31m#distances = [np.linalg.norm(val-self.centroids[centroid]) for centroid in self.centroids]\u001b[0m\u001b[0;34m\u001b[0m\u001b[0;34m\u001b[0m\u001b[0;34m\u001b[0m\u001b[0m\n\u001b[0;32m---> 30\u001b[0;31m                 \u001b[0mdistances\u001b[0m \u001b[0;34m=\u001b[0m \u001b[0;34m[\u001b[0m\u001b[0mnp\u001b[0m\u001b[0;34m.\u001b[0m\u001b[0mlinalg\u001b[0m\u001b[0;34m.\u001b[0m\u001b[0mnorm\u001b[0m\u001b[0;34m(\u001b[0m\u001b[0mval\u001b[0m\u001b[0;34m-\u001b[0m\u001b[0mself\u001b[0m\u001b[0;34m.\u001b[0m\u001b[0minitial_medoids\u001b[0m\u001b[0;34m[\u001b[0m\u001b[0mmedoid\u001b[0m\u001b[0;34m]\u001b[0m\u001b[0;34m)\u001b[0m \u001b[0;32mfor\u001b[0m \u001b[0mmedoid\u001b[0m \u001b[0;32min\u001b[0m \u001b[0mself\u001b[0m\u001b[0;34m.\u001b[0m\u001b[0minitial_medoids\u001b[0m\u001b[0;34m]\u001b[0m\u001b[0;34m\u001b[0m\u001b[0;34m\u001b[0m\u001b[0m\n\u001b[0m\u001b[1;32m     31\u001b[0m                 \u001b[0;31m#assigning clusters\u001b[0m\u001b[0;34m\u001b[0m\u001b[0;34m\u001b[0m\u001b[0;34m\u001b[0m\u001b[0m\n\u001b[1;32m     32\u001b[0m                 \u001b[0mmemb\u001b[0m \u001b[0;34m=\u001b[0m \u001b[0mdistances\u001b[0m\u001b[0;34m.\u001b[0m\u001b[0mindex\u001b[0m\u001b[0;34m(\u001b[0m\u001b[0mmin\u001b[0m\u001b[0;34m(\u001b[0m\u001b[0mdistances\u001b[0m\u001b[0;34m)\u001b[0m\u001b[0;34m)\u001b[0m\u001b[0;34m\u001b[0m\u001b[0;34m\u001b[0m\u001b[0m\n",
      "\u001b[0;32m<ipython-input-63-fbaa99f34e8a>\u001b[0m in \u001b[0;36m<listcomp>\u001b[0;34m(.0)\u001b[0m\n\u001b[1;32m     28\u001b[0m                 \u001b[0;31m#revised\u001b[0m\u001b[0;34m\u001b[0m\u001b[0;34m\u001b[0m\u001b[0;34m\u001b[0m\u001b[0m\n\u001b[1;32m     29\u001b[0m                 \u001b[0;31m#distances = [np.linalg.norm(val-self.centroids[centroid]) for centroid in self.centroids]\u001b[0m\u001b[0;34m\u001b[0m\u001b[0;34m\u001b[0m\u001b[0;34m\u001b[0m\u001b[0m\n\u001b[0;32m---> 30\u001b[0;31m                 \u001b[0mdistances\u001b[0m \u001b[0;34m=\u001b[0m \u001b[0;34m[\u001b[0m\u001b[0mnp\u001b[0m\u001b[0;34m.\u001b[0m\u001b[0mlinalg\u001b[0m\u001b[0;34m.\u001b[0m\u001b[0mnorm\u001b[0m\u001b[0;34m(\u001b[0m\u001b[0mval\u001b[0m\u001b[0;34m-\u001b[0m\u001b[0mself\u001b[0m\u001b[0;34m.\u001b[0m\u001b[0minitial_medoids\u001b[0m\u001b[0;34m[\u001b[0m\u001b[0mmedoid\u001b[0m\u001b[0;34m]\u001b[0m\u001b[0;34m)\u001b[0m \u001b[0;32mfor\u001b[0m \u001b[0mmedoid\u001b[0m \u001b[0;32min\u001b[0m \u001b[0mself\u001b[0m\u001b[0;34m.\u001b[0m\u001b[0minitial_medoids\u001b[0m\u001b[0;34m]\u001b[0m\u001b[0;34m\u001b[0m\u001b[0;34m\u001b[0m\u001b[0m\n\u001b[0m\u001b[1;32m     31\u001b[0m                 \u001b[0;31m#assigning clusters\u001b[0m\u001b[0;34m\u001b[0m\u001b[0;34m\u001b[0m\u001b[0;34m\u001b[0m\u001b[0m\n\u001b[1;32m     32\u001b[0m                 \u001b[0mmemb\u001b[0m \u001b[0;34m=\u001b[0m \u001b[0mdistances\u001b[0m\u001b[0;34m.\u001b[0m\u001b[0mindex\u001b[0m\u001b[0;34m(\u001b[0m\u001b[0mmin\u001b[0m\u001b[0;34m(\u001b[0m\u001b[0mdistances\u001b[0m\u001b[0;34m)\u001b[0m\u001b[0;34m)\u001b[0m\u001b[0;34m\u001b[0m\u001b[0;34m\u001b[0m\u001b[0m\n",
      "\u001b[0;31mIndexError\u001b[0m: arrays used as indices must be of integer (or boolean) type"
     ]
    }
   ],
   "source": [
    "modl = K_Medoids(k=6)\n",
    "modl.fit_pred(Pt)\n",
    "\n",
    "#m= model.fit_pred(data=Pt,k=6)\n",
    "colormap = np.array(['r', 'g', 'b','y','m','c'])\n",
    "for m in modl.initial_medoids:\n",
    "    plt.scatter(modl.initial_medoids[m][0], modl.initial_medoids[m][1],\n",
    "                marker=\"o\", color=\"k\", s=20, linewidths=5)\n",
    "\n",
    "for memb in modl.memberships:\n",
    "    color = colormap[memb]\n",
    "    for val in modl.memberships[memb]:\n",
    "        plt.scatter(val[0], val[1], c=color, s=2)\n",
    "        \n",
    "plt.show()"
   ]
  }
 ],
 "metadata": {
  "kernelspec": {
   "display_name": "Python 3",
   "language": "python",
   "name": "python3"
  },
  "language_info": {
   "codemirror_mode": {
    "name": "ipython",
    "version": 3
   },
   "file_extension": ".py",
   "mimetype": "text/x-python",
   "name": "python",
   "nbconvert_exporter": "python",
   "pygments_lexer": "ipython3",
   "version": "3.8.5"
  }
 },
 "nbformat": 4,
 "nbformat_minor": 5
}
