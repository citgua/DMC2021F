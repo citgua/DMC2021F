{
 "cells": [
  {
   "cell_type": "markdown",
   "id": "close-modification",
   "metadata": {},
   "source": [
    "# [Problem 32](https://www.cdslab.org/recipes/programming/stat-sample-chebyshev-inequality/stat-sample-chebyshev-inequality)"
   ]
  },
  {
   "cell_type": "markdown",
   "id": "blond-seeking",
   "metadata": {},
   "source": [
    "The Chebyshev Inequality states that no more than 1/k2 of an attribute values of a given sample can be k or more standard deviations away from the attribute mean. Provide an experimental proof of this theorem by generating a sample of 10000 uniformly-distributed random numbers between 0 and 1 and computing the fractions of points that lie at larger distances than [1σ,1.5σ,2σ,2.5σ,3σ,3.5σ,4σ] is less than or equal to [1,1/1.52,1/22,1/2.52,1/32,1/3.52,1/42]."
   ]
  },
  {
   "cell_type": "code",
   "execution_count": 1,
   "id": "headed-howard",
   "metadata": {},
   "outputs": [],
   "source": [
    "import numpy as np\n",
    "from scipy.stats import norm\n",
    "import matplotlib.pyplot as plt"
   ]
  },
  {
   "cell_type": "code",
   "execution_count": 2,
   "id": "protective-supplement",
   "metadata": {},
   "outputs": [],
   "source": [
    "sample= np.random.uniform(0,1,10000)"
   ]
  },
  {
   "cell_type": "code",
   "execution_count": 3,
   "id": "understood-series",
   "metadata": {},
   "outputs": [
    {
     "data": {
      "text/plain": [
       "array([0.34158101, 0.08593006, 0.35846753, ..., 0.01417607, 0.98552937,\n",
       "       0.5863229 ])"
      ]
     },
     "execution_count": 3,
     "metadata": {},
     "output_type": "execute_result"
    }
   ],
   "source": [
    "sample"
   ]
  },
  {
   "cell_type": "code",
   "execution_count": 5,
   "id": "enclosed-nothing",
   "metadata": {},
   "outputs": [],
   "source": [
    "def chevin(k):\n",
    "    return 1- 1/(k**2)"
   ]
  },
  {
   "cell_type": "code",
   "execution_count": 23,
   "id": "ruled-offer",
   "metadata": {},
   "outputs": [],
   "source": [
    "nstd= 7 #len(stds)"
   ]
  },
  {
   "cell_type": "code",
   "execution_count": 12,
   "id": "detected-cancer",
   "metadata": {},
   "outputs": [
    {
     "data": {
      "text/plain": [
       "97.95918367346938"
      ]
     },
     "execution_count": 12,
     "metadata": {},
     "output_type": "execute_result"
    }
   ],
   "source": [
    "chev_ineq= chevin(nstd)\n",
    "chev_ineq*100 #percent"
   ]
  },
  {
   "cell_type": "markdown",
   "id": "closing-training",
   "metadata": {},
   "source": [
    "At least 98% of the data falls within 7 standard deviations of the mean for any random distribution."
   ]
  },
  {
   "cell_type": "code",
   "execution_count": 15,
   "id": "classified-brooks",
   "metadata": {},
   "outputs": [],
   "source": [
    "mean=np.mean(sample)\n",
    "std=np.std(sample)"
   ]
  },
  {
   "cell_type": "code",
   "execution_count": 17,
   "id": "identical-avatar",
   "metadata": {},
   "outputs": [
    {
     "name": "stdout",
     "output_type": "stream",
     "text": [
      "0.4979247354801497\n",
      "0.29161978661516447\n"
     ]
    }
   ],
   "source": [
    "print(mean)\n",
    "print(std)"
   ]
  },
  {
   "cell_type": "code",
   "execution_count": 21,
   "id": "missing-track",
   "metadata": {
    "scrolled": false
   },
   "outputs": [
    {
     "data": {
      "image/png": "[encoded data removed]",
      "text/plain": [
       "<Figure size 432x288 with 1 Axes>"
      ]
     },
     "metadata": {
      "needs_background": "light"
     },
     "output_type": "display_data"
    }
   ],
   "source": [
    "plt.plot(sample, norm.pdf(sample,mean, std))\n",
    "plt.show()"
   ]
  },
  {
   "cell_type": "code",
   "execution_count": 29,
   "id": "traditional-surge",
   "metadata": {},
   "outputs": [],
   "source": [
    "#P(X>=μ+kσ|X<=μ−kσ)<=1/k2 ---> P(μ−kσ<=X<=μ−kσ)>1−1/k2\n",
    "stds=[1,1.5,2,2.5,3,3.5,4] #kσ's"
   ]
  },
  {
   "cell_type": "code",
   "execution_count": 33,
   "id": "plain-refund",
   "metadata": {},
   "outputs": [],
   "source": [
    "def cin_3(lst):\n",
    "    vls=[]\n",
    "    for val in lst:\n",
    "        vls.append(1/(val**2))\n",
    "    return vls   "
   ]
  },
  {
   "cell_type": "code",
   "execution_count": 39,
   "id": "entitled-archives",
   "metadata": {},
   "outputs": [],
   "source": [
    "frac_obs=cin_3(stds)"
   ]
  },
  {
   "cell_type": "code",
   "execution_count": 42,
   "id": "relevant-tribute",
   "metadata": {},
   "outputs": [],
   "source": [
    "def cin_4(lst,mean,std):\n",
    "    vls=[]\n",
    "    for val in lst:\n",
    "        vls.append(mean-(val*std))\n",
    "    return vls "
   ]
  },
  {
   "cell_type": "code",
   "execution_count": 43,
   "id": "arabic-mining",
   "metadata": {
    "scrolled": true
   },
   "outputs": [],
   "source": [
    "k_std=cin_4(stds,mean,std)"
   ]
  },
  {
   "cell_type": "code",
   "execution_count": 45,
   "id": "olive-reservoir",
   "metadata": {},
   "outputs": [
    {
     "name": "stdout",
     "output_type": "stream",
     "text": [
      "1/k^2 fractions of the observations:\n"
     ]
    },
    {
     "data": {
      "text/plain": [
       "[1.0,\n",
       " 0.4444444444444444,\n",
       " 0.25,\n",
       " 0.16,\n",
       " 0.1111111111111111,\n",
       " 0.08163265306122448,\n",
       " 0.0625]"
      ]
     },
     "execution_count": 45,
     "metadata": {},
     "output_type": "execute_result"
    }
   ],
   "source": [
    "#frac_obs can be farther than k_std from the mean\n",
    "print(\"1/k^2 fractions of the observations:\")\n",
    "frac_obs"
   ]
  },
  {
   "cell_type": "code",
   "execution_count": 46,
   "id": "effective-canberra",
   "metadata": {},
   "outputs": [
    {
     "name": "stdout",
     "output_type": "stream",
     "text": [
      "k std:\n"
     ]
    },
    {
     "data": {
      "text/plain": [
       "[0.20630494886498524,\n",
       " 0.06049505555740298,\n",
       " -0.08531483775017923,\n",
       " -0.23112473105776143,\n",
       " -0.37693462436534375,\n",
       " -0.522744517672926,\n",
       " -0.6685544109805082]"
      ]
     },
     "execution_count": 46,
     "metadata": {},
     "output_type": "execute_result"
    }
   ],
   "source": [
    "print(\"k std:\")\n",
    "k_std"
   ]
  }
 ],
 "metadata": {
  "kernelspec": {
   "display_name": "Python 3",
   "language": "python",
   "name": "python3"
  },
  "language_info": {
   "codemirror_mode": {
    "name": "ipython",
    "version": 3
   },
   "file_extension": ".py",
   "mimetype": "text/x-python",
   "name": "python",
   "nbconvert_exporter": "python",
   "pygments_lexer": "ipython3",
   "version": "3.8.5"
  }
 },
 "nbformat": 4,
 "nbformat_minor": 5
}
