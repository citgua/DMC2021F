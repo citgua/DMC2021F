{
 "cells": [
  {
   "cell_type": "code",
   "execution_count": 1,
   "id": "light-lexington",
   "metadata": {},
   "outputs": [],
   "source": [
    "url='https://www.cdslab.org/recipes/programming/regression-linear-gaussian/z.csv'"
   ]
  },
  {
   "cell_type": "code",
   "execution_count": 2,
   "id": "ultimate-extra",
   "metadata": {},
   "outputs": [],
   "source": [
    "import pandas as pd\n",
    "import matplotlib.pyplot as plt \n",
    "import numpy as np"
   ]
  },
  {
   "cell_type": "code",
   "execution_count": 3,
   "id": "explicit-kinase",
   "metadata": {},
   "outputs": [],
   "source": [
    "#downloads file from given url\n",
    "def download(url, fpath):\n",
    "    import requests\n",
    "    r = requests.get(url)\n",
    "    with open(fpath, 'wb') as f:\n",
    "        f.write(r.content)\n",
    "    return None\n",
    "\n",
    "#fetching data file\n",
    "def fetchDatafromWeb(filePath,url):\n",
    "    download(url,filePath)\n",
    "    return filePath"
   ]
  },
  {
   "cell_type": "code",
   "execution_count": 4,
   "id": "impaired-trial",
   "metadata": {
    "scrolled": true
   },
   "outputs": [
    {
     "data": {
      "text/plain": [
       "'./z.csv'"
      ]
     },
     "execution_count": 4,
     "metadata": {},
     "output_type": "execute_result"
    }
   ],
   "source": [
    "fetchDatafromWeb(filePath=\"./z.csv\", url=url)"
   ]
  },
  {
   "cell_type": "code",
   "execution_count": 7,
   "id": "acquired-helena",
   "metadata": {
    "scrolled": false
   },
   "outputs": [
    {
     "data": {
      "text/html": [
       "<div>\n",
       "<style scoped>\n",
       "    .dataframe tbody tr th:only-of-type {\n",
       "        vertical-align: middle;\n",
       "    }\n",
       "\n",
       "    .dataframe tbody tr th {\n",
       "        vertical-align: top;\n",
       "    }\n",
       "\n",
       "    .dataframe thead th {\n",
       "        text-align: right;\n",
       "    }\n",
       "</style>\n",
       "<table border=\"1\" class=\"dataframe\">\n",
       "  <thead>\n",
       "    <tr style=\"text-align: right;\">\n",
       "      <th></th>\n",
       "      <th>variable</th>\n",
       "    </tr>\n",
       "  </thead>\n",
       "  <tbody>\n",
       "    <tr>\n",
       "      <th>0</th>\n",
       "      <td>1.76900</td>\n",
       "    </tr>\n",
       "    <tr>\n",
       "      <th>1</th>\n",
       "      <td>1.51060</td>\n",
       "    </tr>\n",
       "    <tr>\n",
       "      <th>2</th>\n",
       "      <td>0.16401</td>\n",
       "    </tr>\n",
       "    <tr>\n",
       "      <th>3</th>\n",
       "      <td>-0.28276</td>\n",
       "    </tr>\n",
       "    <tr>\n",
       "      <th>4</th>\n",
       "      <td>1.15220</td>\n",
       "    </tr>\n",
       "    <tr>\n",
       "      <th>...</th>\n",
       "      <td>...</td>\n",
       "    </tr>\n",
       "    <tr>\n",
       "      <th>995</th>\n",
       "      <td>-0.55780</td>\n",
       "    </tr>\n",
       "    <tr>\n",
       "      <th>996</th>\n",
       "      <td>-0.10656</td>\n",
       "    </tr>\n",
       "    <tr>\n",
       "      <th>997</th>\n",
       "      <td>-0.21516</td>\n",
       "    </tr>\n",
       "    <tr>\n",
       "      <th>998</th>\n",
       "      <td>0.47349</td>\n",
       "    </tr>\n",
       "    <tr>\n",
       "      <th>999</th>\n",
       "      <td>1.36560</td>\n",
       "    </tr>\n",
       "  </tbody>\n",
       "</table>\n",
       "<p>1000 rows × 1 columns</p>\n",
       "</div>"
      ],
      "text/plain": [
       "     variable\n",
       "0     1.76900\n",
       "1     1.51060\n",
       "2     0.16401\n",
       "3    -0.28276\n",
       "4     1.15220\n",
       "..        ...\n",
       "995  -0.55780\n",
       "996  -0.10656\n",
       "997  -0.21516\n",
       "998   0.47349\n",
       "999   1.36560\n",
       "\n",
       "[1000 rows x 1 columns]"
      ]
     },
     "execution_count": 7,
     "metadata": {},
     "output_type": "execute_result"
    }
   ],
   "source": [
    "df=pd.read_csv(\"./z.csv\", header=None)\n",
    "df.columns=[\"variable\"]\n",
    "df"
   ]
  },
  {
   "cell_type": "code",
   "execution_count": 9,
   "id": "honest-linux",
   "metadata": {
    "scrolled": false
   },
   "outputs": [
    {
     "data": {
      "image/png": "[encoded data removed]",
      "text/plain": [
       "<Figure size 640x460 with 1 Axes>"
      ]
     },
     "metadata": {
      "needs_background": "light"
     },
     "output_type": "display_data"
    }
   ],
   "source": [
    "fig = plt.figure(figsize =(6.4,4.6), dpi =100)\n",
    "ax =plt.subplot()\n",
    "ax.hist (df.variable.values\n",
    "         , bins =100\n",
    "         , linewidth =0\n",
    "         , histtype ='stepfilled'\n",
    "         , density = True)\n",
    "plt.ylabel('Count')\n",
    "plt.xlabel('Z');\n",
    "plt.show()"
   ]
  },
  {
   "cell_type": "code",
   "execution_count": 14,
   "id": "quarterly-bride",
   "metadata": {},
   "outputs": [],
   "source": [
    "#ldata = np.log(df[\"variable\"])\n",
    "data=df.variable.values"
   ]
  },
  {
   "cell_type": "code",
   "execution_count": 15,
   "id": "racial-objective",
   "metadata": {},
   "outputs": [],
   "source": [
    "def getLogLike(param):\n",
    "    \"\"\" Return the log likehood of the gaussian- dist data \n",
    "        given the vector parameters \"params\"=[avg, std] \"\"\"\n",
    "    avg = param[0]\n",
    "    std = np.exp(param[1])\n",
    "    ndata = len(data)\n",
    "    \n",
    "    lprob = - param[1]*ndata \\\n",
    "            - 18378.770664093452 \\\n",
    "            - np.sum((data -avg)**2) / (2* std**2)\n",
    "    return lprob"
   ]
  },
  {
   "cell_type": "code",
   "execution_count": 17,
   "id": "environmental-blast",
   "metadata": {},
   "outputs": [],
   "source": [
    "def negLogLike(param): return -getLogLike(param)"
   ]
  },
  {
   "cell_type": "code",
   "execution_count": 18,
   "id": "electric-strength",
   "metadata": {},
   "outputs": [
    {
     "name": "stdout",
     "output_type": "stream",
     "text": [
      "Optimization terminated successfully.\n",
      "         Current function value: 18876.958802\n",
      "         Iterations: 45\n",
      "         Function evaluations: 85\n",
      "Returns[μ= 0.03922099279500735,σ= -0.0018085313705571188]\n"
     ]
    }
   ],
   "source": [
    "from scipy.optimize import fmin\n",
    "bestParams = fmin (func = negLogLike, x0= [-3,1])\n",
    "print('Returns[{}= {},{}= {}]'.format(chr(956),bestParams[0],chr(963),bestParams[1]))"
   ]
  },
  {
   "cell_type": "code",
   "execution_count": 20,
   "id": "built-administration",
   "metadata": {},
   "outputs": [
    {
     "data": {
      "image/png": "[encoded data removed]",
      "text/plain": [
       "<Figure size 640x460 with 1 Axes>"
      ]
     },
     "metadata": {
      "needs_background": "light"
     },
     "output_type": "display_data"
    }
   ],
   "source": [
    "from scipy.stats import norm\n",
    "testx= np.linspace(-4,4,200)\n",
    "testy= norm.pdf(testx)\n",
    "\n",
    "fig = plt.figure(figsize =(6.4,4.6), dpi =100)\n",
    "ax =plt.subplot()\n",
    "\n",
    "h = ax.hist (data\n",
    "         , bins =100\n",
    "         , linewidth =0\n",
    "         , histtype ='stepfilled'\n",
    "         , density = True)\n",
    "\n",
    "h = ax.plot ( testx\n",
    "            , testy\n",
    "            , color = 'r'\n",
    "            , linewidth = 2\n",
    "            )"
   ]
  },
  {
   "cell_type": "code",
   "execution_count": 21,
   "id": "latin-plymouth",
   "metadata": {
    "scrolled": false
   },
   "outputs": [
    {
     "name": "stdout",
     "output_type": "stream",
     "text": [
      "Optimization terminated successfully.\n",
      "         Current function value: 1417.126670\n",
      "         Iterations: 47\n",
      "         Function evaluations: 89\n"
     ]
    },
    {
     "data": {
      "text/plain": [
       "array([0.03929988, 0.99819119])"
      ]
     },
     "execution_count": 21,
     "metadata": {},
     "output_type": "execute_result"
    }
   ],
   "source": [
    "def gaussian(params):\n",
    "    mean = params[0]   \n",
    "    std = params[1]\n",
    "\n",
    "    # Calculate negative log likelihood\n",
    "    nll = -np.sum(norm.logpdf(data, loc=mean, scale=std))\n",
    "\n",
    "    return nll\n",
    "fmin (func = gaussian, x0= [-3,1])"
   ]
  },
  {
   "cell_type": "code",
   "execution_count": 23,
   "id": "recent-disposal",
   "metadata": {},
   "outputs": [],
   "source": [
    "url2='https://www.cdslab.org/recipes/programming/regression-linear-gaussian/xy.csv'"
   ]
  },
  {
   "cell_type": "code",
   "execution_count": 24,
   "id": "occasional-china",
   "metadata": {},
   "outputs": [
    {
     "data": {
      "text/plain": [
       "'./xy.csv'"
      ]
     },
     "execution_count": 24,
     "metadata": {},
     "output_type": "execute_result"
    }
   ],
   "source": [
    "fetchDatafromWeb(filePath=\"./xy.csv\", url=url2)"
   ]
  },
  {
   "cell_type": "code",
   "execution_count": 25,
   "id": "awful-heater",
   "metadata": {
    "scrolled": false
   },
   "outputs": [
    {
     "data": {
      "text/html": [
       "<div>\n",
       "<style scoped>\n",
       "    .dataframe tbody tr th:only-of-type {\n",
       "        vertical-align: middle;\n",
       "    }\n",
       "\n",
       "    .dataframe tbody tr th {\n",
       "        vertical-align: top;\n",
       "    }\n",
       "\n",
       "    .dataframe thead th {\n",
       "        text-align: right;\n",
       "    }\n",
       "</style>\n",
       "<table border=\"1\" class=\"dataframe\">\n",
       "  <thead>\n",
       "    <tr style=\"text-align: right;\">\n",
       "      <th></th>\n",
       "      <th>x</th>\n",
       "      <th>y</th>\n",
       "    </tr>\n",
       "  </thead>\n",
       "  <tbody>\n",
       "    <tr>\n",
       "      <th>0</th>\n",
       "      <td>4.85380</td>\n",
       "      <td>9.6227</td>\n",
       "    </tr>\n",
       "    <tr>\n",
       "      <th>1</th>\n",
       "      <td>8.00280</td>\n",
       "      <td>12.5130</td>\n",
       "    </tr>\n",
       "    <tr>\n",
       "      <th>2</th>\n",
       "      <td>1.41890</td>\n",
       "      <td>4.5829</td>\n",
       "    </tr>\n",
       "    <tr>\n",
       "      <th>3</th>\n",
       "      <td>4.21760</td>\n",
       "      <td>6.9348</td>\n",
       "    </tr>\n",
       "    <tr>\n",
       "      <th>4</th>\n",
       "      <td>9.15740</td>\n",
       "      <td>13.3100</td>\n",
       "    </tr>\n",
       "    <tr>\n",
       "      <th>...</th>\n",
       "      <td>...</td>\n",
       "      <td>...</td>\n",
       "    </tr>\n",
       "    <tr>\n",
       "      <th>995</th>\n",
       "      <td>0.25135</td>\n",
       "      <td>2.6935</td>\n",
       "    </tr>\n",
       "    <tr>\n",
       "      <th>996</th>\n",
       "      <td>4.21110</td>\n",
       "      <td>7.1046</td>\n",
       "    </tr>\n",
       "    <tr>\n",
       "      <th>997</th>\n",
       "      <td>1.84100</td>\n",
       "      <td>4.6258</td>\n",
       "    </tr>\n",
       "    <tr>\n",
       "      <th>998</th>\n",
       "      <td>7.25780</td>\n",
       "      <td>10.7310</td>\n",
       "    </tr>\n",
       "    <tr>\n",
       "      <th>999</th>\n",
       "      <td>3.70360</td>\n",
       "      <td>8.0693</td>\n",
       "    </tr>\n",
       "  </tbody>\n",
       "</table>\n",
       "<p>1000 rows × 2 columns</p>\n",
       "</div>"
      ],
      "text/plain": [
       "           x        y\n",
       "0    4.85380   9.6227\n",
       "1    8.00280  12.5130\n",
       "2    1.41890   4.5829\n",
       "3    4.21760   6.9348\n",
       "4    9.15740  13.3100\n",
       "..       ...      ...\n",
       "995  0.25135   2.6935\n",
       "996  4.21110   7.1046\n",
       "997  1.84100   4.6258\n",
       "998  7.25780  10.7310\n",
       "999  3.70360   8.0693\n",
       "\n",
       "[1000 rows x 2 columns]"
      ]
     },
     "execution_count": 25,
     "metadata": {},
     "output_type": "execute_result"
    }
   ],
   "source": [
    "df=pd.read_csv(\"./xy.csv\")\n",
    "df"
   ]
  },
  {
   "cell_type": "code",
   "execution_count": 26,
   "id": "simple-secondary",
   "metadata": {},
   "outputs": [],
   "source": [
    "x=df[\"x\"]\n",
    "y=df[\"y\"]"
   ]
  },
  {
   "cell_type": "code",
   "execution_count": 78,
   "id": "correct-belgium",
   "metadata": {},
   "outputs": [],
   "source": [
    "#ldata = np.log(df[\"variable\"])\n",
    "data=df.x.values"
   ]
  },
  {
   "cell_type": "code",
   "execution_count": 34,
   "id": "deadly-yorkshire",
   "metadata": {},
   "outputs": [
    {
     "data": {
      "image/png": "[encoded data removed]",
      "text/plain": [
       "<Figure size 640x460 with 1 Axes>"
      ]
     },
     "metadata": {
      "needs_background": "light"
     },
     "output_type": "display_data"
    }
   ],
   "source": [
    "fig = plt.figure(figsize =(6.4,4.6), dpi =100)\n",
    "ax =plt.subplot()\n",
    "ax.scatter (x, y,s=10)\n",
    "plt.ylabel('Y')\n",
    "plt.xlabel('X')\n",
    "plt.grid()\n",
    "plt.show()"
   ]
  },
  {
   "cell_type": "code",
   "execution_count": 79,
   "id": "caring-viewer",
   "metadata": {},
   "outputs": [],
   "source": [
    "def getLogLike(param):\n",
    "    \"\"\" Return the log likehood of the gaussian- dist data \n",
    "        given the vector parameters \"params\"=[std,a,b] \"\"\"\n",
    "    #b -\"m\"\n",
    "    #a -\"y-intercept\"\n",
    "   \n",
    "    avg  = (param[2]*x) + param[1]\n",
    "    std = np.exp(param[0])\n",
    "    ndata = len(data)\n",
    "    \n",
    "\n",
    "    lprob = - param[0]*ndata \\\n",
    "            - 18378.770664093452 \\\n",
    "            - np.sum((data -avg)**2) / (2* std**2)\n",
    "\n",
    "    \n",
    "    return lprob"
   ]
  },
  {
   "cell_type": "code",
   "execution_count": 77,
   "id": "surface-consciousness",
   "metadata": {
    "scrolled": true
   },
   "outputs": [
    {
     "data": {
      "text/plain": [
       "0       7.893056\n",
       "1      11.049838\n",
       "2       4.449667\n",
       "3       7.255283\n",
       "4      12.207291\n",
       "         ...    \n",
       "995     3.279231\n",
       "996     7.248767\n",
       "997     4.872810\n",
       "998    10.302997\n",
       "999     6.740013\n",
       "Name: x, Length: 1000, dtype: float64"
      ]
     },
     "execution_count": 77,
     "metadata": {},
     "output_type": "execute_result"
    }
   ],
   "source": [
    "m*x+b"
   ]
  },
  {
   "cell_type": "code",
   "execution_count": 80,
   "id": "solved-criterion",
   "metadata": {},
   "outputs": [
    {
     "data": {
      "text/plain": [
       "-29306.447084961488"
      ]
     },
     "execution_count": 80,
     "metadata": {},
     "output_type": "execute_result"
    }
   ],
   "source": [
    "getLogLike([1,1,3])"
   ]
  },
  {
   "cell_type": "code",
   "execution_count": 81,
   "id": "induced-annotation",
   "metadata": {},
   "outputs": [],
   "source": [
    "def negLogLike(param): return -getLogLike(param)"
   ]
  },
  {
   "cell_type": "code",
   "execution_count": 85,
   "id": "enhanced-circulation",
   "metadata": {},
   "outputs": [
    {
     "name": "stdout",
     "output_type": "stream",
     "text": [
      "Warning: Maximum number of function evaluations has been exceeded.\n",
      "Returns[σ= -15.872404106373104,a= -1.4504353171435898e-07,b= 1.0000000288912054 ]\n"
     ]
    }
   ],
   "source": [
    "from scipy.optimize import fmin\n",
    "bestParams = fmin (func = negLogLike, x0= [1,0,0])\n",
    "bestParams\n",
    "print('Returns[{}= {},a= {},b= {} ]'.format(chr(963),bestParams[0],bestParams[1],bestParams[2]))"
   ]
  },
  {
   "cell_type": "code",
   "execution_count": 87,
   "id": "ceramic-victoria",
   "metadata": {},
   "outputs": [
    {
     "name": "stdout",
     "output_type": "stream",
     "text": [
      "Warning: Maximum number of function evaluations has been exceeded.\n"
     ]
    },
    {
     "data": {
      "text/plain": [
       "array([ 6.11696744e-12, -1.02662681e-11,  1.00000000e+00])"
      ]
     },
     "execution_count": 87,
     "metadata": {},
     "output_type": "execute_result"
    }
   ],
   "source": [
    "def gaussian(params):\n",
    "    mean = (params[2]*x) + params[1]\n",
    "    std = params[0]\n",
    "\n",
    "    # Calculate negative log likelihood\n",
    "    nll = -np.sum(norm.logpdf(data, loc=mean, scale=std))\n",
    "\n",
    "    return nll\n",
    "fmin (func = gaussian, x0= [1,1,0])"
   ]
  },
  {
   "cell_type": "code",
   "execution_count": 41,
   "id": "cooperative-horse",
   "metadata": {},
   "outputs": [
    {
     "data": {
      "image/png": "[encoded data removed]",
      "text/plain": [
       "<Figure size 640x460 with 1 Axes>"
      ]
     },
     "metadata": {
      "needs_background": "light"
     },
     "output_type": "display_data"
    }
   ],
   "source": [
    "fig = plt.figure(figsize =(6.4,4.6), dpi =100)\n",
    "ax =plt.subplot()\n",
    "ax.scatter (x, y,s=10)\n",
    "\n",
    "m, b = np.polyfit(x, y, 1)\n",
    "plt.plot(x, m*x + b, color='r')\n",
    "\n",
    "plt.ylabel('Y')\n",
    "plt.xlabel('X')\n",
    "plt.grid()\n",
    "plt.show()\n"
   ]
  },
  {
   "cell_type": "code",
   "execution_count": 42,
   "id": "expressed-acrylic",
   "metadata": {},
   "outputs": [
    {
     "data": {
      "text/plain": [
       "(1.0024713258159264, 3.0272601840614173)"
      ]
     },
     "execution_count": 42,
     "metadata": {},
     "output_type": "execute_result"
    }
   ],
   "source": [
    "m,b\n",
    "#b~a"
   ]
  }
 ],
 "metadata": {
  "kernelspec": {
   "display_name": "Python 3",
   "language": "python",
   "name": "python3"
  },
  "language_info": {
   "codemirror_mode": {
    "name": "ipython",
    "version": 3
   },
   "file_extension": ".py",
   "mimetype": "text/x-python",
   "name": "python",
   "nbconvert_exporter": "python",
   "pygments_lexer": "ipython3",
   "version": "3.8.5"
  }
 },
 "nbformat": 4,
 "nbformat_minor": 5
}
